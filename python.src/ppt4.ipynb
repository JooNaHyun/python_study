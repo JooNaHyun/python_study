{
 "cells": [
  {
   "cell_type": "code",
   "execution_count": 1,
   "id": "13c7238c",
   "metadata": {},
   "outputs": [],
   "source": [
    "a=3 #변수 a에 3할당"
   ]
  },
  {
   "cell_type": "code",
   "execution_count": 2,
   "id": "f95003ff",
   "metadata": {},
   "outputs": [],
   "source": [
    "b=4 #변수 b에 4할당"
   ]
  },
  {
   "cell_type": "code",
   "execution_count": 3,
   "id": "783b1a78",
   "metadata": {},
   "outputs": [],
   "source": [
    "c=123+456*6 #변수c에 123+456*6를 연산한 값 할당"
   ]
  },
  {
   "cell_type": "code",
   "execution_count": 4,
   "id": "18bbbf67",
   "metadata": {},
   "outputs": [
    {
     "data": {
      "text/plain": [
       "(3, 4, 2859)"
      ]
     },
     "execution_count": 4,
     "metadata": {},
     "output_type": "execute_result"
    }
   ],
   "source": [
    "a,b,c#a,b,c랎 출력"
   ]
  },
  {
   "cell_type": "code",
   "execution_count": 5,
   "id": "3cfb5427",
   "metadata": {},
   "outputs": [
    {
     "ename": "SyntaxError",
     "evalue": "cannot assign to operator (Temp/ipykernel_22500/1001618493.py, line 1)",
     "output_type": "error",
     "traceback": [
      "\u001b[1;36m  File \u001b[1;32m\"C:\\Users\\ASUS\\AppData\\Local\\Temp/ipykernel_22500/1001618493.py\"\u001b[1;36m, line \u001b[1;32m1\u001b[0m\n\u001b[1;33m    a+b=c\u001b[0m\n\u001b[1;37m    ^\u001b[0m\n\u001b[1;31mSyntaxError\u001b[0m\u001b[1;31m:\u001b[0m cannot assign to operator\n"
     ]
    }
   ],
   "source": [
    "a+b=c #a+b가 c에 할당되는 것은 식이 맞지 않기 떄문에 오류가 난다."
   ]
  },
  {
   "cell_type": "code",
   "execution_count": 6,
   "id": "ca864e6e",
   "metadata": {},
   "outputs": [
    {
     "ename": "SyntaxError",
     "evalue": "cannot assign to operator (Temp/ipykernel_22500/1236383597.py, line 1)",
     "output_type": "error",
     "traceback": [
      "\u001b[1;36m  File \u001b[1;32m\"C:\\Users\\ASUS\\AppData\\Local\\Temp/ipykernel_22500/1236383597.py\"\u001b[1;36m, line \u001b[1;32m1\u001b[0m\n\u001b[1;33m    123+456=a\u001b[0m\n\u001b[1;37m    ^\u001b[0m\n\u001b[1;31mSyntaxError\u001b[0m\u001b[1;31m:\u001b[0m cannot assign to operator\n"
     ]
    }
   ],
   "source": [
    "123+456=a # =연산자는 변수가 왼쪽에 있어야하므로 이 코드는 오류가 난다."
   ]
  },
  {
   "cell_type": "code",
   "execution_count": 7,
   "id": "a910ddd2",
   "metadata": {},
   "outputs": [],
   "source": [
    "a=1 #a에 1을 할당"
   ]
  },
  {
   "cell_type": "code",
   "execution_count": 8,
   "id": "96ac03a5",
   "metadata": {},
   "outputs": [
    {
     "ename": "TypeError",
     "evalue": "unsupported operand type(s) for +: 'int' and 'str'",
     "output_type": "error",
     "traceback": [
      "\u001b[1;31m---------------------------------------------------------------------------\u001b[0m",
      "\u001b[1;31mTypeError\u001b[0m                                 Traceback (most recent call last)",
      "\u001b[1;32m~\\AppData\\Local\\Temp/ipykernel_22500/882027397.py\u001b[0m in \u001b[0;36m<module>\u001b[1;34m\u001b[0m\n\u001b[1;32m----> 1\u001b[1;33m \u001b[0ma\u001b[0m\u001b[1;33m=\u001b[0m\u001b[0ma\u001b[0m\u001b[1;33m+\u001b[0m\u001b[1;34m\"안녕\"\u001b[0m  \u001b[1;31m# a는    수치형\u001b[0m\u001b[1;33m\u001b[0m\u001b[1;33m\u001b[0m\u001b[0m\n\u001b[0m",
      "\u001b[1;31mTypeError\u001b[0m: unsupported operand type(s) for +: 'int' and 'str'"
     ]
    }
   ],
   "source": [
    "a=a+\"안녕\"  # a는    수치형"
   ]
  },
  {
   "cell_type": "code",
   "execution_count": 9,
   "id": "3d14c095",
   "metadata": {},
   "outputs": [],
   "source": [
    " a=\"abc\"  \n",
    "#a에 다시 문자를 대입하는 순간 a는 문자형이 됨"
   ]
  },
  {
   "cell_type": "code",
   "execution_count": 10,
   "id": "2283b1ba",
   "metadata": {},
   "outputs": [],
   "source": [
    "a=a+\"안녕\"\n",
    "#a는 a+안녕이라는 값이 할당 문자형이므로 이어져서 출력된다."
   ]
  },
  {
   "cell_type": "code",
   "execution_count": 11,
   "id": "c2c72e83",
   "metadata": {},
   "outputs": [
    {
     "data": {
      "text/plain": [
       "'abc안녕'"
      ]
     },
     "execution_count": 11,
     "metadata": {},
     "output_type": "execute_result"
    }
   ],
   "source": [
    "a #a출력"
   ]
  },
  {
   "cell_type": "code",
   "execution_count": 12,
   "id": "87610fed",
   "metadata": {},
   "outputs": [],
   "source": [
    "a=1 #변수 a에 1할당"
   ]
  },
  {
   "cell_type": "code",
   "execution_count": 13,
   "id": "eccddc2d",
   "metadata": {},
   "outputs": [],
   "source": [
    "b=2 #변수 b에 2할당"
   ]
  },
  {
   "cell_type": "code",
   "execution_count": 14,
   "id": "46175453",
   "metadata": {},
   "outputs": [
    {
     "data": {
      "text/plain": [
       "(1, 2)"
      ]
     },
     "execution_count": 14,
     "metadata": {},
     "output_type": "execute_result"
    }
   ],
   "source": [
    "a,b #a,b값 출력"
   ]
  },
  {
   "cell_type": "code",
   "execution_count": 15,
   "id": "14c5307a",
   "metadata": {},
   "outputs": [],
   "source": [
    "a,b=b,a #변수 a에 b의 값 할당 변수 b에 a값 할당"
   ]
  },
  {
   "cell_type": "code",
   "execution_count": 16,
   "id": "f7c303c7",
   "metadata": {},
   "outputs": [
    {
     "data": {
      "text/plain": [
       "(2, 1)"
      ]
     },
     "execution_count": 16,
     "metadata": {},
     "output_type": "execute_result"
    }
   ],
   "source": [
    "a,b #a,b값 출력"
   ]
  },
  {
   "cell_type": "code",
   "execution_count": 17,
   "id": "2ee376b4",
   "metadata": {},
   "outputs": [],
   "source": [
    "a,b,c,d,e,f=1,2,\"안녕\",\"하셔요\",3,4\n",
    "#여러 변수의 값을 한번에 대입할 수 있다."
   ]
  },
  {
   "cell_type": "code",
   "execution_count": 18,
   "id": "3a2297b5",
   "metadata": {},
   "outputs": [
    {
     "data": {
      "text/plain": [
       "(1, 2, '안녕', '하셔요', 3, 4)"
      ]
     },
     "execution_count": 18,
     "metadata": {},
     "output_type": "execute_result"
    }
   ],
   "source": [
    "a,b,c,d,e,f #a,b,c,d,e,f값 출력"
   ]
  },
  {
   "cell_type": "code",
   "execution_count": 19,
   "id": "855a5f42",
   "metadata": {},
   "outputs": [],
   "source": [
    "a=b=1 #a,b변수에 1할당"
   ]
  },
  {
   "cell_type": "code",
   "execution_count": 20,
   "id": "10a59ec4",
   "metadata": {},
   "outputs": [
    {
     "data": {
      "text/plain": [
       "(1, 1)"
      ]
     },
     "execution_count": 20,
     "metadata": {},
     "output_type": "execute_result"
    }
   ],
   "source": [
    "a,b #a,b값 출력"
   ]
  },
  {
   "cell_type": "code",
   "execution_count": 21,
   "id": "3c0c3b87",
   "metadata": {},
   "outputs": [],
   "source": [
    "b=2 #b에 2를 대입"
   ]
  },
  {
   "cell_type": "code",
   "execution_count": 22,
   "id": "0c6162d1",
   "metadata": {},
   "outputs": [
    {
     "data": {
      "text/plain": [
       "(1, 2)"
      ]
     },
     "execution_count": 22,
     "metadata": {},
     "output_type": "execute_result"
    }
   ],
   "source": [
    "a,b #a,b값 출력"
   ]
  },
  {
   "cell_type": "code",
   "execution_count": 23,
   "id": "df49de1b",
   "metadata": {},
   "outputs": [],
   "source": [
    "a=b=[1,2,3] \n",
    "#변수 a와 b에 [1,2,3] 리스트 대입\n",
    "#동일한 리스트 객체 참조"
   ]
  },
  {
   "cell_type": "code",
   "execution_count": 24,
   "id": "021cf6df",
   "metadata": {},
   "outputs": [
    {
     "data": {
      "text/plain": [
       "([1, 2, 3], [1, 2, 3])"
      ]
     },
     "execution_count": 24,
     "metadata": {},
     "output_type": "execute_result"
    }
   ],
   "source": [
    "a,b #a,b값 출력"
   ]
  },
  {
   "cell_type": "code",
   "execution_count": 25,
   "id": "0a3ae168",
   "metadata": {},
   "outputs": [],
   "source": [
    "a[1]=4 \n",
    "#a의 1번째 인댁스 값을 4로변경\n",
    "#a와 b가 참조하는 리스트는 동일한 객체이므로, \n",
    "#a의 변경이 b에도 영향을 미친다."
   ]
  },
  {
   "cell_type": "code",
   "execution_count": 26,
   "id": "73b6e168",
   "metadata": {},
   "outputs": [
    {
     "data": {
      "text/plain": [
       "([1, 4, 3], [1, 4, 3])"
      ]
     },
     "execution_count": 26,
     "metadata": {},
     "output_type": "execute_result"
    }
   ],
   "source": [
    "a,b #a,b출력(b의 1번째 인덱스도 4로 변경된 것을 확인할 수 있다.)"
   ]
  },
  {
   "cell_type": "code",
   "execution_count": 27,
   "id": "f8ccfe51",
   "metadata": {},
   "outputs": [],
   "source": [
    "a=[1,2,3,4,5]#변수 a에 리스트 [1,2,3,4,5] 대입"
   ]
  },
  {
   "cell_type": "code",
   "execution_count": 28,
   "id": "2037c6fc",
   "metadata": {},
   "outputs": [],
   "source": [
    "b=a[:] #변수b에 a의 값인 리스트를 복사"
   ]
  },
  {
   "cell_type": "code",
   "execution_count": 29,
   "id": "e2d4c2bc",
   "metadata": {},
   "outputs": [
    {
     "data": {
      "text/plain": [
       "([1, 2, 3, 4, 5], [1, 2, 3, 4, 5])"
      ]
     },
     "execution_count": 29,
     "metadata": {},
     "output_type": "execute_result"
    }
   ],
   "source": [
    "a,b #a,b값 출력"
   ]
  },
  {
   "cell_type": "code",
   "execution_count": 30,
   "id": "c9f1caff",
   "metadata": {},
   "outputs": [],
   "source": [
    "a[2]=5 \n",
    "#a의 인덱스 2번의 값을  5로 변경\n",
    "#a와 b가 참조하는 리스트는 동일한 객체이므로, \n",
    "#a의 변경이 b에도 영향을 미친다."
   ]
  },
  {
   "cell_type": "code",
   "execution_count": 31,
   "id": "0f4d49b0",
   "metadata": {},
   "outputs": [
    {
     "data": {
      "text/plain": [
       "([1, 2, 5, 4, 5], [1, 2, 3, 4, 5])"
      ]
     },
     "execution_count": 31,
     "metadata": {},
     "output_type": "execute_result"
    }
   ],
   "source": [
    "a,b #a,b출력(b의 2번째 인덱스도 5로 변경된 것을 확인할 수 있다.)"
   ]
  },
  {
   "cell_type": "code",
   "execution_count": 56,
   "id": "c9fa2098",
   "metadata": {},
   "outputs": [
    {
     "data": {
      "text/plain": [
       "2.5"
      ]
     },
     "execution_count": 56,
     "metadata": {},
     "output_type": "execute_result"
    }
   ],
   "source": [
    "1+2*3/4 #곱셈과 나눗셈을 먼저한 후 덧셈을 해준 값인 2.5를 출력"
   ]
  },
  {
   "cell_type": "code",
   "execution_count": 57,
   "id": "41735693",
   "metadata": {},
   "outputs": [
    {
     "data": {
      "text/plain": [
       "8"
      ]
     },
     "execution_count": 57,
     "metadata": {},
     "output_type": "execute_result"
    }
   ],
   "source": [
    "2**3 2의 3승인 8출력"
   ]
  },
  {
   "cell_type": "code",
   "execution_count": 58,
   "id": "52faf51a",
   "metadata": {},
   "outputs": [
    {
     "data": {
      "text/plain": [
       "3.3333333333333335"
      ]
     },
     "execution_count": 58,
     "metadata": {},
     "output_type": "execute_result"
    }
   ],
   "source": [
    "10/3 #10 나누기 3인 3.3333333333333335(반올림해서)출력"
   ]
  },
  {
   "cell_type": "code",
   "execution_count": 59,
   "id": "9c0f5cbd",
   "metadata": {},
   "outputs": [
    {
     "data": {
      "text/plain": [
       "1.23456789012e+23"
      ]
     },
     "execution_count": 59,
     "metadata": {},
     "output_type": "execute_result"
    }
   ],
   "source": [
    "1e12*123456789012 #지수 표현법"
   ]
  },
  {
   "cell_type": "code",
   "execution_count": 60,
   "id": "3e0012f7",
   "metadata": {},
   "outputs": [],
   "source": [
    "a=1+2j #a에 복수수인 1+2j값 할당"
   ]
  },
  {
   "cell_type": "code",
   "execution_count": 61,
   "id": "84b9f654",
   "metadata": {},
   "outputs": [
    {
     "data": {
      "text/plain": [
       "(124+14j)"
      ]
     },
     "execution_count": 61,
     "metadata": {},
     "output_type": "execute_result"
    }
   ],
   "source": [
    "a+(123+12j) #a+123+12j값인 124+14출력"
   ]
  },
  {
   "cell_type": "code",
   "execution_count": 62,
   "id": "9f7e82fe",
   "metadata": {},
   "outputs": [
    {
     "data": {
      "text/plain": [
       "2.5"
      ]
     },
     "execution_count": 62,
     "metadata": {},
     "output_type": "execute_result"
    }
   ],
   "source": [
    "5/2 #5나누기 2한 값인 2.5출력"
   ]
  },
  {
   "cell_type": "code",
   "execution_count": 63,
   "id": "52256a55",
   "metadata": {},
   "outputs": [
    {
     "data": {
      "text/plain": [
       "2"
      ]
     },
     "execution_count": 63,
     "metadata": {},
     "output_type": "execute_result"
    }
   ],
   "source": [
    "5//2 #//는 정수형 나눗셈이므로 2"
   ]
  },
  {
   "cell_type": "code",
   "execution_count": 64,
   "id": "5ede10fb",
   "metadata": {},
   "outputs": [
    {
     "data": {
      "text/plain": [
       "1"
      ]
     },
     "execution_count": 64,
     "metadata": {},
     "output_type": "execute_result"
    }
   ],
   "source": [
    "5%2 #5나누기 2한값에서 나머지가 1이기 떄문에 1"
   ]
  },
  {
   "cell_type": "code",
   "execution_count": 65,
   "id": "fdc2d39e",
   "metadata": {},
   "outputs": [
    {
     "name": "stdout",
     "output_type": "stream",
     "text": [
      "2\n"
     ]
    }
   ],
   "source": [
    "a=1;a=a+1;print(a)\n",
    "#a를 1로 초기화 ;a에 1을 더한 후 다시 a에 할당;따라서 2가 출력"
   ]
  },
  {
   "cell_type": "code",
   "execution_count": 66,
   "id": "50180396",
   "metadata": {},
   "outputs": [
    {
     "name": "stdout",
     "output_type": "stream",
     "text": [
      "2\n"
     ]
    }
   ],
   "source": [
    "a=1;a+=1;print(a)\n",
    "#a를 1로 초기화 ;a에 1을 더한 후 다시 a에 할당;따라서 2가 출력"
   ]
  },
  {
   "cell_type": "code",
   "execution_count": 67,
   "id": "2574149d",
   "metadata": {},
   "outputs": [
    {
     "data": {
      "text/plain": [
       "4"
      ]
     },
     "execution_count": 67,
     "metadata": {},
     "output_type": "execute_result"
    }
   ],
   "source": [
    "a*=2;a \n",
    "#a = a*2와 같은 코드로 2*2를 연산한 4가 a에 할당"
   ]
  },
  {
   "cell_type": "code",
   "execution_count": 68,
   "id": "59566aad",
   "metadata": {},
   "outputs": [
    {
     "data": {
      "text/plain": [
       "8"
      ]
     },
     "execution_count": 68,
     "metadata": {},
     "output_type": "execute_result"
    }
   ],
   "source": [
    "a*=2;a\n",
    "#a = a*2와 같은 코드로 4*2를 연산한 8이 a에 할당"
   ]
  },
  {
   "cell_type": "code",
   "execution_count": 69,
   "id": "c6e9b7ff",
   "metadata": {},
   "outputs": [
    {
     "data": {
      "text/plain": [
       "0"
      ]
     },
     "execution_count": 69,
     "metadata": {},
     "output_type": "execute_result"
    }
   ],
   "source": [
    "a=1;a-=1;a\n",
    "#a를 1로 초기화; a = a-1과 같은 코드로 0이 a에 할당; a값(0) 출력"
   ]
  },
  {
   "cell_type": "code",
   "execution_count": 70,
   "id": "af96563b",
   "metadata": {},
   "outputs": [
    {
     "data": {
      "text/plain": [
       "-1"
      ]
     },
     "execution_count": 70,
     "metadata": {},
     "output_type": "execute_result"
    }
   ],
   "source": [
    "a-=1;a\n",
    "#a=a-1이랑 같은 코드로 0-1을 연산한 -1값이 a에 할당; a값(-1) 출력"
   ]
  },
  {
   "cell_type": "code",
   "execution_count": 71,
   "id": "0304db13",
   "metadata": {},
   "outputs": [],
   "source": [
    "a=1 #a를 1로 초기화"
   ]
  },
  {
   "cell_type": "code",
   "execution_count": 72,
   "id": "f6a9479a",
   "metadata": {},
   "outputs": [
    {
     "ename": "SyntaxError",
     "evalue": "invalid syntax (Temp/ipykernel_22500/1277751513.py, line 1)",
     "output_type": "error",
     "traceback": [
      "\u001b[1;36m  File \u001b[1;32m\"C:\\Users\\ASUS\\AppData\\Local\\Temp/ipykernel_22500/1277751513.py\"\u001b[1;36m, line \u001b[1;32m1\u001b[0m\n\u001b[1;33m    a++\u001b[0m\n\u001b[1;37m       ^\u001b[0m\n\u001b[1;31mSyntaxError\u001b[0m\u001b[1;31m:\u001b[0m invalid syntax\n"
     ]
    }
   ],
   "source": [
    "a++ #파이썬에서는 ++는 사용할 수 없다"
   ]
  },
  {
   "cell_type": "code",
   "execution_count": 73,
   "id": "1cefcb3b",
   "metadata": {},
   "outputs": [
    {
     "ename": "SyntaxError",
     "evalue": "invalid syntax (Temp/ipykernel_22500/1562500846.py, line 1)",
     "output_type": "error",
     "traceback": [
      "\u001b[1;36m  File \u001b[1;32m\"C:\\Users\\ASUS\\AppData\\Local\\Temp/ipykernel_22500/1562500846.py\"\u001b[1;36m, line \u001b[1;32m1\u001b[0m\n\u001b[1;33m    a--\u001b[0m\n\u001b[1;37m       ^\u001b[0m\n\u001b[1;31mSyntaxError\u001b[0m\u001b[1;31m:\u001b[0m invalid syntax\n"
     ]
    }
   ],
   "source": [
    "a-- #파이썬에서는 --는 사용할 수 없다"
   ]
  },
  {
   "cell_type": "code",
   "execution_count": 78,
   "id": "75f98388",
   "metadata": {},
   "outputs": [],
   "source": [
    "a=\"멍멍이\"#변수 a에 문자형 멍멍이 할당"
   ]
  },
  {
   "cell_type": "code",
   "execution_count": 79,
   "id": "a8dac251",
   "metadata": {},
   "outputs": [],
   "source": [
    "b=\"고양이\"#변수 b에 문자형 고양이 할당"
   ]
  },
  {
   "cell_type": "code",
   "execution_count": 80,
   "id": "3a6a6cc5",
   "metadata": {},
   "outputs": [
    {
     "data": {
      "text/plain": [
       "'멍멍이고양이'"
      ]
     },
     "execution_count": 80,
     "metadata": {},
     "output_type": "execute_result"
    }
   ],
   "source": [
    "a+b #문자형끼리 더하면 문자끼리 이어지므로 멍멍이고양이 출력"
   ]
  },
  {
   "cell_type": "code",
   "execution_count": 81,
   "id": "6a51513d",
   "metadata": {},
   "outputs": [
    {
     "data": {
      "text/plain": [
       "'멍멍이멍멍이멍멍이고양이고양이'"
      ]
     },
     "execution_count": 81,
     "metadata": {},
     "output_type": "execute_result"
    }
   ],
   "source": [
    "a*3+b*2 #a 3번, b 2번출력(문자형이므로 이어서 출력)"
   ]
  },
  {
   "cell_type": "code",
   "execution_count": 82,
   "id": "bbf79ef9",
   "metadata": {},
   "outputs": [
    {
     "data": {
      "text/plain": [
       "'--------------------'"
      ]
     },
     "execution_count": 82,
     "metadata": {},
     "output_type": "execute_result"
    }
   ],
   "source": [
    "\"-\"*20 #-20번 출력"
   ]
  },
  {
   "cell_type": "code",
   "execution_count": 83,
   "id": "f7abfea6",
   "metadata": {},
   "outputs": [],
   "source": [
    "a=1 #a 1로 초기화"
   ]
  },
  {
   "cell_type": "code",
   "execution_count": 84,
   "id": "bdc89e0c",
   "metadata": {},
   "outputs": [
    {
     "ename": "TypeError",
     "evalue": "can only concatenate str (not \"int\") to str",
     "output_type": "error",
     "traceback": [
      "\u001b[1;31m---------------------------------------------------------------------------\u001b[0m",
      "\u001b[1;31mTypeError\u001b[0m                                 Traceback (most recent call last)",
      "\u001b[1;32m~\\AppData\\Local\\Temp/ipykernel_22500/2301415248.py\u001b[0m in \u001b[0;36m<module>\u001b[1;34m\u001b[0m\n\u001b[1;32m----> 1\u001b[1;33m \u001b[0mb\u001b[0m\u001b[1;33m=\u001b[0m\u001b[1;34m\"강아지\"\u001b[0m\u001b[1;33m+\u001b[0m\u001b[0ma\u001b[0m\u001b[1;33m+\u001b[0m\u001b[1;34m\"마리\"\u001b[0m\u001b[1;33m\u001b[0m\u001b[1;33m\u001b[0m\u001b[0m\n\u001b[0m",
      "\u001b[1;31mTypeError\u001b[0m: can only concatenate str (not \"int\") to str"
     ]
    }
   ],
   "source": [
    "b=\"강아지\"+a+\"마리\" #a는 정수형이므로 문자형이랑 못 더한다."
   ]
  },
  {
   "cell_type": "code",
   "execution_count": 85,
   "id": "f93c381d",
   "metadata": {},
   "outputs": [],
   "source": [
    "b=\"강아지\"+str(a)+\"마리\" # a를 문자형으로 바꿔서 더해준다."
   ]
  },
  {
   "cell_type": "code",
   "execution_count": 86,
   "id": "8903cc5e",
   "metadata": {},
   "outputs": [
    {
     "data": {
      "text/plain": [
       "'강아지1마리'"
      ]
     },
     "execution_count": 86,
     "metadata": {},
     "output_type": "execute_result"
    }
   ],
   "source": [
    "b #문자끼리 더해졌으므로 이어서 출력됨"
   ]
  },
  {
   "cell_type": "code",
   "execution_count": 87,
   "id": "ec0813ab",
   "metadata": {},
   "outputs": [
    {
     "data": {
      "text/plain": [
       "44032"
      ]
     },
     "execution_count": 87,
     "metadata": {},
     "output_type": "execute_result"
    }
   ],
   "source": [
    "ord(\"가\") //문자의 내부코드 반환"
   ]
  },
  {
   "cell_type": "code",
   "execution_count": 88,
   "id": "e09262ea",
   "metadata": {},
   "outputs": [
    {
     "data": {
      "text/plain": [
       "'0x61'"
      ]
     },
     "execution_count": 88,
     "metadata": {},
     "output_type": "execute_result"
    }
   ],
   "source": [
    "hex(ord(\"a\")) //문자의 내부코드를 반환해서 16진수로 바꾼다."
   ]
  },
  {
   "cell_type": "code",
   "execution_count": 89,
   "id": "14e379aa",
   "metadata": {},
   "outputs": [
    {
     "name": "stdout",
     "output_type": "stream",
     "text": [
      "0x61 = a , 0x62 = b , 0x63 = c , 0x64 = d , 0x65 = e , 0x66 = f , 0x67 = g , 0x68 = h , 0x69 = i , 0x6a = j , 0x6b = k , 0x6c = l , 0x6d = m , 0x6e = n , 0x6f = o , 0x70 = p , 0x71 = q , 0x72 = r , 0x73 = s , 0x74 = t , 0x75 = u , 0x76 = v , 0x77 = w , 0x78 = x , 0x79 = y , 0x7a = z , "
     ]
    }
   ],
   "source": [
    "for c in range (ord('a'), ord('z')+1):\n",
    "#range() 함수를 이용하여 'a'부터 'z'까지의 \n",
    "#내부 코드값을 갖는 정수형 변수 c를 반복\n",
    "    print(hex(c),\"=\",chr(c),\", \",end=\"\")\n",
    "   # hex() 함수를 이용하여 변수 c의 내부 코드값을 16진수 형태로 출력하고\n",
    "   #chr() 함수를 이용하여 내부 코드값을 갖는 변수 c의 해당 문자를 출력\n",
    "   #end=\"\" 옵션을 이용하여 출력 후 줄바꿈을 하지 않고 출력"
   ]
  },
  {
   "cell_type": "code",
   "execution_count": 90,
   "id": "c325927d",
   "metadata": {},
   "outputs": [
    {
     "ename": "TypeError",
     "evalue": "can only concatenate str (not \"int\") to str",
     "output_type": "error",
     "traceback": [
      "\u001b[1;31m---------------------------------------------------------------------------\u001b[0m",
      "\u001b[1;31mTypeError\u001b[0m                                 Traceback (most recent call last)",
      "\u001b[1;32m~\\AppData\\Local\\Temp/ipykernel_22500/1109038260.py\u001b[0m in \u001b[0;36m<module>\u001b[1;34m\u001b[0m\n\u001b[1;32m----> 1\u001b[1;33m \u001b[0ma\u001b[0m\u001b[1;33m=\u001b[0m\u001b[1;34m\"123\"\u001b[0m\u001b[1;33m;\u001b[0m \u001b[0ma\u001b[0m\u001b[1;33m+\u001b[0m\u001b[1;36m1\u001b[0m\u001b[1;33m\u001b[0m\u001b[1;33m\u001b[0m\u001b[0m\n\u001b[0m",
      "\u001b[1;31mTypeError\u001b[0m: can only concatenate str (not \"int\") to str"
     ]
    }
   ],
   "source": [
    "a=\"123\"; a+1 \n",
    "#a에 문자형123할당\n",
    "#a가 문자형 1이 정수형이므로 연산이 불가하기 떄문에 오류가 난다."
   ]
  },
  {
   "cell_type": "code",
   "execution_count": 91,
   "id": "b9c25a2f",
   "metadata": {},
   "outputs": [
    {
     "data": {
      "text/plain": [
       "124"
      ]
     },
     "execution_count": 91,
     "metadata": {},
     "output_type": "execute_result"
    }
   ],
   "source": [
    "a=\"123\"; int(a)+1\n",
    "#a에 문자형123할당\n",
    "#a가 문자형 1이 정수형이므로 a를 int형으로 바꿔서 연산"
   ]
  },
  {
   "cell_type": "code",
   "execution_count": 92,
   "id": "f55c447a",
   "metadata": {},
   "outputs": [
    {
     "data": {
      "text/plain": [
       "12"
      ]
     },
     "execution_count": 92,
     "metadata": {},
     "output_type": "execute_result"
    }
   ],
   "source": [
    "a=12.3; int(a)\n",
    "#a에 12.3 할당\n",
    "#int는 정수형이므로 12.3에서 소수점을 뺀 12가 된다."
   ]
  },
  {
   "cell_type": "code",
   "execution_count": 93,
   "id": "3c7d192c",
   "metadata": {},
   "outputs": [
    {
     "ename": "ValueError",
     "evalue": "invalid literal for int() with base 10: '12.3'",
     "output_type": "error",
     "traceback": [
      "\u001b[1;31m---------------------------------------------------------------------------\u001b[0m",
      "\u001b[1;31mValueError\u001b[0m                                Traceback (most recent call last)",
      "\u001b[1;32m~\\AppData\\Local\\Temp/ipykernel_22500/1719517367.py\u001b[0m in \u001b[0;36m<module>\u001b[1;34m\u001b[0m\n\u001b[1;32m----> 1\u001b[1;33m \u001b[0ma\u001b[0m\u001b[1;33m=\u001b[0m\u001b[1;34m\"12.3\"\u001b[0m\u001b[1;33m;\u001b[0m\u001b[0mint\u001b[0m\u001b[1;33m(\u001b[0m\u001b[0ma\u001b[0m\u001b[1;33m)\u001b[0m\u001b[1;33m\u001b[0m\u001b[1;33m\u001b[0m\u001b[0m\n\u001b[0m",
      "\u001b[1;31mValueError\u001b[0m: invalid literal for int() with base 10: '12.3'"
     ]
    }
   ],
   "source": [
    "a=\"12.3\";int(a)\n",
    "#a에 문자형 12.3 할당\n",
    "#int는 정수형인데 12.3은 문자형이므로 변환이 안되서 오류가 난다"
   ]
  },
  {
   "cell_type": "code",
   "execution_count": 94,
   "id": "2551717b",
   "metadata": {},
   "outputs": [
    {
     "data": {
      "text/plain": [
       "12.3"
      ]
     },
     "execution_count": 94,
     "metadata": {},
     "output_type": "execute_result"
    }
   ],
   "source": [
    "float(a)\n",
    "#float는 실수형으로 12.3출력"
   ]
  },
  {
   "cell_type": "code",
   "execution_count": 95,
   "id": "3493c87c",
   "metadata": {
    "scrolled": true
   },
   "outputs": [
    {
     "data": {
      "text/plain": [
       "14.1"
      ]
     },
     "execution_count": 95,
     "metadata": {},
     "output_type": "execute_result"
    }
   ],
   "source": [
    "a=1.1;1+a+12\n",
    "#a에 1.1로 초기화; 1+1.1+12인 14.값 출력"
   ]
  },
  {
   "cell_type": "code",
   "execution_count": 96,
   "id": "6cb4b488",
   "metadata": {},
   "outputs": [
    {
     "data": {
      "text/plain": [
       "14"
      ]
     },
     "execution_count": 96,
     "metadata": {},
     "output_type": "execute_result"
    }
   ],
   "source": [
    "1+int(a)+12\n",
    "#a값을 int형으로 변환하면 1이므로 1+1+12를 연산한 값인 14 출력"
   ]
  },
  {
   "cell_type": "code",
   "execution_count": 99,
   "id": "09ceefa0",
   "metadata": {},
   "outputs": [],
   "source": [
    "a=1234567 # a에 1234567값 할당"
   ]
  },
  {
   "cell_type": "code",
   "execution_count": 100,
   "id": "da943bf7",
   "metadata": {},
   "outputs": [
    {
     "data": {
      "text/plain": [
       "1235000"
      ]
     },
     "execution_count": 100,
     "metadata": {},
     "output_type": "execute_result"
    }
   ],
   "source": [
    " if(a%1000 != 0 ) :  #1000으로 나누어 나머지가 있다면 \n",
    "    a=int(a/1000)*1000+1000 #버린값에다 한자리를 올려 줌\n",
    "else: #1000으로 나누어 나머지가 없다면\n",
    "    a=int(a/1000)*1000 #세자리 버림\n",
    "    \n",
    "a"
   ]
  },
  {
   "cell_type": "code",
   "execution_count": 1,
   "id": "e427440f",
   "metadata": {},
   "outputs": [
    {
     "data": {
      "text/plain": [
       "3"
      ]
     },
     "execution_count": 1,
     "metadata": {},
     "output_type": "execute_result"
    }
   ],
   "source": [
    "int(3.14) # 3.14를 정수형으로 바꾸면 3"
   ]
  },
  {
   "cell_type": "code",
   "execution_count": null,
   "id": "ac4dab47",
   "metadata": {},
   "outputs": [],
   "source": []
  }
 ],
 "metadata": {
  "kernelspec": {
   "display_name": "Python 3 (ipykernel)",
   "language": "python",
   "name": "python3"
  },
  "language_info": {
   "codemirror_mode": {
    "name": "ipython",
    "version": 3
   },
   "file_extension": ".py",
   "mimetype": "text/x-python",
   "name": "python",
   "nbconvert_exporter": "python",
   "pygments_lexer": "ipython3",
   "version": "3.9.7"
  }
 },
 "nbformat": 4,
 "nbformat_minor": 5
}
