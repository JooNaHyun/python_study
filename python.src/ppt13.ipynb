{
 "cells": [
  {
   "cell_type": "code",
   "execution_count": 29,
   "id": "c9f724cc",
   "metadata": {},
   "outputs": [
    {
     "name": "stdout",
     "output_type": "stream",
     "text": [
      "2층입니다\n",
      "3층입니다\n",
      "4층입니다\n",
      "5층입니다\n",
      "6층입니다\n",
      "7층입니다\n",
      "8층입니다\n",
      "9층입니다\n",
      "10층입니다\n",
      "11층입니다\n",
      "12층입니다\n",
      "13층입니다\n",
      "14층입니다\n",
      "15층입니다\n",
      "최상층 입니다\n",
      "최상층 입니다\n",
      "최상층 입니다\n",
      "최상층 입니다\n",
      "최상층 입니다\n",
      "최상층 입니다\n",
      "14층입니다\n",
      "13층입니다\n",
      "12층입니다\n",
      "11층입니다\n",
      "10층입니다\n",
      "9층입니다\n",
      "8층입니다\n",
      "7층입니다\n",
      "6층입니다\n",
      "5층입니다\n",
      "4층입니다\n",
      "3층입니다\n",
      "2층입니다\n",
      "1층입니다\n",
      "0층입니다\n",
      "최하층 입니다\n",
      "최하층 입니다\n",
      "최하층 입니다\n",
      "최하층 입니다\n",
      "최하층 입니다\n"
     ]
    }
   ],
   "source": [
    "myclass = elevator(1,15,0,\"\") #(현재1층, 최저0층, 최고15층, 메시지)\n",
    "                              #값으로 클래스생성\n",
    "for i in range(20):  #20번 up()를 실행 \n",
    "    myclass.up() #엘리베이터를 1층 올린다.\n",
    "for i in range(20):  #20번 down()을 실행\n",
    "    myclass.down() #엘리베이터를 1층 내린다"
   ]
  },
  {
   "cell_type": "code",
   "execution_count": 68,
   "id": "304ed5ee",
   "metadata": {},
   "outputs": [],
   "source": [
    "class elevator: #elevator 클래스 정의\n",
    "    def __init__(self,floor,limit_up_floor,limit_down_floor,msg):\n",
    "        self.floor=floor                      # 현재 층수를 초기화\n",
    "        self.limit_up_floor=limit_up_floor    # 최고층을 초기화\n",
    "        self.limit_down_floor=limit_down_floor# 최저층을 초기화\n",
    "        self.msg=msg                          # 엘리베이터 안내 메시지를 초기화\n",
    "        \n",
    "    #__init__() : 생성자 함수, floor(현재 층), limit_up_floor(최고층), \n",
    "    #limit_down_floor(최저층), msg(엘리베이터 안내 메시지)를 초기화\n",
    "        \n",
    "    def up(self): # 엘리베이터를 위로 올리는 함수\n",
    "        if self.floor == self.limit_up_floor:  # 만약 현재 층수가 최고층이면\n",
    "            self.msg=\"최상층 입니다\"           # \"최상층입니다\" 메시지를 출력\n",
    "        else:                                 # 그렇지 않으면\n",
    "            self.floor+=1                     # 층수를 1층 씩 올린다.\n",
    "            self.msg=str(self.floor)+\"층입니다\" # 현재 층수와 \"층입니다\" 메시지를 출력\n",
    "        print(self.msg)\n",
    "        \n",
    "    def down(self):\n",
    "        if self.floor == self.limit_down_floor: # 만약 현재 층수가 최저층이면\n",
    "            self.msg=\"최하층 입니다\"           # \"최하층입니다\" 메시지를 출력\n",
    "        else:                                 # 그렇지 않으면\n",
    "            self.floor-=1                     # 층수를 1층 씩 내린다.\n",
    "            self.msg=str(self.floor)+\"층입니다\" # 현재 층수와 \"층입니다\" 메시지를 출력\n",
    "        print(self.msg)                        # 엘리베이터 안내 메시지 출력\n"
   ]
  },
  {
   "cell_type": "code",
   "execution_count": 36,
   "id": "49e4474a",
   "metadata": {},
   "outputs": [
    {
     "name": "stdout",
     "output_type": "stream",
     "text": [
      "myclass->2층입니다\n",
      "yourclass->6층입니다\n",
      "myclass->3층입니다\n",
      "yourclass->7층입니다\n",
      "myclass->4층입니다\n",
      "yourclass->8층입니다\n",
      "myclass->5층입니다\n",
      "yourclass->9층입니다\n",
      "myclass->6층입니다\n",
      "yourclass->10층입니다\n",
      "myclass->7층입니다\n",
      "yourclass->최상층 입니다\n",
      "myclass->8층입니다\n",
      "yourclass->최상층 입니다\n",
      "myclass->9층입니다\n",
      "yourclass->최상층 입니다\n",
      "myclass->10층입니다\n",
      "yourclass->최상층 입니다\n",
      "myclass->11층입니다\n",
      "yourclass->최상층 입니다\n",
      "myclass->12층입니다\n",
      "yourclass->최상층 입니다\n",
      "myclass->13층입니다\n",
      "yourclass->최상층 입니다\n",
      "myclass->14층입니다\n",
      "yourclass->최상층 입니다\n",
      "myclass->15층입니다\n",
      "yourclass->최상층 입니다\n",
      "myclass->최상층 입니다\n",
      "yourclass->최상층 입니다\n",
      "myclass->최상층 입니다\n",
      "yourclass->최상층 입니다\n",
      "myclass->최상층 입니다\n",
      "yourclass->최상층 입니다\n",
      "myclass->최상층 입니다\n",
      "yourclass->최상층 입니다\n",
      "myclass->최상층 입니다\n",
      "yourclass->최상층 입니다\n",
      "myclass->최상층 입니다\n",
      "yourclass->최상층 입니다\n",
      "myclass->14층입니다\n",
      "yourclass->9층입니다\n",
      "myclass->13층입니다\n",
      "yourclass->8층입니다\n",
      "myclass->12층입니다\n",
      "yourclass->7층입니다\n",
      "myclass->11층입니다\n",
      "yourclass->6층입니다\n",
      "myclass->10층입니다\n",
      "yourclass->5층입니다\n",
      "myclass->9층입니다\n",
      "yourclass->4층입니다\n",
      "myclass->8층입니다\n",
      "yourclass->3층입니다\n",
      "myclass->7층입니다\n",
      "yourclass->2층입니다\n",
      "myclass->6층입니다\n",
      "yourclass->1층입니다\n",
      "myclass->5층입니다\n",
      "yourclass->0층입니다\n",
      "myclass->4층입니다\n",
      "yourclass->-1층입니다\n",
      "myclass->3층입니다\n",
      "yourclass->최하층 입니다\n",
      "myclass->2층입니다\n",
      "yourclass->최하층 입니다\n",
      "myclass->1층입니다\n",
      "yourclass->최하층 입니다\n",
      "myclass->0층입니다\n",
      "yourclass->최하층 입니다\n",
      "myclass->최하층 입니다\n",
      "yourclass->최하층 입니다\n",
      "myclass->최하층 입니다\n",
      "yourclass->최하층 입니다\n",
      "myclass->최하층 입니다\n",
      "yourclass->최하층 입니다\n",
      "myclass->최하층 입니다\n",
      "yourclass->최하층 입니다\n",
      "myclass->최하층 입니다\n",
      "yourclass->최하층 입니다\n"
     ]
    }
   ],
   "source": [
    "myclass = elevator(1,15,0,\"\") #(현재1층, 최저0층, 최고15층, 메시지)값으로 클래스생성 \n",
    "yourclass = elevator(5,10,-1,\"\") #(현재1층, 최저0층, 최고15층, 메시지)값으로 클래스생성\n",
    "for i in range(20):  #20번 up()를    실행 \n",
    "    print(\"myclass->\",end=\"\") \n",
    "    #print(\"myclass->\",end=\"\")는 \"myclass->\" 문자열을 출력하고, \n",
    "    #end=\"\"는 출력 후 줄바꿈을 하지 않도록 합니다.\n",
    "    myclass.up()\n",
    "    #myclass 객체에 대해 up() 메서드를 실행\n",
    "    print(\"yourclass->\",end=\"\")\n",
    "    #print(\"yourclass->\",end=\"\")는 \"yourclass->\" 문자열을 출력하고, \n",
    "    #end=\"\"는 출력 후 줄바꿈을 하지 않도록 합니다.\n",
    "    yourclass.up()\n",
    "    ##myclass 객체에 대해 up() 메서드를 실행\n",
    "for i in range(20):  #20번 down()을    실행 \n",
    "    print(\"myclass->\",end=\"\")\n",
    "    #print(\"myclass->\",end=\"\")는 \"myclass->\" 문자열을 출력하고, \n",
    "    #end=\"\"는 출력 후 줄바꿈을 하지 않도록 합니다.\n",
    "    myclass.down()\n",
    "    #myclass 객체에 대해 down() 메서드를 실행\n",
    "    print(\"yourclass->\",end=\"\") \n",
    "    #print(\"yourclass->\",end=\"\")는 \"yourclass->\" 문자열을 출력하고, \n",
    "    #end=\"\"는 출력 후 줄바꿈을 하지 않도록 합니다.\n",
    "    yourclass.down()\n",
    "    #yourclass 객체에 대해 up() 메서드를 실행"
   ]
  },
  {
   "cell_type": "code",
   "execution_count": 63,
   "id": "4a3be9fd",
   "metadata": {},
   "outputs": [],
   "source": [
    "class elevator: #elevator 클래스 정의\n",
    "    def __init__(self,floor,limit_up_floor,limit_down_floor,msg):\n",
    "        self.floor=floor #현재 층수 초기화\n",
    "        self.limit_up_floor=limit_up_floor #최고층수 초기화\n",
    "        self.limit_down_floor=limit_down_floor  #최저층수 초기화\n",
    "        self.msg=msg #메시지 초기화"
   ]
  },
  {
   "cell_type": "code",
   "execution_count": 64,
   "id": "09fdafb6",
   "metadata": {},
   "outputs": [],
   "source": [
    "#(현재1층, 최저0층, 최고15층, 메시지)값으로    클래스생성 \n",
    "myclass = elevator(1,15,0,\"\")\n",
    "#(현재1층, 최저0층, 최고15층, 메시지)값으로    클래스생성 \n",
    "yourclass = elevator(5,10,-1,\"\")"
   ]
  },
  {
   "cell_type": "code",
   "execution_count": 70,
   "id": "037f655a",
   "metadata": {},
   "outputs": [],
   "source": [
    "class s_elevator(elevator): #elevator 클래스를 상속받는 클래스\n",
    "    def __init__(self): #elevator 클래스의 생성자를 오버라이드\n",
    "        super().__init__(1,15,0,\"\") \n",
    "        #elevator 클래스의 생성자를 호출하고, floor 값을 1, limit_up_floor 값을 15, \n",
    "        #limit_down_floor 값을 0, msg 값을 빈 문자열로 초기화\n",
    "    def up(self):\n",
    "        super().up() #elevator 클래스의 up() 메소드를 오버라이드\n",
    "        super().up() #super().up()을 두 번 호출하므로, floor 값을 2 층씩 올리게 된다.\n",
    "    def down(self): \n",
    "        super().down() #elevator 클래스의 down() 메소드를 오버라이드\n",
    "        super().down() #super().down()을 두 번 호출하므로, floor 값을 2 층씩 내리게 된다."
   ]
  },
  {
   "cell_type": "code",
   "execution_count": 71,
   "id": "d6fc64c2",
   "metadata": {},
   "outputs": [
    {
     "name": "stdout",
     "output_type": "stream",
     "text": [
      "2층입니다\n",
      "3층입니다\n",
      "2층입니다\n",
      "1층입니다\n",
      "2층입니다\n",
      "3층입니다\n",
      "2층입니다\n",
      "1층입니다\n",
      "2층입니다\n",
      "3층입니다\n",
      "2층입니다\n",
      "1층입니다\n",
      "2층입니다\n",
      "3층입니다\n",
      "2층입니다\n",
      "1층입니다\n",
      "2층입니다\n",
      "3층입니다\n",
      "2층입니다\n",
      "1층입니다\n",
      "2층입니다\n",
      "3층입니다\n",
      "2층입니다\n",
      "1층입니다\n",
      "2층입니다\n",
      "3층입니다\n",
      "2층입니다\n",
      "1층입니다\n",
      "2층입니다\n",
      "3층입니다\n",
      "2층입니다\n",
      "1층입니다\n",
      "2층입니다\n",
      "3층입니다\n",
      "2층입니다\n",
      "1층입니다\n",
      "2층입니다\n",
      "3층입니다\n",
      "2층입니다\n",
      "1층입니다\n",
      "2층입니다\n",
      "3층입니다\n",
      "2층입니다\n",
      "1층입니다\n",
      "2층입니다\n",
      "3층입니다\n",
      "2층입니다\n",
      "1층입니다\n",
      "2층입니다\n",
      "3층입니다\n",
      "2층입니다\n",
      "1층입니다\n",
      "2층입니다\n",
      "3층입니다\n",
      "2층입니다\n",
      "1층입니다\n",
      "2층입니다\n",
      "3층입니다\n",
      "2층입니다\n",
      "1층입니다\n",
      "2층입니다\n",
      "3층입니다\n",
      "2층입니다\n",
      "1층입니다\n",
      "2층입니다\n",
      "3층입니다\n",
      "2층입니다\n",
      "1층입니다\n",
      "2층입니다\n",
      "3층입니다\n",
      "2층입니다\n",
      "1층입니다\n",
      "2층입니다\n",
      "3층입니다\n",
      "2층입니다\n",
      "1층입니다\n",
      "2층입니다\n",
      "3층입니다\n",
      "2층입니다\n",
      "1층입니다\n"
     ]
    }
   ],
   "source": [
    "#myclass = elevator(1,15,0,\"\") \n",
    "myclass = s_elevator()\n",
    "#s_elevator 클래스의 인스턴스 myclass를 생성합니다.\n",
    "for i in range(20):  #20번 up()를 실행 \n",
    "    myclass.up()\n",
    "    #myclass 인스턴스의 up() 메서드를 호출힌다. \n",
    "    #s_elevator 클래스는 elevator 클래스를 상속받기 때문에, \n",
    "    #up() 메서드는 elevator 클래스의 up() 메서드가 먼저 호출되고, \n",
    "    #이후에 super().up()를 호출하여 elevator 클래스의 up() 메서드를 한 번 더 호출힌다. \n",
    "    #따라서 myclass 인스턴스는 2층씩 올라간다.\n",
    "    myclass.down()\n",
    "    #myclass 인스턴스의 down() 메서드를 호출한다. \n",
    "    #s_elevator 클래스는 elevator 클래스를 상속받기 때문에, \n",
    "    #down() 메서드는 elevator 클래스의 down() 메서드가 먼저 호출되고, \n",
    "    #이후에 super().down()를 호출하여 elevator 클래스의 down() 메서드를 한 번 더 호출힌다. \n",
    "    #따라서 myclass 인스턴스는 2층씩 내려간다."
   ]
  },
  {
   "cell_type": "code",
   "execution_count": 52,
   "id": "569a5b03",
   "metadata": {},
   "outputs": [
    {
     "name": "stdout",
     "output_type": "stream",
     "text": [
      "3125\n"
     ]
    }
   ],
   "source": [
    "class multibox:\n",
    "    def __init__(self,multi): # 생성자 함수\n",
    "        self.multi=multi   # 멤버 변수 multi를 초기화\n",
    "    def getnumber(self):   # 인스턴스 메서드\n",
    "        return self.num**self.multi # num의 multi 제곱 값을 반환\n",
    "    def setnumber(self,num): # 인스턴스 메서드\n",
    "        self.num=num  # 멤버 변수 num을 초기화\n",
    "m=multibox(5)   # multi에 5를 할당하여 multibox 클래스의 인스턴스 m을 생성\n",
    "m.setnumber(5)  # m의 num 멤버 변수에 5를 할당\n",
    "print(m.getnumber()) # num에 5가 할당되어 있으므로, num의 multi 제곱 값을 반환하는 getnumber() 메서드를 호출하여 결과값 3125 출력\n"
   ]
  },
  {
   "cell_type": "code",
   "execution_count": 53,
   "id": "a3aa2357",
   "metadata": {},
   "outputs": [
    {
     "name": "stdout",
     "output_type": "stream",
     "text": [
      "3125\n"
     ]
    }
   ],
   "source": [
    "class multibox:\n",
    "#multibox 클래스 정의\n",
    "    def __init__(self,multi): \n",
    "        self.multi=multi\n",
    "        #이 메서드에서 multi 값을 받아 인스턴스 변수 multi를 초기화한다.\n",
    "    def getnumber(self):\n",
    "        return self.num**self.multi \n",
    "         #이 메서드에서는 현재 객체의 num 인스턴스 변수를 이용하여 num ** self.multi 값을 반환\n",
    "    def setnumber(self,num):\n",
    "        self.num=num\n",
    "        #이 메서드에서는 num 값을 받아 현재 객체의 num 인스턴스 변수를 초기화\n",
    "    number=property(getnumber,setnumber)\n",
    "    #number 프로퍼티를 정의한다. \n",
    "    #getnumber 메서드를 number 프로퍼티의 getter로, setnumber 메서드를 number 프로퍼티의 setter로 사용\n",
    "m=multibox(5) \n",
    "#multibox 클래스의 객체 m을 생성하며, multi 값으로 5를 넘긴다.\n",
    "m.number=5 \n",
    "#m.number에 5를 할당\n",
    "print(m.number)\n",
    "#print(m.number)를 실행하여 getnumber 메서드가 호출되며, 5 ** 5인 3125가 출력"
   ]
  },
  {
   "cell_type": "code",
   "execution_count": 54,
   "id": "cc86c738",
   "metadata": {},
   "outputs": [
    {
     "name": "stdout",
     "output_type": "stream",
     "text": [
      "3125\n"
     ]
    }
   ],
   "source": [
    "class multibox: #multibox 클래스를 정의\n",
    "    def __init__(self,multi):\n",
    "        self.multi=multi\n",
    "        #multi 매개변수를 받아서 인스턴스 변수 multi를 초기화\n",
    "    @property #데코레이터로 선언 \n",
    "              #number를 읽을 때 호출되는 getter 메서드를 정의\n",
    "    def number(self):\n",
    "        return self.num**self.multi\n",
    "        #num 인스턴스 변수를 multi 제곱하여 반환\n",
    "    @number.setter # number를 설정할 때 호출되는 setter 메서드를 정의\n",
    "    def number(self,num):  \n",
    "        self.num=num # 인스턴스 변수 num을 설정\n",
    "m=multibox(5) #multi에 5를 전달하여 multibox 클래스의 인스턴스 m을 생성\n",
    "m.number=5 #number setter 메서드를 호출하여 num 인스턴스 변수를 5로 설정\n",
    "print(m.number) #number getter 메서드를 호출하여 num을 multi 제곱한 값을 출력"
   ]
  },
  {
   "cell_type": "code",
   "execution_count": 74,
   "id": "383420f4",
   "metadata": {},
   "outputs": [
    {
     "name": "stdout",
     "output_type": "stream",
     "text": [
      "클래스 참조횟수는 2 회 입니다\n"
     ]
    }
   ],
   "source": [
    "class myclass:\n",
    "# myclass 클래스 정의\n",
    "    cnt=0 # 클래스 변수 cnt를 0으로 초기화\n",
    "    def __init__(self): \n",
    "    # 인스턴스 생성 시 cnt 값을 1 증가시킨다.\n",
    "        myclass.cnt+=1 #myclass의 static 변수 \n",
    "    @classmethod #클래스 메서드 선언\n",
    "    def refcount(cls): #self가 아니라  cls로 정의 \n",
    "        print(\"클래스 참조횟수는\",cls.cnt,\"회 입니다\")\n",
    "        # 현재 클래스의 cnt 값을 출력한다.\n",
    "a=myclass()\n",
    "# myclass 인스턴스 a를 생성한다.\n",
    "b=myclass()\n",
    "# myclass 인스턴스 b를 생성한다.\n",
    "myclass.refcount()\n",
    "# myclass의 refcount 메서드를 호출하여 클래스 참조 횟수를 출력한다.\n"
   ]
  },
  {
   "cell_type": "code",
   "execution_count": 56,
   "id": "bebd8285",
   "metadata": {},
   "outputs": [
    {
     "name": "stdout",
     "output_type": "stream",
     "text": [
      "이 클래스는 아무런 일도 하지 않는다\n",
      "이 클래스는 아무런 일도 하지 않는다\n"
     ]
    }
   ],
   "source": [
    "class myclass:\n",
    "#클래스 myclass 를 정의\n",
    "\n",
    "    cnt=0 #cnt 라는 이름으로 내부 static 변수를 선언하고 초기값으로 0을 할당\n",
    "\n",
    "    def __init__(self): \n",
    "        myclass.cnt+=1 \n",
    "        # 이 메소드는 myclass 인스턴스가 생성될 때마다 호출된다. \n",
    "        #__init__ 메소드 안에서는 myclass.cnt 를 1 증가\n",
    "\n",
    "    @staticmethod \n",
    "    def helf():\n",
    "        print(\"이 클래스는 아무런 일도 하지 않는다\")\n",
    "\n",
    "myclass.helf() # \"이 클래스는 아무런 일도 하지 않는다\" 를 출력하는 helf() 메소드를 호출\n",
    "\n",
    "a=myclass() \n",
    "myclass.helf() # \"이 클래스는 아무런 일도 하지 않는다\" 를 출력하는 helf() 메소드를 호출\n"
   ]
  },
  {
   "cell_type": "code",
   "execution_count": 57,
   "id": "faf1320c",
   "metadata": {},
   "outputs": [
    {
     "name": "stdout",
     "output_type": "stream",
     "text": [
      "defabc\n"
     ]
    }
   ],
   "source": [
    "class mystr:\n",
    "# mystr 클래스 정의\n",
    "    def __init__(self,s): \n",
    "        self.s=s\n",
    "        # mystr 클래스의 인스턴스를 생성할 때, 인자 s를 받아서 인스턴스 변수 self.s에 할당\n",
    "    def __add__(self, other): # 클래스간 +연산자를 정의\n",
    "        return other.s + self.s \n",
    "        # + 연산자가 수행될 때, other와 self의 s값을 더한 결과를 반환\n",
    "a = mystr(\"abc\") \n",
    "# 인자 \"abc\"를 가지고 mystr 클래스의 인스턴스 a를 생성\n",
    "b = mystr(\"def\") \n",
    "# 인자 \"def\"를 가지고 mystr 클래스의 인스턴스 b를 생성\n",
    "print(a+b) \n",
    "# a와 b를 더한 결과를 출력\n",
    "# \"+\" 연산자가 a.__add__(b) 메서드를 호출하며, b가 other로 전달되고 self는 a로 전달되어서 other.s와 self.s를 더하게 된다.\n",
    "# 따라서 \"defabc\"가 출력된다.\n"
   ]
  },
  {
   "cell_type": "code",
   "execution_count": 58,
   "id": "a8e138c5",
   "metadata": {},
   "outputs": [
    {
     "name": "stdout",
     "output_type": "stream",
     "text": [
      "9.99999999999998\n"
     ]
    }
   ],
   "source": [
    "sum=0 #변수 sum에 초기값 0을 할당\n",
    "for i in range(100): #0부터 99까지의 정수를 순서대로 i에 할당하면서 반복문을 실행\n",
    "    sum+=0.1\n",
    "    #sum에 0.1을 더한다.\n",
    "    #0.1은 2진 부동소수점으로 정확하게 표현되지 않기 때문에 반복문이 100번 실행되면서 \n",
    "    #미세한 오차들이 누적된다.\n",
    "print(sum)#누적된 sum을 출력"
   ]
  },
  {
   "cell_type": "code",
   "execution_count": 72,
   "id": "9121ba6a",
   "metadata": {},
   "outputs": [
    {
     "name": "stdout",
     "output_type": "stream",
     "text": [
      "0.1 => 9.99999999999998\n",
      "0.1000000000000000055511151231257827021181583404541015625 => 10.00000000000000055511151230\n",
      "0.1 => 10.0\n"
     ]
    }
   ],
   "source": [
    "from decimal import Decimal \n",
    "#Decimal 클래스를 import 한다.\n",
    "a_sum=0;b_sum=0;c_sum=0 \n",
    "#a_sum, b_sum, c_sum 변수를 각각 0으로 초기화\n",
    "a=0.1 #a 변수를 0.1로 초기화\n",
    "b=Decimal(a) #b 변수를 a의 Decimal형으로 초기화\n",
    "c=Decimal(\"0.1\") #c 변수를 문자열 \"0.1\"의 Decimal형으로 초기화\n",
    "for i in range(100): #0부터 99까지 100번 반복\n",
    "    a_sum+=a #a_sum에 a를 더한다.\n",
    "    b_sum+=b #b_sum에 b를 더한다. Decimal 형이므로 정확한 값이 계산\n",
    "    c_sum+=c#c_sum에 c를 더한다. Decimal 형이므로 정확한 값이 계산\n",
    "print(a,\"=>\",a_sum)#a와 a_sum을 출력\n",
    "#a는 부동소수점으로 계산되었기 때문에 0.1의 정확한 값과는 차이가 있다.\n",
    "print(b,\"=>\",b_sum)#b와 b_sum을 출력\n",
    "#b는 Decimal 형으로 정확한 값으로 계산되었다.\n",
    "print(c,\"=>\",c_sum)#c와 c_sum을 출력\n",
    "#c는 문자열 형태로 Decimal 형으로 정확한 값으로 계산되었다."
   ]
  },
  {
   "cell_type": "code",
   "execution_count": 73,
   "id": "8e10592c",
   "metadata": {},
   "outputs": [
    {
     "name": "stdout",
     "output_type": "stream",
     "text": [
      "2/3 + 1/2 = 7/6\n",
      "2/3 * 1/2 = 1/3\n",
      "2/3 * 1.5 = 2.1666666666666665\n"
     ]
    }
   ],
   "source": [
    "from fractions import *\n",
    "#ractions 모듈에서 모든 함수와 클래스를 import 한다.\n",
    "a=Fraction(2,3) #3분의 2\n",
    "b=Fraction(5,10) #10분의 5로 약분되어 1/2\n",
    "print(a,\"+\",b,\"=\",a+b)#a, b의 합을 출력\n",
    "print(a,\"*\",b,\"=\",a*b)#a, b의 곱을 출력\n",
    "print(a,\"*\",1.5,\"=\",a+1.5)#a와 1.5의 합을 출력"
   ]
  },
  {
   "cell_type": "code",
   "execution_count": null,
   "id": "ced77d17",
   "metadata": {},
   "outputs": [],
   "source": []
  }
 ],
 "metadata": {
  "kernelspec": {
   "display_name": "Python 3 (ipykernel)",
   "language": "python",
   "name": "python3"
  },
  "language_info": {
   "codemirror_mode": {
    "name": "ipython",
    "version": 3
   },
   "file_extension": ".py",
   "mimetype": "text/x-python",
   "name": "python",
   "nbconvert_exporter": "python",
   "pygments_lexer": "ipython3",
   "version": "3.8.8rc1"
  }
 },
 "nbformat": 4,
 "nbformat_minor": 5
}
