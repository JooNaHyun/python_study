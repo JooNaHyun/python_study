{
 "cells": [
  {
   "cell_type": "code",
   "execution_count": 4,
   "id": "639249cd",
   "metadata": {},
   "outputs": [
    {
     "name": "stdout",
     "output_type": "stream",
     "text": [
      "이름이    뭐니?주나현\n",
      "주인님 어서오십시요\n"
     ]
    }
   ],
   "source": [
    "name =  input(\"이름이    뭐니?\") # 이름이    뭐니?에 대한 질문에 입력 받기\n",
    "if name == \"주나현\" : #만약 naeme이 주나현이라면\n",
    "    print(\"주인님 어서오십시요\") #\"주인님 어서오십시요\"출력"
   ]
  },
  {
   "cell_type": "code",
   "execution_count": null,
   "id": "26db1448",
   "metadata": {},
   "outputs": [],
   "source": [
    "name =  input(\"성별이 어떻게 되나요?\") \n",
    "# 성별이 어떻게 되나요?에 대한 질문에 입력 받기\n",
    "if name == \"남자\" : #만약 naeme이 남자라면\n",
    "    print(\"넥타이가 멋있습니다.\") #\"넥타이가 멋있습니다\"출력\n",
    "else:#만약 naeme이 여자라면\n",
    "    print(\"립스틱색이 예쁘네요.\")#\"\"립스틱색이 예쁘네요.\"출력"
   ]
  },
  {
   "cell_type": "code",
   "execution_count": null,
   "id": "eb9ba6ca",
   "metadata": {},
   "outputs": [],
   "source": [
    "price =  int(input(\"얼마를 구매하셨나요?\")) \n",
    "# 얼마를 구매하셨나요?에 대한 질문에 입력 받기\n",
    "if price < 10000 : #만약 price가 10000보다 작다면\n",
    "    print(\"면세입니다.\") #\"면세입니다.\"출력\n",
    "else:#만약 price가 10000보다 크다면\n",
    "    print(\"세금은 10%입니다.\")#\"세금은 10%입니다.\"출력"
   ]
  },
  {
   "cell_type": "code",
   "execution_count": null,
   "id": "614832a9",
   "metadata": {},
   "outputs": [],
   "source": [
    "a=100 #변수 a에 100을 할당"
   ]
  },
  {
   "cell_type": "code",
   "execution_count": null,
   "id": "eac95be0",
   "metadata": {},
   "outputs": [],
   "source": [
    "if (a==99): print(\"a는 99입니다\")\n",
    "#만약 a가 99라면 \"a는 99입니다\" 출력"
   ]
  },
  {
   "cell_type": "code",
   "execution_count": null,
   "id": "9de3b434",
   "metadata": {},
   "outputs": [],
   "source": [
    "if (a==100): print(\"a는 100입니다\")\n",
    "#만약 a가 100라면 \"a는 100입니다\" 출력"
   ]
  },
  {
   "cell_type": "code",
   "execution_count": null,
   "id": "b0161a60",
   "metadata": {},
   "outputs": [],
   "source": [
    "if (a>=100): print(\"a는 100이상입니다\")\n",
    "#만약 a가 100이상이라면 \"a는 100이상입니다\" 출력"
   ]
  },
  {
   "cell_type": "code",
   "execution_count": null,
   "id": "dcfd701b",
   "metadata": {},
   "outputs": [],
   "source": [
    "if (a<100): print(\"a는 100미만입니다\")\n",
    "#만약 a가 100미만이라면 \"a는 100미만입니다\" 출력"
   ]
  },
  {
   "cell_type": "code",
   "execution_count": null,
   "id": "4c0ba848",
   "metadata": {},
   "outputs": [],
   "source": [
    "a=\"abc\" #a에 문자형 abc할당"
   ]
  },
  {
   "cell_type": "code",
   "execution_count": null,
   "id": "68b525b8",
   "metadata": {},
   "outputs": [],
   "source": [
    "if(a == \"abc\"): print(\"abc이다\")\n",
    "#a가 abc라면 \"abc이다\" 출력"
   ]
  },
  {
   "cell_type": "code",
   "execution_count": null,
   "id": "6eb18886",
   "metadata": {},
   "outputs": [],
   "source": [
    " a=\"abc\"#a에 문자형 abc할당"
   ]
  },
  {
   "cell_type": "code",
   "execution_count": null,
   "id": "bbf50d9c",
   "metadata": {},
   "outputs": [],
   "source": [
    "if(a > \"abc\"): print(\"abc보다 큰문자이다\")\n",
    "#a가 abc보다 크면 (사전 순서에서 \"abc\"보다 뒤에 온다면)\n",
    "#\"abc보다 큰문자이다\"출력"
   ]
  },
  {
   "cell_type": "code",
   "execution_count": null,
   "id": "66091b8a",
   "metadata": {},
   "outputs": [],
   "source": [
    "a=\"abd\"#a에 문자형 abd할당"
   ]
  },
  {
   "cell_type": "code",
   "execution_count": null,
   "id": "50d9eaed",
   "metadata": {},
   "outputs": [],
   "source": [
    "if(a > \"abc\"): print(\"abc보다 큰문자이다\")\n",
    "#a가 abc보다 크면 (사전 순서에서 \"abc\"보다 뒤에 온다면)\n",
    "#\"abc보다 큰문자이다\"출력"
   ]
  },
  {
   "cell_type": "code",
   "execution_count": null,
   "id": "a52e4f8e",
   "metadata": {},
   "outputs": [],
   "source": [
    "a=\"abb\"#a에 문자형 abb할당"
   ]
  },
  {
   "cell_type": "code",
   "execution_count": null,
   "id": "eaf1b02c",
   "metadata": {},
   "outputs": [],
   "source": [
    "if(a > \"abc\"): print(\"abc보다 큰문자이다\")\n",
    "#a가 abc보다 크면 (사전 순서에서 \"abc\"보다 뒤에 온다면)\n",
    "#\"abc보다 큰문자이다\"출력"
   ]
  },
  {
   "cell_type": "code",
   "execution_count": null,
   "id": "79835db1",
   "metadata": {},
   "outputs": [],
   "source": [
    "x =  int(input(\"점수를 입력하셔요?\"))\n",
    "# 점수를 입력하셔요?에 대한 질문에 입력 받기\n",
    "if 0 <= x and x < 60 : print(\"학점은 F입니다.\")\n",
    "#입력받은 점수가 0이상 60미만이면 \"학점은 F입니다.\"출력\n",
    "if 60 <= x and x < 70 : print(\"학점은 D입니다.\") \n",
    "#입력받은 점수가 60이상 70미만이면 \"학점은 D입니다.\"출력\n",
    "if 70 <= x and x < 80 : print(\"학점은 C입니다.\") \n",
    "#입력받은 점수가 70이상 80미만이면 \"학점은 C입니다.\"출력\n",
    "if 80 <= x and x < 90 : print(\"학점은 B입니다.\") \n",
    "#입력받은 점수가 80이상 90미만이면 \"학점은 B입니다.\"출력\n",
    "if 90 <= x and x <= 100 : print(\"학점은 A입니다.\")\n",
    "#입력받은 점수가 90이상 100미만이면 \"학점은 A입니다.\"출력"
   ]
  },
  {
   "cell_type": "code",
   "execution_count": null,
   "id": "b63917a4",
   "metadata": {},
   "outputs": [],
   "source": [
    "x =  input(\"영문 알파벳 한글자를 입력하셔요?\")\n",
    "# 영문 알파벳 한글자를 입력하셔요?에 대한 질문에 입력 받기\n",
    "if \"a\" <= x and x <= \"z\" : print(\"소문자 입니다.\") \n",
    "#입력받은 알파벳이 a이상 z이하이면 \"소문자 입니다.\"출력\n",
    "if \"A\" <= x and x <= \"Z\" : print(\"대문자 입니다.\")\n",
    "#입력받은 알파벳이 A이상 Z이하이면 \"대문자 입니다.\"출력"
   ]
  },
  {
   "cell_type": "code",
   "execution_count": null,
   "id": "7f0157f2",
   "metadata": {},
   "outputs": [],
   "source": [
    "a=100 #변수 a에 100할당"
   ]
  },
  {
   "cell_type": "code",
   "execution_count": null,
   "id": "71b54715",
   "metadata": {},
   "outputs": [],
   "source": [
    "if a>50: #a가 50보다 작으면\n",
    "    print (\"50보다 큰수는 50을 빼겠습니다.\")\n",
    "    #\"50보다    큰수는    50을    빼겠습니다.\"출력\n",
    "        a = a - 50\n",
    "        #a에 50을 뺀 값을 a에 할당\n",
    "        #들여쓰기를 하면 안 되는데 했으므로 오류가 난다."
   ]
  },
  {
   "cell_type": "code",
   "execution_count": null,
   "id": "e3076f56",
   "metadata": {},
   "outputs": [],
   "source": [
    "if a>50: #a가 50보다 작으면\n",
    "    print (\"50보다 큰수는 50을 빼겠습니다.\")\n",
    "    #\"50보다    큰수는    50을    빼겠습니다.\"출력\n",
    "    a = a - 50\n",
    "    #a에 50을 뺀 값을 a에 할당\n",
    "    #들여쓰기가 제대로 되어있는 경우"
   ]
  },
  {
   "cell_type": "code",
   "execution_count": null,
   "id": "0c5a7f7c",
   "metadata": {},
   "outputs": [],
   "source": [
    "print(a) #a를 출력"
   ]
  },
  {
   "cell_type": "code",
   "execution_count": null,
   "id": "b52d7fe2",
   "metadata": {},
   "outputs": [],
   "source": [
    "x=int(input(\"점수를 입력하셔요?(0~100)\")) \n",
    "# 점수를 입력하셔요?(0~100)에 대한 질문에 입력 받기\n",
    "if x >= 90 : print (\"학점은 A입니다\")\n",
    "#입력받은 점수가 90이상 \"학점은 A입니다.\"출력\n",
    "elif x >= 80 : print (\"학점은 B입니다\")\n",
    "#입력받은 점수가 80이상 \"학점은 B입니다.\"출력 \n",
    "#파이썬이에서 elseif가 elif이다.\n",
    "elif x >= 70 : print (\"학점은 C입니다\")\n",
    "#입력받은 점수가 70이상 \"학점은 C입니다.\"출력 \n",
    "elif x >= 60 : print (\"학점은 D입니다\") \n",
    "#입력받은 점수가 60이상 \"학점은 D입니다.\"출력 \n",
    "else  : print (\"학점은 F입니다\")\n",
    "#입력받은 점수가 60미만이면 \"학점은 F입니다.\"출력 "
   ]
  },
  {
   "cell_type": "code",
   "execution_count": null,
   "id": "ab1908b0",
   "metadata": {
    "scrolled": true
   },
   "outputs": [],
   "source": [
    "x=int(input(\"숫자를 입력하셔요?\")) \n",
    "# 점수를 입력하셔요?(0~100)에 대한 질문에 입력 받기\n",
    "if x % 2 == 0 :\n",
    "#입력받은 점수를 2로 나눈 나머지가 0이면\n",
    "    if x%4==0:\n",
    "    #입력받은 점수를 4로 나눈 나머지가 0이면\n",
    "        print(\"4의 배수인 짝수입니다(당연히 짝수)\") \n",
    "        #\"4의 배수인 짝수입니다(당연히 짝수)\"출력\n",
    "    else:\n",
    "    #입력받은 점수를 4로 나눈 나머지가 0이 아니면\n",
    "        print(\"4의 배수가 아닌 짝수입니다\");\n",
    "        #\"4의 배수가 아닌 짝수입니다\"출력\n",
    "elif x%3==0:\n",
    "#입력받은 점수를 3로 나눈 나머지가 0이면\n",
    "    print(\"3의 배수인 홀수 입니다\") \n",
    "    #\"3의 배수인 홀수 입니다\"출력\n",
    "else:\n",
    "#입력받은 점수를 3로 나눈 나머지가 0이 아니라면\n",
    "    print (\"3의 배수가 아닌 홀수입니다\")\n",
    "    #\"3의 배수가 아닌 홀수 입니다\"출력"
   ]
  },
  {
   "cell_type": "code",
   "execution_count": null,
   "id": "039f934f",
   "metadata": {},
   "outputs": [],
   "source": [
    "total_amount = 1000000 # 총 금액 (원)\n",
    "exchange_rate = 1010.12 # 달러 환율\n",
    "bank_fee_rate = 0.00002 # 은행 환전 수수료\n",
    "\n",
    "# 달러로 바꾼 금액 계산\n",
    "dollar_amount = (total_amount - bank_fee) / exchange_rate\n",
    "\n",
    "# 은행 환전 수수료 계산\n",
    "bank_fee = dollar_amount * bank_fee_rate\n",
    "\n",
    "# 한화 거스름돈 계산\n",
    "change = total_amount - (dollar_amount * exchange_rate)\n",
    "\n",
    "# 결과 출력\n",
    "print('총금액:', total_amount, '원', '\\t', '달러환율:', exchange_rate, '$')\n",
    "# 총금액과 달러환율 출력 \n",
    "#\\t를 써서 총금액과 달러환율 사이에 탭을 띄운다.\n",
    "print('지급달러:', int(dollar_amount), '$')\n",
    "# 지급 달러 출력\n",
    "print('거스름돈:', int(change), '원', '\\t', '은행수수료:', bank_fee, '원')\n",
    "#거스름돈과 은행 수수료 출력\n",
    "#\\t를 써서 총금액과 달러환율 사이에 탭을 띄운다."
   ]
  },
  {
   "cell_type": "code",
   "execution_count": null,
   "id": "886f1537",
   "metadata": {},
   "outputs": [],
   "source": [
    "total_amount = 1000000 # 총 금액 (원)\n",
    "exchange_rate = 1010.12 # 달러 환율\n",
    "bank_fee_rate = 0.00002 # 은행 환전 수수료\n",
    "\n",
    "# 달러로 바꾼 금액 계산\n",
    "dollar_amount = total_amount / exchange_rate\n",
    "\n",
    "# 은행 환전 수수료 계산\n",
    "bank_fee = dollar_amount * bank_fee_rate\n",
    "\n",
    "# 한화 거스름돈 계산\n",
    "change = total_amount - (dollar_amount * exchange_rate)\n",
    "\n",
    "# 결과 출력\n",
    "print('총금액:', int(total_amount), '원', '\\t', '달러환율:', exchange_rate, '$')\n",
    "# 총금액과 달러환율 출력 \n",
    "#\\t를 써서 총금액과 달러환율 사이에 탭을 띄운다.\n",
    "print('지급달러:', int(dollar_amount), '$')\n",
    "# 지급 달러 출력\n",
    "print('거스름돈:', int(change), '원', '\\t', '은행수수료:', int(bank_fee), '원')\n",
    "#거스름돈과 은행 수수료 출력\n",
    "#\\t를 써서 총금액과 달러환율 사이에 탭을 띄운다.\n",
    "\n"
   ]
  },
  {
   "cell_type": "code",
   "execution_count": null,
   "id": "b425a863",
   "metadata": {},
   "outputs": [],
   "source": []
  }
 ],
 "metadata": {
  "kernelspec": {
   "display_name": "Python 3 (ipykernel)",
   "language": "python",
   "name": "python3"
  },
  "language_info": {
   "codemirror_mode": {
    "name": "ipython",
    "version": 3
   },
   "file_extension": ".py",
   "mimetype": "text/x-python",
   "name": "python",
   "nbconvert_exporter": "python",
   "pygments_lexer": "ipython3",
   "version": "3.9.7"
  }
 },
 "nbformat": 4,
 "nbformat_minor": 5
}
