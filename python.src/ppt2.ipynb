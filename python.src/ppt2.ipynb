{
 "cells": [
  {
   "cell_type": "code",
   "execution_count": 7,
   "id": "3d1a8dc2",
   "metadata": {},
   "outputs": [
    {
     "name": "stdout",
     "output_type": "stream",
     "text": [
      "스위치    on\n"
     ]
    }
   ],
   "source": [
    "sw = 1 # sw에1을 할당\n",
    "if sw == 1: #sw가 1이라면\n",
    "    print(\"스위치    on\") #\"스위치 on\" 출력\n",
    "else:\n",
    "    print(\"스위치    off\")#\"스위치 off\" 출력"
   ]
  },
  {
   "cell_type": "code",
   "execution_count": 8,
   "id": "92979e23",
   "metadata": {},
   "outputs": [
    {
     "data": {
      "text/plain": [
       "12"
      ]
     },
     "execution_count": 8,
     "metadata": {},
     "output_type": "execute_result"
    }
   ],
   "source": [
    "1+2;3+4; 5+ 7"
   ]
  },
  {
   "cell_type": "code",
   "execution_count": 9,
   "id": "d783a17c",
   "metadata": {},
   "outputs": [
    {
     "name": "stdout",
     "output_type": "stream",
     "text": [
      "3\n"
     ]
    }
   ],
   "source": [
    "print(1+2) # 1+2 연산한 결과를 print(소문자)"
   ]
  },
  {
   "cell_type": "code",
   "execution_count": 10,
   "id": "ed3e6781",
   "metadata": {},
   "outputs": [
    {
     "ename": "NameError",
     "evalue": "name 'Print' is not defined",
     "output_type": "error",
     "traceback": [
      "\u001b[1;31m---------------------------------------------------------------------------\u001b[0m",
      "\u001b[1;31mNameError\u001b[0m                                 Traceback (most recent call last)",
      "\u001b[1;32m~\\AppData\\Local\\Temp/ipykernel_14548/4026299771.py\u001b[0m in \u001b[0;36m<module>\u001b[1;34m\u001b[0m\n\u001b[1;32m----> 1\u001b[1;33m \u001b[0mPrint\u001b[0m\u001b[1;33m(\u001b[0m\u001b[1;36m1\u001b[0m\u001b[1;33m+\u001b[0m\u001b[1;36m2\u001b[0m\u001b[1;33m)\u001b[0m\u001b[1;33m\u001b[0m\u001b[1;33m\u001b[0m\u001b[0m\n\u001b[0m",
      "\u001b[1;31mNameError\u001b[0m: name 'Print' is not defined"
     ]
    }
   ],
   "source": [
    "Print(1+2) # 1+2 연산한 결과를 print(첫 글자 대문자)"
   ]
  },
  {
   "cell_type": "code",
   "execution_count": 11,
   "id": "997f2b48",
   "metadata": {},
   "outputs": [
    {
     "ename": "NameError",
     "evalue": "name 'PRINT' is not defined",
     "output_type": "error",
     "traceback": [
      "\u001b[1;31m---------------------------------------------------------------------------\u001b[0m",
      "\u001b[1;31mNameError\u001b[0m                                 Traceback (most recent call last)",
      "\u001b[1;32m~\\AppData\\Local\\Temp/ipykernel_14548/1034711369.py\u001b[0m in \u001b[0;36m<module>\u001b[1;34m\u001b[0m\n\u001b[1;32m----> 1\u001b[1;33m \u001b[0mPRINT\u001b[0m\u001b[1;33m(\u001b[0m\u001b[1;36m1\u001b[0m\u001b[1;33m+\u001b[0m\u001b[1;36m2\u001b[0m\u001b[1;33m)\u001b[0m\u001b[1;33m\u001b[0m\u001b[1;33m\u001b[0m\u001b[0m\n\u001b[0m",
      "\u001b[1;31mNameError\u001b[0m: name 'PRINT' is not defined"
     ]
    }
   ],
   "source": [
    "PRINT(1+2) # 1+2 연산한 결과를 print(대문자)"
   ]
  },
  {
   "cell_type": "code",
   "execution_count": 12,
   "id": "c06c85fd",
   "metadata": {},
   "outputs": [],
   "source": [
    "1+2; #1+2연산\n",
    "3+3; #3+3연산\n",
    "4+3; #4+3연산"
   ]
  },
  {
   "cell_type": "code",
   "execution_count": 13,
   "id": "19330df4",
   "metadata": {},
   "outputs": [
    {
     "data": {
      "text/plain": [
       "7"
      ]
     },
     "execution_count": 13,
     "metadata": {},
     "output_type": "execute_result"
    }
   ],
   "source": [
    "1+2 #1+2연산\n",
    "3+3 #3+3연산\n",
    "4+3 #4+3연산"
   ]
  },
  {
   "cell_type": "code",
   "execution_count": 14,
   "id": "864917a6",
   "metadata": {},
   "outputs": [
    {
     "name": "stdout",
     "output_type": "stream",
     "text": [
      "3\n",
      "3\n"
     ]
    }
   ],
   "source": [
    "a=1\n",
    "b=2\n",
    "print(a+b)\n",
    "print(1+2)"
   ]
  },
  {
   "cell_type": "code",
   "execution_count": 15,
   "id": "a66f7d68",
   "metadata": {},
   "outputs": [],
   "source": [
    "abc =1 #abc에 1할당"
   ]
  },
  {
   "cell_type": "code",
   "execution_count": 16,
   "id": "223d6c9f",
   "metadata": {},
   "outputs": [
    {
     "data": {
      "text/plain": [
       "3"
      ]
     },
     "execution_count": 16,
     "metadata": {},
     "output_type": "execute_result"
    }
   ],
   "source": [
    "1+2 #1+2연산"
   ]
  },
  {
   "cell_type": "code",
   "execution_count": 17,
   "id": "65acc24f",
   "metadata": {},
   "outputs": [
    {
     "data": {
      "text/plain": [
       "1"
      ]
     },
     "execution_count": 17,
     "metadata": {},
     "output_type": "execute_result"
    }
   ],
   "source": [
    "abc #abc값 출력"
   ]
  },
  {
   "cell_type": "code",
   "execution_count": 18,
   "id": "cf0eff0e",
   "metadata": {},
   "outputs": [
    {
     "name": "stdout",
     "output_type": "stream",
     "text": [
      "1\n"
     ]
    }
   ],
   "source": [
    "print(abc) #abc값 출력"
   ]
  },
  {
   "cell_type": "code",
   "execution_count": 19,
   "id": "f767f30f",
   "metadata": {},
   "outputs": [
    {
     "name": "stdout",
     "output_type": "stream",
     "text": [
      "3\n"
     ]
    }
   ],
   "source": [
    "print(1+2) #1+2 연산한 값 출력"
   ]
  },
  {
   "cell_type": "code",
   "execution_count": 20,
   "id": "55929468",
   "metadata": {},
   "outputs": [
    {
     "name": "stdout",
     "output_type": "stream",
     "text": [
      "3\n",
      "3\n"
     ]
    }
   ],
   "source": [
    "a=1 #a에 1 할당\n",
    "b=2 #b에 2 할당\n",
    "a+b #a+b 값 출력(출력 x)\n",
    "print (a+b) #a+b 값 출력(출력 o)\n",
    "1+2 #1+2 값 출력(출력 x)\n",
    "print (1+2) #1+2 값 출력(출력 o)"
   ]
  },
  {
   "cell_type": "code",
   "execution_count": 23,
   "id": "10a0bf6c",
   "metadata": {},
   "outputs": [
    {
     "name": "stdout",
     "output_type": "stream",
     "text": [
      "아침 점심 저녁\n",
      "아침먹고    점심먹고    저녁\n",
      "아침먹고    점심먹고    저녁땡"
     ]
    }
   ],
   "source": [
    "a= \"아침\" #a에 아침 할당\n",
    "b= \"점심\" #b에 점심 할당\n",
    "c= \"저녁\" #c에 저녁 할당\n",
    "print(a,b,c) #a,b,c 값 출력\n",
    "print(a,b,c, sep=\"먹고    \") #a,b,c 값 출력, 구분 문자는 먹고\n",
    "print(a,b,c, sep=\"먹고    \" ,end =\"땡\") #a,b,c 값 출력,구분 문자는 먹고 \n",
    "                                        #마지막 문장은 땡"
   ]
  },
  {
   "cell_type": "code",
   "execution_count": 24,
   "id": "238ff20d",
   "metadata": {},
   "outputs": [
    {
     "name": "stdout",
     "output_type": "stream",
     "text": [
      "아침 점심 저녁\n",
      "아침먹고    점심먹고    저녁\n",
      "아침먹고    점심먹고    저녁아침자고    점심자고    저녁아침먹고 점심먹고 저녁\n",
      "아침자고 점심자고 저녁\n"
     ]
    }
   ],
   "source": [
    "a= \"아침\" #a에 아침 할당\n",
    "b= \"점심\" #b에 점심 할당\n",
    "c= \"저녁\" #c에 저녁 할당\n",
    "print(a,b,c) #a,b,c 값 출력\n",
    "print(a,b,c, sep=\"먹고    \") #a,b,c 값 출력, 구분 문자는 먹고\n",
    "print(a,b,c, sep=\"먹고    \" ,end =\"\") #a,b,c 값 출력, 구분 문자는 먹고 탭 \n",
    "                                      #끝 문장은 \"\"\n",
    "print(a,b,c, sep=\"자고    \" ,end =\"\") #a,b,c 값 출력, 구분 문자는 자고 탭 \n",
    "                                      #끝 문장은 \"\"\n",
    "print(a,b,c, sep=\"먹고 \" ,end =\"\\n\")  #a,b,c 값 출력, 구분 문자는 먹고 \n",
    "                                      #끝 문장은 한 줄 넘기기\n",
    "print(a,b,c, sep=\"자고 \" ,end =\"\\n\")  #a,b,c 값 출력, 구분 문자는 먹고 \n",
    "                                      #끝 문장은 한 줄 넘기기"
   ]
  },
  {
   "cell_type": "code",
   "execution_count": 25,
   "id": "23bfd118",
   "metadata": {},
   "outputs": [
    {
     "name": "stdout",
     "output_type": "stream",
     "text": [
      "22+33=55\n"
     ]
    }
   ],
   "source": [
    "a= 22 #a에 22 할당\n",
    "b= 33 #b에 33 할당\n",
    "print(a,b, sep=\"+\" ,end=\"=\") #a,b 값 출력, 구분 문자는 + 끝 문장은 =\n",
    "print(a+b) #a+b연산을 한 값 출력"
   ]
  },
  {
   "cell_type": "code",
   "execution_count": 26,
   "id": "253d95d6",
   "metadata": {},
   "outputs": [
    {
     "name": "stdout",
     "output_type": "stream",
     "text": [
      "너는  이름이  뭐니?주나현\n",
      "이름이   주나현  입니다\n",
      "너는  몇  살이니?24\n",
      "나이가   24 살     입니다\n"
     ]
    }
   ],
   "source": [
    "a= input(\"너는  이름이  뭐니?\") #너는 이름이 뭐니?에 대한 입력받기\n",
    "print(\"이름이  \",a,\" 입니다\") #입력받은 내용을 a에 넣어서 출력\n",
    "b= input(\"너는  몇  살이니?\") #너는 몇  살이니?에 대한 입력받기\n",
    "print(\"나이가  \",b,\"살     입니다\") #입력받은 내용을 b에 넣어서 출력"
   ]
  },
  {
   "cell_type": "code",
   "execution_count": 27,
   "id": "74701820",
   "metadata": {},
   "outputs": [
    {
     "name": "stdout",
     "output_type": "stream",
     "text": [
      "a값을 입력하셔요?1\n",
      "b값을 입력하셔요?2\n",
      "1+2=12\n",
      "수치  계산 : 1+2=3\n"
     ]
    }
   ],
   "source": [
    "a= input(\"a값을 입력하셔요?\") #a값을 입력하셔요?에 대한 입력받기\n",
    "b= input(\"b값을 입력하셔요?\") #b값을 입력하셔요?에 대한 입력받기\n",
    "print(a,b, sep=\"+\" ,end=\"=\") #a,b 값 출력, 구분 문자는 + 끝 문장은 =\n",
    "print(a+b) #입력받은 값이 string이므로 1+2를 하면 \n",
    "print(\"수치  계산\", end =\" : \") #수치계산 : 12가 됨 \n",
    "print(a,b, sep=\"+\" ,end=\"=\") #a,b 값 출력, 구분 문자는 + 끝 문장은 =\n",
    "print(int(a)+int(b)) #입력받은 값이 string이므로 int형으로 바꿔서 1+2 연산 "
   ]
  },
  {
   "cell_type": "code",
   "execution_count": 28,
   "id": "b77dd3ab",
   "metadata": {},
   "outputs": [
    {
     "name": "stdout",
     "output_type": "stream",
     "text": [
      "품목?초코파이\n",
      "수량?10\n",
      "단가?100\n",
      "초코파이  :  10 개 *  100 원 = 총  1000 원\n"
     ]
    }
   ],
   "source": [
    "a= input(\"품목?\") #품목?에 대한 입력받기\n",
    "b=int(input(\"수량?\")) #수량?에 대한 입력받아서 int형으로 변환\n",
    "c=int(input(\"단가?\")) #단가?에 대한 입력받아서 int형으로 변환\n",
    "print(a, \" : \",b,\"개 * \",c,\"원 = 총 \", b*c, \"원\") \n",
    "#위에서 입력받은 a,b,c값을 넣어서 출력"
   ]
  },
  {
   "cell_type": "code",
   "execution_count": 29,
   "id": "f6957b2c",
   "metadata": {},
   "outputs": [],
   "source": [
    "a=1 #a값에 1 할당"
   ]
  },
  {
   "cell_type": "code",
   "execution_count": 30,
   "id": "148aa0c7",
   "metadata": {},
   "outputs": [
    {
     "name": "stdout",
     "output_type": "stream",
     "text": [
      "1\n"
     ]
    }
   ],
   "source": [
    "print(a) #a값 출력"
   ]
  },
  {
   "cell_type": "code",
   "execution_count": 31,
   "id": "5a938091",
   "metadata": {},
   "outputs": [],
   "source": [
    "a=2 #a값에 2할당"
   ]
  },
  {
   "cell_type": "code",
   "execution_count": 32,
   "id": "99105be5",
   "metadata": {},
   "outputs": [
    {
     "name": "stdout",
     "output_type": "stream",
     "text": [
      "2\n"
     ]
    }
   ],
   "source": [
    "print(a) #최종적으로 a에 저장된 값은 2"
   ]
  },
  {
   "cell_type": "code",
   "execution_count": 33,
   "id": "0e0fc186",
   "metadata": {},
   "outputs": [],
   "source": [
    "b=3 #b값에 3할당"
   ]
  },
  {
   "cell_type": "code",
   "execution_count": 34,
   "id": "d8e43b2b",
   "metadata": {},
   "outputs": [
    {
     "name": "stdout",
     "output_type": "stream",
     "text": [
      "3\n"
     ]
    }
   ],
   "source": [
    "print(b) #b값 출력"
   ]
  },
  {
   "cell_type": "code",
   "execution_count": 35,
   "id": "24d4eda6",
   "metadata": {},
   "outputs": [
    {
     "name": "stdout",
     "output_type": "stream",
     "text": [
      "2\n"
     ]
    }
   ],
   "source": [
    "print(a) #앞에서 a에 2가 저장되어 있음"
   ]
  },
  {
   "cell_type": "code",
   "execution_count": 36,
   "id": "54cde1bd",
   "metadata": {},
   "outputs": [
    {
     "name": "stdout",
     "output_type": "stream",
     "text": [
      "1122\n"
     ]
    },
    {
     "data": {
      "text/plain": [
       "int"
      ]
     },
     "execution_count": 36,
     "metadata": {},
     "output_type": "execute_result"
    }
   ],
   "source": [
    "a=1122;print(a);type(a) #a에 1122를 할당; a값을 출력; 변수의 형태를 나타내준다."
   ]
  },
  {
   "cell_type": "code",
   "execution_count": 37,
   "id": "e4fe1cd2",
   "metadata": {},
   "outputs": [
    {
     "name": "stdout",
     "output_type": "stream",
     "text": [
      "hello\n"
     ]
    },
    {
     "data": {
      "text/plain": [
       "str"
      ]
     },
     "execution_count": 37,
     "metadata": {},
     "output_type": "execute_result"
    }
   ],
   "source": [
    "b=\"hello\";print(b);type(b) #b에 hello를 할당; b값을 출력; 변수의 형태를 나타내준다."
   ]
  },
  {
   "cell_type": "code",
   "execution_count": 38,
   "id": "7b558799",
   "metadata": {},
   "outputs": [],
   "source": [
    "b=12 #b에 12할당"
   ]
  },
  {
   "cell_type": "code",
   "execution_count": 39,
   "id": "3a92ede4",
   "metadata": {},
   "outputs": [
    {
     "data": {
      "text/plain": [
       "int"
      ]
     },
     "execution_count": 39,
     "metadata": {},
     "output_type": "execute_result"
    }
   ],
   "source": [
    "type(b) #b의 변수의 형태를 나타내준다."
   ]
  },
  {
   "cell_type": "code",
   "execution_count": 40,
   "id": "0888ef8d",
   "metadata": {},
   "outputs": [
    {
     "name": "stdout",
     "output_type": "stream",
     "text": [
      "1122\n",
      "11\n"
     ]
    }
   ],
   "source": [
    "a=1122;print(a);type(a) #a에 1122를 할당; a값을 출력; 변수의 형태를 나타내준다.\n",
    "a =11; print(a) # a에 11을 할당; a를 출력"
   ]
  },
  {
   "cell_type": "code",
   "execution_count": 41,
   "id": "0fc15c5d",
   "metadata": {},
   "outputs": [],
   "source": [
    "del a"
   ]
  },
  {
   "cell_type": "code",
   "execution_count": 42,
   "id": "7f8fc326",
   "metadata": {},
   "outputs": [
    {
     "ename": "NameError",
     "evalue": "name 'a' is not defined",
     "output_type": "error",
     "traceback": [
      "\u001b[1;31m---------------------------------------------------------------------------\u001b[0m",
      "\u001b[1;31mNameError\u001b[0m                                 Traceback (most recent call last)",
      "\u001b[1;32m~\\AppData\\Local\\Temp/ipykernel_14548/1189138062.py\u001b[0m in \u001b[0;36m<module>\u001b[1;34m\u001b[0m\n\u001b[1;32m----> 1\u001b[1;33m \u001b[0mprint\u001b[0m\u001b[1;33m(\u001b[0m\u001b[0ma\u001b[0m\u001b[1;33m)\u001b[0m\u001b[1;33m\u001b[0m\u001b[1;33m\u001b[0m\u001b[0m\n\u001b[0m",
      "\u001b[1;31mNameError\u001b[0m: name 'a' is not defined"
     ]
    }
   ],
   "source": [
    "print(a)"
   ]
  },
  {
   "cell_type": "code",
   "execution_count": 43,
   "id": "77eb9ceb",
   "metadata": {},
   "outputs": [
    {
     "name": "stdout",
     "output_type": "stream",
     "text": [
      "11\n"
     ]
    }
   ],
   "source": [
    "a =11; print(a) # a에 11을 할당; a를 출력"
   ]
  },
  {
   "cell_type": "code",
   "execution_count": 44,
   "id": "c53653bf",
   "metadata": {},
   "outputs": [],
   "source": [
    "del a #변수의 메모리 공간 반환"
   ]
  },
  {
   "cell_type": "code",
   "execution_count": 45,
   "id": "b5c69db9",
   "metadata": {},
   "outputs": [
    {
     "ename": "NameError",
     "evalue": "name 'a' is not defined",
     "output_type": "error",
     "traceback": [
      "\u001b[1;31m---------------------------------------------------------------------------\u001b[0m",
      "\u001b[1;31mNameError\u001b[0m                                 Traceback (most recent call last)",
      "\u001b[1;32m~\\AppData\\Local\\Temp/ipykernel_14548/3550818460.py\u001b[0m in \u001b[0;36m<module>\u001b[1;34m\u001b[0m\n\u001b[1;32m----> 1\u001b[1;33m \u001b[0mprint\u001b[0m\u001b[1;33m(\u001b[0m\u001b[0ma\u001b[0m\u001b[1;33m)\u001b[0m\u001b[1;31m#a값 출력 a변수의 메모리 공간을 삭제했으므로 오류가 난다.\u001b[0m\u001b[1;33m\u001b[0m\u001b[1;33m\u001b[0m\u001b[0m\n\u001b[0m",
      "\u001b[1;31mNameError\u001b[0m: name 'a' is not defined"
     ]
    }
   ],
   "source": [
    "print(a)#a값 출력 a변수의 메모리 공간을 삭제했으므로 오류가 난다."
   ]
  },
  {
   "cell_type": "code",
   "execution_count": null,
   "id": "7a11e93d",
   "metadata": {},
   "outputs": [
    {
     "name": "stdout",
     "output_type": "stream",
     "text": [
      "\n",
      "Welcome to Python 3.9's help utility!\n",
      "\n",
      "If this is your first time using Python, you should definitely check out\n",
      "the tutorial on the Internet at https://docs.python.org/3.9/tutorial/.\n",
      "\n",
      "Enter the name of any module, keyword, or topic to get help on writing\n",
      "Python programs and using Python modules.  To quit this help utility and\n",
      "return to the interpreter, just type \"quit\".\n",
      "\n",
      "To get a list of available modules, keywords, symbols, or topics, type\n",
      "\"modules\", \"keywords\", \"symbols\", or \"topics\".  Each module also comes\n",
      "with a one-line summary of what it does; to list the modules whose name\n",
      "or summary contain a given string such as \"spam\", type \"modules spam\".\n",
      "\n",
      "help> keywords\n",
      "\n",
      "Here is a list of the Python keywords.  Enter any keyword to get more help.\n",
      "\n",
      "False               break               for                 not\n",
      "None                class               from                or\n",
      "True                continue            global              pass\n",
      "__peg_parser__      def                 if                  raise\n",
      "and                 del                 import              return\n",
      "as                  elif                in                  try\n",
      "assert              else                is                  while\n",
      "async               except              lambda              with\n",
      "await               finally             nonlocal            yield\n",
      "\n"
     ]
    }
   ],
   "source": [
    "help()"
   ]
  },
  {
   "cell_type": "code",
   "execution_count": null,
   "id": "6ab00ad1",
   "metadata": {},
   "outputs": [],
   "source": [
    "net = 100 ; qty = 1000; total =net * qty ;print (total) \n",
    "#net에 100할당; qty에 1000할당; total에 net * qty를 연산한 값을 할당; total값 출력"
   ]
  },
  {
   "cell_type": "code",
   "execution_count": null,
   "id": "ab69bf86",
   "metadata": {},
   "outputs": [],
   "source": [
    "net = 100 qty = 1000 total =net * qty print (total) \n",
    "#net에 100할당; qty에 1000할당; total에 net * qty를 연산한 값을 할당; total값 출력"
   ]
  },
  {
   "cell_type": "code",
   "execution_count": null,
   "id": "90d8a07b",
   "metadata": {},
   "outputs": [],
   "source": [
    "net = 100 ; qty = 1000; total =net * qty ;print (total) \n",
    "#net에 100할당; qty에 1000할당; total에 net * qty를 연산한 값을 할당; total값 출력\n",
    "#변수명을 알기 쉽게 작성"
   ]
  },
  {
   "cell_type": "code",
   "execution_count": null,
   "id": "fa68ec37",
   "metadata": {},
   "outputs": [],
   "source": [
    "단가=100; 수량 =1000; 총합= 단가    * 수량; print (총합) \n",
    "#단가에 100할당; 수량에 1000할당; 총합에 단가*수량 를 연산한 값을 할당; 총합값 출력\n",
    "#관습적으로 이렇게는 사용 안 함"
   ]
  }
 ],
 "metadata": {
  "kernelspec": {
   "display_name": "Python 3 (ipykernel)",
   "language": "python",
   "name": "python3"
  },
  "language_info": {
   "codemirror_mode": {
    "name": "ipython",
    "version": 3
   },
   "file_extension": ".py",
   "mimetype": "text/x-python",
   "name": "python",
   "nbconvert_exporter": "python",
   "pygments_lexer": "ipython3",
   "version": "3.9.7"
  }
 },
 "nbformat": 4,
 "nbformat_minor": 5
}
