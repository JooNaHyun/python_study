{
 "cells": [
  {
   "cell_type": "code",
   "execution_count": 1,
   "id": "cd982621",
   "metadata": {},
   "outputs": [
    {
     "name": "stdout",
     "output_type": "stream",
     "text": [
      "별10개 찍기\n",
      "**********\n",
      "\n",
      "별3개 찍기\n",
      "***\n",
      "\n",
      "별5개 찍기\n",
      "*****\n",
      "\n"
     ]
    }
   ],
   "source": [
    "print(\"별10개 찍기\") #\"별10개 찍기\" 문자열을 출력\n",
    "for i in range(10): #for문을 사용하여 i 변수가 0부터 9까지 반복\n",
    "    print(\"*\",end=\"\") \n",
    "    #'*' 문자를 출력하고, \n",
    "    #end 매개변수를 이용하여 다음 출력 내용이 다음 줄이 되지 않도록 한다.\n",
    "print(\"\\n\")\n",
    "#다음 줄로 넘어간다.\n",
    "print(\"별3개 찍기\") #\"별3개 찍기\" 문자열을 출력\n",
    "for i in range(3): #for문을 사용하여 i 변수가 0부터 2까지 반복\n",
    "    print(\"*\",end=\"\") \n",
    "    #'*' 문자를 출력하고, \n",
    "    #end 매개변수를 이용하여 다음 출력 내용이 다음 줄이 되지 않도록 한다.\n",
    "print(\"\\n\")\n",
    "#다음 줄로 넘어간다.\n",
    "print(\"별5개 찍기\") #\"별5개 찍기\" 문자열을 출력\n",
    "for i in range(5): #for문을 사용하여 i 변수가 0부터 4까지 반복\n",
    "    print(\"*\",end=\"\") \n",
    "    #'*' 문자를 출력하고, \n",
    "    #end 매개변수를 이용하여 다음 출력 내용이 다음 줄이 되지 않도록 한다.\n",
    "print(\"\\n\")   \n",
    "#다음 줄로 넘어간다."
   ]
  },
  {
   "cell_type": "code",
   "execution_count": 6,
   "id": "27c5ad21",
   "metadata": {},
   "outputs": [
    {
     "name": "stdout",
     "output_type": "stream",
     "text": [
      "별10개 찍기\n",
      "**********\n",
      "\n",
      "별3개 찍기\n",
      "***\n",
      "\n",
      "별5개 찍기\n",
      "*****\n",
      "\n"
     ]
    }
   ],
   "source": [
    "def starprint(n):  #함수를 정의하고, 매개변수 n을 가짐\n",
    "    for i in range(n): #n번 반복하는 for 루프를 정의 \n",
    "        print(\"*\",end=\"\") #별표를 출력하고 줄바꿈을 하지 않음\n",
    "    print(\"\\n\")#한 줄의 별표 출력이 끝나면 줄바꿈\n",
    "print(\"별10개 찍기\");starprint(10)\n",
    "#별10개 찍기\"라는 문자열을 출력하고 starprint 함수를 호출하면서 n값을 10으로 전달함.\n",
    "print(\"별3개 찍기\");starprint(3)\n",
    "#\"별3개 찍기\"라는 문자열을 출력하고 starprint 함수를 호출하면서 n값을 3으로 전달함.\n",
    "print(\"별5개 찍기\");starprint(5)\n",
    "#\"별5개 찍기\"라는 문자열을 출력하고 starprint 함수를 호출하면서 n값을 5으로 전달함."
   ]
  },
  {
   "cell_type": "code",
   "execution_count": 7,
   "id": "865f5775",
   "metadata": {},
   "outputs": [
    {
     "name": "stdout",
     "output_type": "stream",
     "text": [
      "1~10까지의 합: 55\n",
      "1~1000까지의 합: 500500\n",
      "1~10000까지의 합: 50005000\n"
     ]
    }
   ],
   "source": [
    "def intsum(n):#함수 intsum 정의. 정수 n을 인자로 받는다.\n",
    "    sum=0; #sum 변수를 0으로 초기화\n",
    "    for i in range(1,n+1,1): \n",
    "    #1부터 n까지의 숫자를 반복해서 실행한다. \n",
    "        sum+=i #sum 변수에 i를 더한다.\n",
    "    return sum #함수를 종료하고 sum 값을 반환\n",
    "\n",
    "print(\"1~10까지의 합:\",intsum(10))\n",
    "#함수에 10을 전달하여 호출하고, 그 결과값을 이용하여 \"1~10까지의 합:\"과 함께 출력\n",
    "print(\"1~1000까지의 합:\",intsum(1000))\n",
    "#intsum 함수에 1000을 전달하여 호출하고, \n",
    "#그 결과값을 이용하여 \"1~1000까지의 합:\"과 함께 출력\n",
    "print(\"1~10000까지의 합:\",intsum(10000))\n",
    "#intsum 함수에 10000을 전달하여 호출하고, \n",
    "#그 결과값을 이용하여 \"1~10000까지의 합:\"과 함께 출력"
   ]
  },
  {
   "cell_type": "code",
   "execution_count": 8,
   "id": "8038e436",
   "metadata": {},
   "outputs": [
    {
     "name": "stdout",
     "output_type": "stream",
     "text": [
      "1~10까지의 합: 55\n",
      "100~1000까지의 합: 495550\n",
      "5000~10000까지의 합: 37507500\n"
     ]
    }
   ],
   "source": [
    "def intsum(x,y): \n",
    "#함수 intsum(x,y)를 정의한다. 이 함수는 두 개의 인자 x와 y를 받는다.\n",
    "    sum=0; #변수 sum을 0으로 초기화\n",
    "    for i in range(x,y+1,1): #x부터 y까지 1씩 증가하며 반복하는 for문을 사용\n",
    "        sum+=i #i를 sum에 더하여 합을 구한다.\n",
    "    return sum #합을 반환\n",
    "print(\"1~10까지의 합:\",intsum(1,10))\n",
    "#intsum 함수를 호출하여 100부터 1000까지의 합을 출력\n",
    "print(\"100~1000까지의 합:\",intsum(100,1000))\n",
    "#intsum 함수를 호출하여 100부터 1000까지의 합을 출력\n",
    "print(\"5000~10000까지의 합:\",intsum(5000,10000))\n",
    "#ntsum 함수를 호출하여 5000부터 10000까지의 합을 출력"
   ]
  },
  {
   "cell_type": "code",
   "execution_count": 9,
   "id": "c8738560",
   "metadata": {},
   "outputs": [
    {
     "name": "stdout",
     "output_type": "stream",
     "text": [
      "1~10까지의 합에 5를 더함: 60\n",
      "100~1000까지의 합에 33을 곱함: 16353150\n"
     ]
    }
   ],
   "source": [
    "def intsum(x,y): \n",
    "#함수 intsum은 두 개의 정수를 인자로 받는다.\n",
    "    sum=0; # sum을 0으로 초기화\n",
    "    for i in range(x,y+1,1): \n",
    "    #x부터 y까지 1씩 증가하며 반복하는 for문을 사용\n",
    "    sum+=i #i를 sum에 더하여 합을 구한다.\n",
    "    return sum #합을 반환\n",
    "\n",
    "print(\"1~10까지의 합에 5를 더함:\",intsum(1,10)+5) \n",
    "#intsum 함수를 호출하여 1부터 10까지의 합에 5를 더한 값을 출력\n",
    "i=intsum(100,1000)*33\n",
    "#100~1000까지의 합을 구하고 33을 곱한 값을 i에 할당\n",
    "print(\"100~1000까지의 합에 33을 곱함:\",i)\n",
    "#i를 출력"
   ]
  },
  {
   "cell_type": "code",
   "execution_count": 11,
   "id": "21f2eb6f",
   "metadata": {},
   "outputs": [
    {
     "name": "stdout",
     "output_type": "stream",
     "text": [
      "함수내부에서 sum값을 출력: 495550\n",
      "100~1000까지의 합: None\n",
      "100~1000까지의 합에 33을 곱함: None\n"
     ]
    }
   ],
   "source": [
    "def intsum(x,y): \n",
    "#함수 intsum은 두 개의 정수를 인자로 받는다.\n",
    "    sum=0; ## sum을 0으로 초기화\n",
    "    for i in range(x,y+1,1): \n",
    "    #x부터 y까지 1씩 증가하며 반복하는 for문을 사용\n",
    "        sum+=i #합을 반환\n",
    "    print(\"함수내부에서 sum값을 출력:\",sum)\n",
    "    # sum출력\n",
    "    \n",
    "i=intsum(100,1000)\n",
    "#100~1000까지의 합을 구한 값을 i에 할당\n",
    "#하지만 return값이 없으므로 None이 할당됨\n",
    "print(\"100~1000까지의 합:\",i)\n",
    "#리턴 값이 없는 함수를 어떤 변수로 값을 받으면 \n",
    "#단순히 값이 없는 None이라는 값이 들어감\n",
    "print(\"100~1000까지의 합에 33을 곱함:\",i)\n",
    "#리턴 값이 없는 함수를 어떤 변수로 값을 받으면 \n",
    "#단순히 값이 없는 None이라는 값이 들어감"
   ]
  },
  {
   "cell_type": "code",
   "execution_count": 12,
   "id": "c0175607",
   "metadata": {},
   "outputs": [],
   "source": [
    "def titleprint():\n",
    "    pass\n",
    "#함수 titleprint()를 정의하는데 아무 작업도 하지 않음.\n",
    "def itemprint(name,kortotal,engtotal,mathtotal):\n",
    "    pass\n",
    "#함수 itemprint()를 정의하는데 아무 작업도 하지 않음.\n",
    "def tailprint():\n",
    "    pass \n",
    "#함수 tailprint()를 정의하는데 아무 작업도 하지 않음.\n",
    "#데이터\n",
    "cname=[\"나연\",\"정연\",\"모모\",\"사나\",\"지효\",\"미나\",\"다현\",\"채영\",\"쯔위\"] \n",
    "#학생들의 이름을 리스트로 저장\n",
    "ckor =[ 100,100,90,90,100,80,70,80,100]\n",
    "#학생들의 국어점수를 리스트로 저장\n",
    "ceng =[ 90,100,100,80,100,70,60,100,100] \n",
    "#학생들의 영어점수를 리스트로 저장\n",
    "cmat =[ 100,80,100,90,100,90,100,90,100]\n",
    "#학생들의 수학점수를 리스트로 저장\n",
    "#여기부터    프로그램 \n",
    "titleprint()\n",
    "#함수 titleprint()를 호출\n",
    "for i in range(9):\n",
    "#i가 0~8까지 반복되면서 모든 학생의 정보를 출력함\n",
    "    itemprint(cname[i],ckor[i],ceng[i],cmat[i]) \n",
    "    #for loop를 이용하여 학생의 이름과 점수를 출력하는 함수 itemprint()를 호출.\n",
    "    #인자로 cname 리스트의 i번째 항목, ckor 리스트의 i번째 항목, \n",
    "    #ceng 리스트의 i번째 항목, cmat 리스트의 i번째 항목을 넘김\n",
    "tailprint()\n",
    "#함수 tailprint()를 호출"
   ]
  },
  {
   "cell_type": "code",
   "execution_count": 13,
   "id": "12750229",
   "metadata": {},
   "outputs": [],
   "source": [
    "def titleprint():\n",
    "    #itemprint() 함수는 각 학생의 성적을 출력\n",
    "    print(\"=\"*50)\n",
    "    #= 문자를 50개 출력하고 줄바꿈을 한다.\n",
    "    print(\"이름\\t국어\\t영어\\t수학\\t총점\\t평균\")\n",
    "    #\"이름\\t국어\\t영어\\t수학\\t총점\\t평균\"을 출력하고 줄바꿈\n",
    "    print(\"=\"*50)\n",
    "    #= 문자를 50개 출력하고 줄바꿈\n",
    "def itemprint(name,kor,eng,mat):\n",
    "    #itemprint() 함수는 각 학생의 성적을 출력\n",
    "    #학생의 이름(name), 국어점수(kor), 영어점수(eng), 수학점수(mat)를 받아 출력\n",
    "    print(name,\"\\t\",kor,\"\\t\",eng,\"\\t\",mat,\"\\t\",kor+eng+mat,\"\\t\",(kor+eng+mat)//3)\n",
    "    #학생의 이름과 점수를 탭(\\t)으로 구분하여 출력\n",
    "    #학생의 국어, 영어, 수학 점수를 합하여 총점을 출력\n",
    "    #학생의 국어, 영어, 수학 점수를 합한 후 3으로 나눈 몫을 출력하여 평균을 출력"
   ]
  },
  {
   "cell_type": "code",
   "execution_count": 14,
   "id": "b22e7c67",
   "metadata": {},
   "outputs": [],
   "source": [
    "def tailprint(): \n",
    "#함수 tailprint()를 정의\n",
    "    totkor=0 #totkor를 0으로 초기화\n",
    "    for i in ckor: \n",
    "    #리스트 ckor에 있는 요소를 하나씩 꺼내어 i에 할당하면서 반복문을 실행\n",
    "        totkor+=i #totkor에 i를 더해 각 요소들의 합을 계산\n",
    "    toteng=0 #변수 toteng를 0으로 초기화\n",
    "    for i in ceng: \n",
    "    #리스트 ceng에 있는 요소를 하나씩 꺼내어 i에 할당하면서 반복문을 실행\n",
    "        toteng+=i\n",
    "        #toteng에 i를 더해 각 요소들의 합을 계산    \n",
    "    totmat=0 #totmat를 0으로 초기화\n",
    "    for i in cmat: \n",
    "        #리스트 cmat에 있는 요소를 하나씩 꺼내어 i에 할당하면서 반복문을 실행\n",
    "        totmat+=i #totmat에 i를 더해 각 요소들의 합을 계산\n",
    "    print(\"=\"*50) #= 기호를 50번 반복하여 출력\n",
    "    print(\"반총점\\t\",totkor,\"\\t\",toteng,\"\\t\",totmat,\"\\t\"\\\n",
    "        ,(totkor+toteng+totmat)//9,\"\\t\",(totkor+toteng+totmat)/3//9) \n",
    "    #반총점\", 국어, 영어, 수학의 총점과 총점의 평균, 평균의 평균을 출력\n",
    "    print(\"=\"*50)\n",
    "    #= 기호를 50번 반복하여 출력"
   ]
  },
  {
   "cell_type": "code",
   "execution_count": 15,
   "id": "fa4d9ad8",
   "metadata": {},
   "outputs": [
    {
     "name": "stdout",
     "output_type": "stream",
     "text": [
      "case 1: 1\n",
      "case 2: 7\n",
      "case 3: 9505\n"
     ]
    }
   ],
   "source": [
    "def sumsum(*num): \n",
    "# 가변인자 함수 sumsum 정의\n",
    "#*num : 가변인자로서, 인자의 개수가 정해지지 않은 경우 사용\n",
    "#*을 사용하면 num은 튜플형식으로 선언\n",
    "    sum=0 #sum을 0으로 초기화\n",
    "    for i in num:  #변수 i를 sum에 더합니다.\n",
    "    # 가변인자 num의 원소를 하나씩 꺼내서 변수 i에 할당\n",
    "        sum+=i #변수 i를 sum에 더합니다.\n",
    "    return sum # 합계 반환\n",
    "\n",
    "print(\"case 1:\", sumsum(1))\n",
    "# case 1: 인자로 1개의 정수 1을 전달\n",
    "print(\"case 2:\", sumsum(1,2,4))\n",
    "#case 2: 인자로 3개의 정수 1, 2, 4를 전달\n",
    "print(\"case 3:\", sumsum(1,2,34,567,8901))\n",
    "#case 3: 인자로 5개의 정수 1, 2, 34, 567, 8901을 전달"
   ]
  },
  {
   "cell_type": "code",
   "execution_count": 16,
   "id": "34f44e0a",
   "metadata": {},
   "outputs": [
    {
     "name": "stdout",
     "output_type": "stream",
     "text": [
      "case 1: 1\n",
      "case 2: 7\n",
      "case 3: 9505\n"
     ]
    }
   ],
   "source": [
    "def sumsum(num):\n",
    "#함수 sumsum은 가변인자 num을 받아서, 해당 인자들의 합을 구하는 함수\n",
    "#인수가 리스트형\n",
    "    sum=0 #sum을 0으로 초기화\n",
    "    for i in num: \n",
    "    # 가변인자 num의 원소를 하나씩 꺼내서 변수 i에 할당\n",
    "        sum+=i #변수 i를 sum에 더합니다.\n",
    "    return sum # 합계 반환\n",
    "print(\"case 1:\", sumsum([1]))\n",
    "#리스트 [1]을 인자로 넣어준다.이 경우 함수 내에서 for문이 한 번 실행되고, \n",
    "#sum은 1이 된다.\n",
    "print(\"case 2:\", sumsum([1,2,4]))\n",
    "#리스트 [1, 2, 4]을 인자로 넣어준다. 이 경우 함수 내에서 for문이 세 번 실행되고, \n",
    "#sum은 7이 됩니다.\n",
    "print(\"case 3:\", sumsum([1,2,34,567,8901]))\n",
    "#리스트 [1, 2, 34, 567, 8901]을 인자로 넣어준다. \n",
    "#이 경우 함수 내에서 for문이 다섯 번 실행되고, \n",
    "#sum은 9405가 된다."
   ]
  },
  {
   "cell_type": "code",
   "execution_count": 17,
   "id": "c3c1e18e",
   "metadata": {},
   "outputs": [
    {
     "ename": "SyntaxError",
     "evalue": "invalid syntax (Temp/ipykernel_1840/2071991346.py, line 3)",
     "output_type": "error",
     "traceback": [
      "\u001b[1;36m  File \u001b[1;32m\"C:\\Users\\ASUS\\AppData\\Local\\Temp/ipykernel_1840/2071991346.py\"\u001b[1;36m, line \u001b[1;32m3\u001b[0m\n\u001b[1;33m    sumsum(*num,str*)       #ERROR\u001b[0m\n\u001b[1;37m                    ^\u001b[0m\n\u001b[1;31mSyntaxError\u001b[0m\u001b[1;31m:\u001b[0m invalid syntax\n"
     ]
    }
   ],
   "source": [
    "sumsum(str,*num)        #OK\n",
    "#str이라는 문자열과 num이라는 가변 인자들을 sumsum() 함수에 전달한다. \n",
    "#이 경우 str은 첫 번째 인자로 전달되고, *num은 나머지 인자들로 패킹된다. \n",
    "#이 경우 str은 가변 인자 num보다 먼저 전달되므로 문제가 없습니다.\n",
    "sumsum(*num,str)        #ERROR\n",
    "#이 경우 str이라는 문자열이 가변 인자들보다 먼저 오게 된다. \n",
    "#이렇게 되면 가변 인자들은 num에 할당되고, str은 sumsum() 함수에 전달되지 않게 된다.\n",
    "#따라서 에러가 발생합니다.\n",
    "sumsum(*num,str*)       #ERROR\n",
    "#*str은 잘못된 문법이므로 에러가 발생"
   ]
  },
  {
   "cell_type": "code",
   "execution_count": 18,
   "id": "b97bbc66",
   "metadata": {},
   "outputs": [
    {
     "name": "stdout",
     "output_type": "stream",
     "text": [
      "case 1: 55\n",
      "case 2: 3825\n",
      "case 3: 495550\n"
     ]
    }
   ],
   "source": [
    "def defaultest (start,end=1000,step=1): \n",
    "#defaultest 함수는 start, end, step 매개변수를 가진다.\n",
    "#start는 필수 인자, end와 step은 기본값이 설정되어 있음\n",
    "    sum=0\n",
    "    #sum 변수를 0으로 초기화\n",
    "    for i in range(start,end+1,step): \n",
    "    #for 반복문에서 range() 함수를 사용하여 start부터 end까지 step 간격으로 반복\n",
    "        sum+=i\n",
    "        #sum 변수에 현재 반복 중인 수를 더한다.\n",
    "    return sum #변수의 값을 반환\n",
    "print(\"case 1:\", defaultest(0,10,1))\n",
    "#인수 하나를 생략시 맨뒤 step값이 1로 기본값처리 \n",
    "print(\"case 2:\", defaultest(50,100)) \n",
    "#인수 하나를 생략시 맨뒤 step값이    1, \n",
    "#end 값이 1000으로 기본값처리 \n",
    "print(\"case 3:\", defaultest(100))\n",
    "#case 3에서는 end와 step 매개변수가 기본값으로 설정"
   ]
  },
  {
   "cell_type": "code",
   "execution_count": 19,
   "id": "97293c4e",
   "metadata": {},
   "outputs": [
    {
     "name": "stdout",
     "output_type": "stream",
     "text": [
      "case 1: 55\n",
      "case 2: 55\n",
      "case 3: 55\n",
      "case 4: 55\n",
      "case 5: 55\n"
     ]
    }
   ],
   "source": [
    "def defaultest (start,end=1000,step=1): \n",
    "#defaultest 함수 정의    \n",
    "#start는 필수 인자, end와 step은 기본값이 설정되어 있음\n",
    "    sum=0\n",
    "    #sum 변수를 0으로 초기화\n",
    "    for i in range(start,end+1,step): \n",
    "        #start부터 end+1까지 step만큼 증가시키며 i에 대입\n",
    "        sum+=i #sum에 i를 더함\n",
    "    return sum #sum 반환\n",
    "\n",
    "print(\"case 1:\", defaultest(0,10,1))\n",
    "#start=0, end=10, step=1로 함수 호출\n",
    "#0부터 10까지 1씩 증가하며 더한 후 결과값 출력\n",
    "print(\"case 2:\", defaultest(start=0,end=10,step=1)) \n",
    "#키워드 지정시 순서가 상관없음\n",
    "#start=0, end=10, step=1로 함수 호출\n",
    "#0부터 10까지 1씩 증가하며 더한 후 결과값 출력\n",
    "print(\"case 3:\", defaultest(step=1,end=10,start=0)) \n",
    "#맨뒤로 부터만 키워드 인수를 사용하고 앞은 일반인수 \n",
    "#start=0, end=10, step=1로 함수 호출\n",
    "#0부터 10까지 1씩 증가하며 더한 후 결과값 출력\n",
    "print(\"case 4:\", defaultest(0,10,step=1))\n",
    "#맨뒤로 부터만 키워드 인수를 사용하고 앞은 일반인수 \n",
    "#start=0, end=10, step=1로 함수 호출\n",
    "#0부터 10까지 1씩 증가하며 더한 후 결과값 출력\n",
    "print(\"case 5:\", defaultest(0,step=1,end=10))\n",
    "#키워드 인자를 사용하여 step과 end만 전달하고 start는 위치 인자로 전달\n",
    "#start=0, end=10, step=1로 함수 호출\n",
    "#0부터 10까지 1씩 증가하며 더한 후 결과값 출력"
   ]
  },
  {
   "cell_type": "code",
   "execution_count": 29,
   "id": "cd61083d",
   "metadata": {},
   "outputs": [
    {
     "ename": "SyntaxError",
     "evalue": "positional argument follows keyword argument (Temp/ipykernel_1840/3513373502.py, line 1)",
     "output_type": "error",
     "traceback": [
      "\u001b[1;36m  File \u001b[1;32m\"C:\\Users\\ASUS\\AppData\\Local\\Temp/ipykernel_1840/3513373502.py\"\u001b[1;36m, line \u001b[1;32m1\u001b[0m\n\u001b[1;33m    print(\"error1:\", defaultest(0,step=1,10))\u001b[0m\n\u001b[1;37m                                           ^\u001b[0m\n\u001b[1;31mSyntaxError\u001b[0m\u001b[1;31m:\u001b[0m positional argument follows keyword argument\n"
     ]
    }
   ],
   "source": [
    "print(\"error1:\", defaultest(0,step=1,10)) \n",
    "#첫 번째 print문에서는 step=1 이 이미 지정되어 있는데, \n",
    "#이후에 10이라는 일반 인수를 사용하려 하므로 에러가 발생한다.\n",
    "print(\"error2:\", defaultest(start=0,step=1,10))\n",
    "#두 번째 print문에서는 start, step, 10 모두 키워드 인수로 지정되었는데, \n",
    "#10 다음에 오는 인수 start와 step이 어떤 키워드에 속하는지 알 수 없으므로 에러가 발생"
   ]
  },
  {
   "cell_type": "code",
   "execution_count": 21,
   "id": "1423beb7",
   "metadata": {},
   "outputs": [
    {
     "name": "stdout",
     "output_type": "stream",
     "text": [
      "case 1: 55\n",
      "case 2: 5005\n"
     ]
    }
   ],
   "source": [
    "def testfunc (**args):\n",
    "    #함수 testfunc를 정의하고, 키워드 가변인자(args)를 사용\n",
    "    start=args[\"start\"]  # 키워드 가변 \n",
    "    #args 딕셔너리에서 \"start\" 키에 해당하는 값을 start 변수에 할당\n",
    "    end=args[\"end\"]      # 키워드 가변 \n",
    "    #args 딕셔너리에서 \"end\" 키에 해당하는 값을 end 변수에 할당\n",
    "    step=args[\"step\"]    # 키워드 가변 \n",
    "    #args 딕셔너리에서 \"step\" 키에 해당하는 값을 step 변수에 할당\n",
    "    sum=0\n",
    "    #sum 변수를 0으로 초기화\n",
    "    for i in range(start,end+1,step):\n",
    "    #start부터 end까지 step만큼 증가하면서 반복\n",
    "        sum+=i #i를 sum에 누적\n",
    "    return sum #누적된 sum 값을 반환\n",
    "\n",
    "print(\"case 1:\", testfunc(start=0,end=10,step=1)) \n",
    "#testfunc 함수를 호출하면서, 키워드 인수로 start=0, end=10, step=1을 전달하고, \n",
    "#반환된 값을 출력\n",
    "print(\"case 2:\", testfunc(end=100,step=1,start=10))\n",
    "#testfunc 함수를 호출하면서, 키워드 인수로 end=100, step=1, start=10을 전달하고, \n",
    "#반환된 값을 출력"
   ]
  },
  {
   "cell_type": "code",
   "execution_count": 22,
   "id": "eb6cdc60",
   "metadata": {},
   "outputs": [
    {
     "name": "stdout",
     "output_type": "stream",
     "text": [
      "==============================\n",
      "***********&&&&&&&&&&&===========\n",
      "\n",
      "==============================\n",
      "   ********   ????????   ========   %%%%%%%%\n",
      "\n"
     ]
    }
   ],
   "source": [
    "def testfunc (*s,**args): \n",
    "#*s는 가변 위치 인자를 의미하고, **args는 가변 키워드 인자를 의미\n",
    "    start=args[\"start\"]  # 키워드 가변 \n",
    "    #args 딕셔너리에서 \"start\" 키에 해당하는 값을 start 변수에 할당\n",
    "    end=args[\"end\"]      # 키워드 가변 \n",
    "    #args 딕셔너리에서 \"end\" 키에 해당하는 값을 end 변수에 할당\n",
    "    step=args[\"step\"]    # 키워드 가변 \n",
    "    #args 딕셔너리에서 \"step\" 키에 해당하는 값을 step 변수에 할당\n",
    "    for c in s:\n",
    "    #s는 가변 위치 인자로 전달되며, for 반복문을 사용하여 위치 인자들을 하나씩 순회\n",
    "        print(\" \"*start,end=\"\")\n",
    "        # 공백 문자열을 start 개수만큼 출력\n",
    "        for i in range(start,end+1,step): \n",
    "        #start, end, step을 사용하여 range 객체를 생성하고, 이를 for 반복문에서 순회\n",
    "            print(c,end=\"\")\n",
    "            # 위치 인자인 c를 출력\n",
    "    print(\"\\n\") \n",
    "    # 줄바꿈 문자열을 출력\n",
    "print(\"=\"*30) # = 30개 출력\n",
    "testfunc(\"*\",\"&\",\"=\",start=0,end=10,step=1) \n",
    "#stfunc() 함수를 호출하면서 인자로 다음 값을 전달\n",
    "#\"*\" 문자열, \"&\" 문자열, \"=\" 문자열: 가변 인자 *s에 전달됨\n",
    "#start=0, end=10, step=1: 키워드 인자 **args에 전달됨\n",
    "print(\"=\"*30)# = 30개 출력\n",
    "testfunc(\"*\",\"?\",\"=\",\"%\",start=3,end=10,step=1)\n",
    "#stfunc() 함수를 호출하면서 인자로 다음 값을 전달\n",
    "#\"*\" 문자열, \"&\" 문자열, \"=\" 문자열: 가변 인자 *s에 전달됨\n",
    "#start=3, end=10, step=1: 키워드 인자 **args에 전달됨"
   ]
  },
  {
   "cell_type": "code",
   "execution_count": 24,
   "id": "b3d5aad4",
   "metadata": {},
   "outputs": [
    {
     "ename": "NameError",
     "evalue": "name 'a' is not defined",
     "output_type": "error",
     "traceback": [
      "\u001b[1;31m---------------------------------------------------------------------------\u001b[0m",
      "\u001b[1;31mNameError\u001b[0m                                 Traceback (most recent call last)",
      "\u001b[1;32m~\\AppData\\Local\\Temp/ipykernel_1840/2960085424.py\u001b[0m in \u001b[0;36m<module>\u001b[1;34m\u001b[0m\n\u001b[0;32m      2\u001b[0m     \u001b[0ma\u001b[0m\u001b[1;33m=\u001b[0m\u001b[1;36m1\u001b[0m\u001b[1;33m\u001b[0m\u001b[1;33m\u001b[0m\u001b[0m\n\u001b[0;32m      3\u001b[0m \u001b[0mtest\u001b[0m\u001b[1;33m(\u001b[0m\u001b[1;33m)\u001b[0m\u001b[1;33m\u001b[0m\u001b[1;33m\u001b[0m\u001b[0m\n\u001b[1;32m----> 4\u001b[1;33m \u001b[0mprint\u001b[0m\u001b[1;33m(\u001b[0m\u001b[0ma\u001b[0m\u001b[1;33m)\u001b[0m \u001b[1;31m# 에러발생\u001b[0m\u001b[1;33m\u001b[0m\u001b[1;33m\u001b[0m\u001b[0m\n\u001b[0m",
      "\u001b[1;31mNameError\u001b[0m: name 'a' is not defined"
     ]
    }
   ],
   "source": [
    "def test(): \n",
    "    a=1\n",
    "    #test() 함수 내에서 a라는 변수를 정의\n",
    "    #a는 test() 함수 내부의 로컬 변수이므로, test() 함수가 실행되고 나면 \n",
    "    #a 변수는 소멸\n",
    "test()\n",
    "print(a) # 에러발생\n",
    "#test() 함수 외부에서 실행되므로, a 변수가 정의되지 않았다는 에러가 발생"
   ]
  },
  {
   "cell_type": "code",
   "execution_count": 25,
   "id": "b80db082",
   "metadata": {},
   "outputs": [
    {
     "name": "stdout",
     "output_type": "stream",
     "text": [
      "testf1: 1\n",
      "testf2: 즐거운    실습\n",
      "testf3: 3.141592\n",
      "랄랄라\n"
     ]
    }
   ],
   "source": [
    "def testf1():\n",
    "#testf1 함수를 정의\n",
    "    a=1 #a 변수에 정수 1을 할당\n",
    "    print(\"testf1:\",a) #문자열과 a 변수 값을 출력\n",
    "def testf2():\n",
    "#testf2 함수를 정의\n",
    "    a=\"즐거운    실습\" #a 변수에 문자열 \"즐거운 실습\"을 할당\n",
    "    print(\"testf2:\",a) #testf2:\" 문자열과 a 변수 값을 출력\n",
    "def testf3():\n",
    "#testf3 함수를 정의\n",
    "    a=3.141592 #a 변수에 실수 3.141592를 할당\n",
    "    print(\"testf3:\",a) #문자열과 a 변수 값을 출력\n",
    "testf1() #testf1 호출하여 실행\n",
    "testf2() #testf2 호출하여 실행\n",
    "testf3() #testf3 호출하여 실행\n",
    "a=\"랄랄라\" #a 변수에 문자열 \"랄랄라\"를 할당\n",
    "print(a) #a 변수 값을 출력"
   ]
  },
  {
   "cell_type": "code",
   "execution_count": 26,
   "id": "19169de5",
   "metadata": {},
   "outputs": [
    {
     "name": "stdout",
     "output_type": "stream",
     "text": [
      "testf1: 현재    달러환율은    1달러당     1021 원이며\n",
      "testf1: 미화    100달러는     102100 원    입니다\n",
      "testf1: 현재    달러환율은    1달러당     1120 원이며\n",
      "testf1: 미화    100달러는     112000 원    입니다\n",
      "testf2: 현재    달러환율은    1달러당     1011 원이며\n",
      "testf2: 미화    100달러는     101100 원    입니다\n",
      "testf1: 현재    달러환율은    1달러당     1120 원이며\n",
      "testf1: 미화    100달러는     112000 원    입니다\n"
     ]
    }
   ],
   "source": [
    "def testf1():\n",
    "#함수 testf1을 정의\n",
    "    print(\"testf1: 현재    달러환율은    1달러당    \",exrate,\"원이며\") \n",
    "    # 전역 변수 exrate를 참조하여 달러 환율 정보를 출력하는 기능을 수행\n",
    "    print(\"testf1: 미화    100달러는    \",100*exrate,\"원    입니다\")\n",
    "    # 미화 100달러에 대한 원화 환산 금액을 계산하여 출력\n",
    "def testf2(): \n",
    "#함수 testf2를 정의\n",
    "    exrate=1011\n",
    "    # 지역 변수 exrate를 선언하고 초기값을 설정\n",
    "    #함수 내에서 exrate는 전역 변수 exrate와는 별개의 변수\n",
    "    print(\"testf2: 현재    달러환율은    1달러당    \",exrate,\"원이며\") \n",
    "    print(\"testf2: 미화    100달러는    \",100*exrate,\"원    입니다\")\n",
    "    # 달러 환율 정보와 미화 100달러에 대한 원화 환산 금액을 계산하여 출력\n",
    "exrate=1021 #전역 변수 exrate를 초기화\n",
    "testf1() #testf1 함수를 호출\n",
    "exrate=1120 #전역 변수 exrate를 다시 초기화\n",
    "testf1()#testf1 함수를 호출\n",
    "\n",
    "testf2() #case 1 testf2 함수를 호출\n",
    "testf1() #case 2 testf1 함수를 호출"
   ]
  },
  {
   "cell_type": "code",
   "execution_count": 33,
   "id": "8943c3f9",
   "metadata": {},
   "outputs": [
    {
     "name": "stdout",
     "output_type": "stream",
     "text": [
      "Help on function testf1 in module __main__:\n",
      "\n",
      "testf1()\n",
      "    이 함수는 홍필두가 최선을 다하여 멋지게 만든 함수 \n",
      "    인수 값에 숫자만큼 1부터 해당 값을 더한 값을 출력해 준다\n",
      "\n"
     ]
    }
   ],
   "source": [
    "def testf1(): \n",
    "    \"\"\"이 함수는 홍필두가 최선을 다하여 멋지게 만든 함수 \n",
    "    인수 값에 숫자만큼 1부터 해당 값을 더한 값을 출력해 준다\"\"\"\n",
    "    #함수의 시작을 나타내는 함수 헤더(함수 이름, 매개변수)가 선언\n",
    "    sum=0 # 변수 sum을 0으로 초기화\n",
    "    for i in range(n+1): #0부터 n까지 반복\n",
    "        sum+=i # sum에 i를 더합니다.\n",
    "    print(\"합:\",sum) # sum을 출력\n",
    "\n",
    "help(testf1) #대화식 모드에서 testf1 함수의 도움말을 출력"
   ]
  },
  {
   "cell_type": "code",
   "execution_count": null,
   "id": "55e891b1",
   "metadata": {},
   "outputs": [],
   "source": []
  }
 ],
 "metadata": {
  "kernelspec": {
   "display_name": "Python 3 (ipykernel)",
   "language": "python",
   "name": "python3"
  },
  "language_info": {
   "codemirror_mode": {
    "name": "ipython",
    "version": 3
   },
   "file_extension": ".py",
   "mimetype": "text/x-python",
   "name": "python",
   "nbconvert_exporter": "python",
   "pygments_lexer": "ipython3",
   "version": "3.9.7"
  }
 },
 "nbformat": 4,
 "nbformat_minor": 5
}
