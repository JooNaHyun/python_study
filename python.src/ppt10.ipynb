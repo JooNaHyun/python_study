{
 "cells": [
  {
   "cell_type": "code",
   "execution_count": 1,
   "id": "679806c4",
   "metadata": {},
   "outputs": [],
   "source": [
    "a=\"abcde\" #문자열 a를 선언"
   ]
  },
  {
   "cell_type": "code",
   "execution_count": 2,
   "id": "3179e8c8",
   "metadata": {},
   "outputs": [
    {
     "data": {
      "text/plain": [
       "('a', 'b', 'c', 'd', 'e')"
      ]
     },
     "execution_count": 2,
     "metadata": {},
     "output_type": "execute_result"
    }
   ],
   "source": [
    "a[0],a[1],a[2],a[3],a[4]\n",
    "#[0], a[1], ... a[4]: 문자열 a에서 첫 번째 문자부터 다섯 번째 문자까지 순서대로 출력"
   ]
  },
  {
   "cell_type": "code",
   "execution_count": 3,
   "id": "93cb274e",
   "metadata": {},
   "outputs": [
    {
     "data": {
      "text/plain": [
       "('e', 'c', 'c', 'b', 'a')"
      ]
     },
     "execution_count": 3,
     "metadata": {},
     "output_type": "execute_result"
    }
   ],
   "source": [
    "a[-1],a[2],a[-3],a[-4],a[-5]\n",
    "#문자열 a에서 마지막 문자부터 첫번째 문자까지 역순으로 출력"
   ]
  },
  {
   "cell_type": "code",
   "execution_count": 4,
   "id": "1e7c3e34",
   "metadata": {},
   "outputs": [],
   "source": [
    "a=\"가나다라마\" #문자열 a를 선언"
   ]
  },
  {
   "cell_type": "code",
   "execution_count": 5,
   "id": "fbc14523",
   "metadata": {},
   "outputs": [
    {
     "data": {
      "text/plain": [
       "('가', '나', '다', '라', '마')"
      ]
     },
     "execution_count": 5,
     "metadata": {},
     "output_type": "execute_result"
    }
   ],
   "source": [
    "a[0],a[1],a[2],a[3],a[4]\n",
    "#문자열 a에서 첫 번째 문자부터 다섯 번째 문자까지 순서대로 출력"
   ]
  },
  {
   "cell_type": "code",
   "execution_count": 6,
   "id": "1a780d4c",
   "metadata": {},
   "outputs": [],
   "source": [
    "a=\"abcde\"#문자열 a를 선언"
   ]
  },
  {
   "cell_type": "code",
   "execution_count": 7,
   "id": "3bb8a73c",
   "metadata": {},
   "outputs": [
    {
     "data": {
      "text/plain": [
       "'bcde'"
      ]
     },
     "execution_count": 7,
     "metadata": {},
     "output_type": "execute_result"
    }
   ],
   "source": [
    "a[1:5] #a 문자열의 인덱스 1부터 (5-1)까지의 범위를 잘라서 반환"
   ]
  },
  {
   "cell_type": "code",
   "execution_count": 8,
   "id": "3c2441ee",
   "metadata": {},
   "outputs": [
    {
     "data": {
      "text/plain": [
       "'b'"
      ]
     },
     "execution_count": 8,
     "metadata": {},
     "output_type": "execute_result"
    }
   ],
   "source": [
    "a[1:2] # a 문자열의 인덱스 1부터 (2-1)까지의 범위를 잘라서 반환"
   ]
  },
  {
   "cell_type": "code",
   "execution_count": 9,
   "id": "c90c4576",
   "metadata": {},
   "outputs": [
    {
     "data": {
      "text/plain": [
       "'abcde'"
      ]
     },
     "execution_count": 9,
     "metadata": {},
     "output_type": "execute_result"
    }
   ],
   "source": [
    "a[:6] #a 문자열의 처음부터 (6-1)까지의 범위를 잘라서 반환"
   ]
  },
  {
   "cell_type": "code",
   "execution_count": 10,
   "id": "3c67d8aa",
   "metadata": {},
   "outputs": [
    {
     "data": {
      "text/plain": [
       "'de'"
      ]
     },
     "execution_count": 10,
     "metadata": {},
     "output_type": "execute_result"
    }
   ],
   "source": [
    "a[3:] # a 문자열의 인덱스 3부터 끝까지의 범위를 잘라서 반환"
   ]
  },
  {
   "cell_type": "code",
   "execution_count": 11,
   "id": "0876798e",
   "metadata": {},
   "outputs": [
    {
     "data": {
      "text/plain": [
       "'c'"
      ]
     },
     "execution_count": 11,
     "metadata": {},
     "output_type": "execute_result"
    }
   ],
   "source": [
    "a[2:-2] #a 문자열의 인덱스 2부터 (끝에서 2번째 인덱스-1)까지의 범위를 잘라서 반환"
   ]
  },
  {
   "cell_type": "code",
   "execution_count": 12,
   "id": "3c3aa925",
   "metadata": {},
   "outputs": [
    {
     "data": {
      "text/plain": [
       "''"
      ]
     },
     "execution_count": 12,
     "metadata": {},
     "output_type": "execute_result"
    }
   ],
   "source": [
    "a[2:-3] # a 문자열의 인덱스 2부터 (끝에서 3번째 인덱스-1)까지의 범위를 잘라서 반환"
   ]
  },
  {
   "cell_type": "code",
   "execution_count": 13,
   "id": "a6979de2",
   "metadata": {},
   "outputs": [
    {
     "data": {
      "text/plain": [
       "'bcd'"
      ]
     },
     "execution_count": 13,
     "metadata": {},
     "output_type": "execute_result"
    }
   ],
   "source": [
    "a[1:-1] # a 문자열의 인덱스 1부터 (끝에서 1번째 인덱스-1)까지의 범위를 잘라서 반환\n",
    "        #그러나 시작 인덱스가 끝 인덱스보다 크므로 잘라낼 수 있는 부분이 없다."
   ]
  },
  {
   "cell_type": "code",
   "execution_count": 1,
   "id": "3fc3dace",
   "metadata": {},
   "outputs": [],
   "source": [
    "a=\"abcdefghijklmabcdefgh\" #문자열 선언"
   ]
  },
  {
   "cell_type": "code",
   "execution_count": 2,
   "id": "00432359",
   "metadata": {},
   "outputs": [
    {
     "data": {
      "text/plain": [
       "5"
      ]
     },
     "execution_count": 2,
     "metadata": {},
     "output_type": "execute_result"
    }
   ],
   "source": [
    "a.find(\"f\") #앞에서 부터 찾음, 찾은 값의 인덱스임"
   ]
  },
  {
   "cell_type": "code",
   "execution_count": 16,
   "id": "2c896a7d",
   "metadata": {},
   "outputs": [
    {
     "data": {
      "text/plain": [
       "18"
      ]
     },
     "execution_count": 16,
     "metadata": {},
     "output_type": "execute_result"
    }
   ],
   "source": [
    "a.rfind(\"f\") #뒤에서 부터 찾음"
   ]
  },
  {
   "cell_type": "code",
   "execution_count": 17,
   "id": "03546db7",
   "metadata": {},
   "outputs": [
    {
     "data": {
      "text/plain": [
       "(8, 8)"
      ]
     },
     "execution_count": 17,
     "metadata": {},
     "output_type": "execute_result"
    }
   ],
   "source": [
    "a.find(\"i\"),a.rfind(\"i\") #만일 찾는 문자가 하나라면 결과는 동일"
   ]
  },
  {
   "cell_type": "code",
   "execution_count": 18,
   "id": "022fbe5b",
   "metadata": {},
   "outputs": [
    {
     "data": {
      "text/plain": [
       "(1, 14)"
      ]
     },
     "execution_count": 18,
     "metadata": {},
     "output_type": "execute_result"
    }
   ],
   "source": [
    "a.index(\"b\"),a.rindex(\"b\") #index함수도 결과는 동일"
   ]
  },
  {
   "cell_type": "code",
   "execution_count": 19,
   "id": "5637049e",
   "metadata": {},
   "outputs": [
    {
     "ename": "ValueError",
     "evalue": "substring not found",
     "output_type": "error",
     "traceback": [
      "\u001b[1;31m---------------------------------------------------------------------------\u001b[0m",
      "\u001b[1;31mValueError\u001b[0m                                Traceback (most recent call last)",
      "Cell \u001b[1;32mIn[19], line 1\u001b[0m\n\u001b[1;32m----> 1\u001b[0m \u001b[43ma\u001b[49m\u001b[38;5;241;43m.\u001b[39;49m\u001b[43mrindex\u001b[49m\u001b[43m(\u001b[49m\u001b[38;5;124;43m\"\u001b[39;49m\u001b[38;5;124;43mz\u001b[39;49m\u001b[38;5;124;43m\"\u001b[39;49m\u001b[43m)\u001b[49m  \u001b[38;5;66;03m#하지만    찾는    문자가    없으면    에러발생\u001b[39;00m\n",
      "\u001b[1;31mValueError\u001b[0m: substring not found"
     ]
    }
   ],
   "source": [
    "a.rindex(\"z\")  #하지만 찾는 문자가 없으면 에러발생"
   ]
  },
  {
   "cell_type": "code",
   "execution_count": 20,
   "id": "bcc80df4",
   "metadata": {},
   "outputs": [
    {
     "data": {
      "text/plain": [
       "2"
      ]
     },
     "execution_count": 20,
     "metadata": {},
     "output_type": "execute_result"
    }
   ],
   "source": [
    "a.count(\"f\") #해당 문자의 개수를 반환"
   ]
  },
  {
   "cell_type": "code",
   "execution_count": 21,
   "id": "a6f74b3b",
   "metadata": {},
   "outputs": [
    {
     "data": {
      "text/plain": [
       "13"
      ]
     },
     "execution_count": 21,
     "metadata": {},
     "output_type": "execute_result"
    }
   ],
   "source": [
    "a.rfind(\"abc\") #문자열을 넣어도 됨"
   ]
  },
  {
   "cell_type": "code",
   "execution_count": 22,
   "id": "fbc4d650",
   "metadata": {},
   "outputs": [],
   "source": [
    "a=\"abcdfegabcdfeg\" #문자열 선언"
   ]
  },
  {
   "cell_type": "code",
   "execution_count": 24,
   "id": "236f682f",
   "metadata": {},
   "outputs": [
    {
     "name": "stdout",
     "output_type": "stream",
     "text": [
      "a가 들어 있음\n"
     ]
    }
   ],
   "source": [
    "if a.find(\"f\") > 0:\n",
    "    # \"f\" 문자열이 문자열 a 안에 있는지 검사. \n",
    "    #만약 \"f\" 문자열이 있다면 \n",
    "    print (\"a가 들어 있음\")\n",
    "    #\"a가 들어 있음\" 출력"
   ]
  },
  {
   "cell_type": "code",
   "execution_count": 25,
   "id": "5f95d629",
   "metadata": {},
   "outputs": [
    {
     "name": "stdout",
     "output_type": "stream",
     "text": [
      "a가 들어 있음\n"
     ]
    }
   ],
   "source": [
    "if \"f\" in a : #만일 \"f\"가 a안에 있다면..으로 자연적 영어표현\n",
    "    print (\"a가 들어 있음\") ##\"a가 들어 있음\" 출력"
   ]
  },
  {
   "cell_type": "code",
   "execution_count": 26,
   "id": "40140806",
   "metadata": {},
   "outputs": [],
   "source": [
    "a=\"abcDefGh\" #문자열 선언"
   ]
  },
  {
   "cell_type": "code",
   "execution_count": 27,
   "id": "7191a396",
   "metadata": {},
   "outputs": [
    {
     "data": {
      "text/plain": [
       "'ABCDEFGH'"
      ]
     },
     "execution_count": 27,
     "metadata": {},
     "output_type": "execute_result"
    }
   ],
   "source": [
    "a.upper() #a의 문자열을 대문자로 바꾸기"
   ]
  },
  {
   "cell_type": "code",
   "execution_count": 28,
   "id": "7cc9a11d",
   "metadata": {},
   "outputs": [],
   "source": [
    "a=\"abcDefGh\" #문자열 선언"
   ]
  },
  {
   "cell_type": "code",
   "execution_count": 29,
   "id": "8d4285b5",
   "metadata": {},
   "outputs": [
    {
     "data": {
      "text/plain": [
       "'abcdefgh'"
      ]
     },
     "execution_count": 29,
     "metadata": {},
     "output_type": "execute_result"
    }
   ],
   "source": [
    "a.lower() #a의 문자열을 소문자로 바꾸기"
   ]
  },
  {
   "cell_type": "code",
   "execution_count": 30,
   "id": "38db70aa",
   "metadata": {},
   "outputs": [],
   "source": [
    "a=\"   abc  def  hij      \" # 문자열 선언"
   ]
  },
  {
   "cell_type": "code",
   "execution_count": 31,
   "id": "836ffa1c",
   "metadata": {},
   "outputs": [
    {
     "data": {
      "text/plain": [
       "'abc  def  hij      '"
      ]
     },
     "execution_count": 31,
     "metadata": {},
     "output_type": "execute_result"
    }
   ],
   "source": [
    "a.lstrip()\n",
    "#lstrip()함수는 문자열 왼쪽 끝의 모든 공백을 지우는 함수로\n",
    "#a문자열의 쪽 끝의 모든 공백을 지운다."
   ]
  },
  {
   "cell_type": "code",
   "execution_count": 32,
   "id": "9947a285",
   "metadata": {},
   "outputs": [],
   "source": [
    "a=\"   abc  def  hij      \"  #문자열 선언"
   ]
  },
  {
   "cell_type": "code",
   "execution_count": 33,
   "id": "15f46bec",
   "metadata": {},
   "outputs": [
    {
     "data": {
      "text/plain": [
       "'   abc  def  hij'"
      ]
     },
     "execution_count": 33,
     "metadata": {},
     "output_type": "execute_result"
    }
   ],
   "source": [
    "a.rstrip()\n",
    "#a 문자열의 오른쪽 끝의 모든 공백을 지움"
   ]
  },
  {
   "cell_type": "code",
   "execution_count": 54,
   "id": "96d0d730",
   "metadata": {},
   "outputs": [],
   "source": [
    "a=\"   abc  def  hij      \"#문자열 선언"
   ]
  },
  {
   "cell_type": "code",
   "execution_count": 55,
   "id": "80c96a17",
   "metadata": {},
   "outputs": [
    {
     "data": {
      "text/plain": [
       "'abc  def  hij'"
      ]
     },
     "execution_count": 55,
     "metadata": {},
     "output_type": "execute_result"
    }
   ],
   "source": [
    "a.strip()\n",
    "#a 문자열의 왼쪽 끝과 오른쪽 끝의 모든 공백을 지움"
   ]
  },
  {
   "cell_type": "code",
   "execution_count": 36,
   "id": "f4f79fdf",
   "metadata": {},
   "outputs": [],
   "source": [
    "a=\"   abc  def  hij      \"#문자열 선언"
   ]
  },
  {
   "cell_type": "code",
   "execution_count": 37,
   "id": "a475434a",
   "metadata": {},
   "outputs": [
    {
     "data": {
      "text/plain": [
       "'abcdefhij'"
      ]
     },
     "execution_count": 37,
     "metadata": {},
     "output_type": "execute_result"
    }
   ],
   "source": [
    "a.replace(\" \",\"\")\n",
    "# a 문자열의 모든 공백을 지움"
   ]
  },
  {
   "cell_type": "code",
   "execution_count": 38,
   "id": "0fa45771",
   "metadata": {},
   "outputs": [
    {
     "name": "stdout",
     "output_type": "stream",
     "text": [
      "==========\n",
      "이름:  홍길동\n",
      "국어:  100\n",
      "영어:  95\n",
      "수학:  88\n",
      "==========\n"
     ]
    }
   ],
   "source": [
    "rec=\"홍길동,100,95,88\" #rec 변수에 문자열을 할당\n",
    "item=rec.split(\",\")\n",
    "# rec 문자열을 ','를 기준으로 분리한 결과를 리스트 형태로 item 변수에 할당\n",
    "print(\"=\"*10) # 등호 10개를 출력\n",
    "print(\"이름: \", item[0])\n",
    "## 이름을 출력합니다. item[0]에는 '홍길동'이 저장\n",
    "print(\"국어: \", item[1])\n",
    "## 국어 점수를 출력합니다. item[1]에는 '100'이 저장\n",
    "print(\"영어: \", item[2])\n",
    "# 영어 점수를 출력합니다. item[2]에는 '95'가 저장\n",
    "print(\"수학: \", item[3])\n",
    "# 수학 점수를 출력합니다. item[3]에는 '88'이 저장\n",
    "print(\"=\"*10) # 등호 10개를 출력"
   ]
  },
  {
   "cell_type": "code",
   "execution_count": 43,
   "id": "a2f4c773",
   "metadata": {
    "scrolled": true
   },
   "outputs": [
    {
     "name": "stdout",
     "output_type": "stream",
     "text": [
      "==========\n",
      "0 ==> 본\n",
      "1 ==> 예제는\n",
      "2 ==> 빈칸으로\n",
      "3 ==> 구분되어\n",
      "4 ==> 있는\n",
      "5 ==> 한\n",
      "6 ==> 줄의\n",
      "7 ==> 데이터를\n",
      "8 ==> 빈칸을\n",
      "9 ==> \n",
      "10 ==> \n",
      "11 ==> \n",
      "12 ==> \n",
      "13 ==> \n",
      "14 ==> 구분하여\n",
      "15 ==> 나누어\n",
      "16 ==> 줌\n",
      "==========\n"
     ]
    }
   ],
   "source": [
    "rec=\"본 예제는 빈칸으로 구분되어 있는 한 줄의 데이터를 빈칸을      구분하여 나누어 줌\"\n",
    "# rec 변수에 문자열을 할\n",
    "item=rec.split(\" \") \n",
    "## rec 문자열을 공백을 기준으로 분리한 결과를 리스트 형태로 item 변수에 할당\n",
    "print(\"=\"*10)\n",
    "## 등호 10개를 출력\n",
    "i=0\n",
    "#i 변수를 초기화\n",
    "for s in item: \n",
    "## item 리스트의 요소를 하나씩 순회하며 반복\n",
    "    print(i,\"==>\", s) \n",
    "    # 요소의 인덱스와 값을 출력\n",
    "    i+=1 # i 변수를 1 증가\n",
    "print(\"=\"*10) # 등호 10개를 출력"
   ]
  },
  {
   "cell_type": "code",
   "execution_count": 44,
   "id": "be4eeb61",
   "metadata": {},
   "outputs": [
    {
     "name": "stdout",
     "output_type": "stream",
     "text": [
      "[['나연', 100, 90, 100], ['정연', 90, 90, 100], ['모모', 80, 70, 90], ['사나', 90, 90, 80], ['지효', 100, 80, 80], ['미나', 50, 90, 90], ['다현', 80, 60, 100], ['채영', 70, 80, 90], ['쯔위', 100, 90, 90]]\n"
     ]
    }
   ],
   "source": [
    "#데이터 \n",
    "dili_score=[\"나연,100,90,100\",\n",
    "            \"정연,90,90,100\",\n",
    "            \"모모,80,70,90\",\n",
    "            \"사나,90,90,80\",\n",
    "            \"지효,100,80,80\",\n",
    "            \"미나,50,90,90\",\n",
    "            \"다현,80,60,100\",\n",
    "            \"채영,70,80,90\",\n",
    "            \"쯔위,100,90,90\"]\n",
    "score=[] #빈 리스트를 생성\n",
    "for one_rec in dili_score:\n",
    "# dili_score 리스트의 각 요소를 반복하며, 반복 변수로 one_rec을 사용\n",
    "    one_score=one_rec.split(\",\")# one_rec 문자열을 ','를 구분자로 분리한 결과를 리스트로 만든다.\n",
    "    one_score[1]=int(one_score[1]) #국어점수 숫자형 변환\n",
    "    one_score[2]=int(one_score[2]) #영어점수 숫자형 변환\n",
    "    one_score[3]=int(one_score[3]) #수학점수 숫자형 변환 \n",
    "    score.append(one_score.copy()) # copy에 주의할 것..값 복사\n",
    "                                   # one_score 리스트를 복사하여 score 리스트에 추가\n",
    "print(score) # score 리스트를 출력"
   ]
  },
  {
   "cell_type": "code",
   "execution_count": 45,
   "id": "5feff293",
   "metadata": {},
   "outputs": [
    {
     "name": "stdout",
     "output_type": "stream",
     "text": [
      "case1\n",
      "품목: 오징어땅콩  단가: 1000 원    수량: 10 개    합계: 10000 원\n",
      "case2\n",
      "품목:오징어땅콩  단가:1000원         수량:10개 합계:10000원\n",
      "case3\n",
      "품목:오징어땅콩  단가:1000원 수량:10개 합계:10000원\n",
      "case4\n",
      "품목:오징어땅콩       단가:01000원        수량:0x0a개 합계: 10000.000원\n"
     ]
    }
   ],
   "source": [
    "item=\"오징어땅콩\"   #품목 \n",
    "unit=1000           #단가 \n",
    "qty=10              #수량 \n",
    "tot=unit*qty        #합계\n",
    "print(\"case1\") #지금까지 사용한 print방법, 칸이 띄어서 출력\n",
    "print(\"품목:\",item,\" 단가:\",unit,\"원    수량:\",qty,\"개    합계:\",tot,\"원\")\n",
    "#,를 사용하여 각각의 변수와 문자열을 출력\n",
    "print(\"case2\") #하나의 긴 문자열을 만들어 출력하면 공백없이 출력이 가능\n",
    "print(\"품목:\"+item+\"  단가:\"+str(unit)+\"원         수량:\"+str(qty)+\"개 합계:\"+str(tot)+\"원\")\n",
    "# +를 사용하여 문자열과 변수를 이어 붙인다.\n",
    "print(\"case3\") #출력포멧문자를 지정하여 원하는 포멧으로 출력이 가능\n",
    "print(\"품목:%s  단가:%d원 수량:%d개 합계:%d원\"%(item,unit,qty,tot))\n",
    "print(\"case4\") #포멧팅    예\n",
    "print(\"품목:%-10s  단가:%05d원        수량:0x%02x개 합계:%10.3f원\"%(item,unit,qty,tot))\n",
    "#-10s: 10자리를 확보하고 왼쪽 정렬하여 문자열(item)을 출력\n",
    "#05d: 5자리를 확보하고 빈자리는 0으로 채우고 오른쪽 정렬하여 정수(unit)를 출력\n",
    "#0x%02x: 2자리를 확보하고 빈자리는 0으로 채우고 소문자 16진수(prefix 0x)로 출력할 변수(qty)를 지정\n",
    "#%10.3f: 10자리를 확보하고 소수점 이하 3자리까지 표현하며 실수형 변수(tot)를 출력"
   ]
  },
  {
   "cell_type": "code",
   "execution_count": 46,
   "id": "165203ae",
   "metadata": {},
   "outputs": [
    {
     "name": "stdout",
     "output_type": "stream",
     "text": [
      "[ 1000][1000 ][01000]\n",
      "[   땅콩][땅콩   ][   땅콩]\n",
      "[1000]=[3e8][0x3e8][1750]\n",
      "[ 1000%]\n",
      "[a][b][c]\n"
     ]
    }
   ],
   "source": [
    "item=\"땅콩\"   #문자 \n",
    "unit=1000     #숫자\n",
    "print(\"[%5d][%-5d][%05d]\"%(unit,unit,unit)) \n",
    "#%5d: 10진수 정수를 5칸 오른쪽으로 정렬\n",
    "#%-5d: 10진수 정수를 5칸 왼쪽으로 정렬\n",
    "#%05d: 10진수 정수를 5칸 오른쪽으로 정렬하고 빈 칸은 0으로 채움\n",
    "print(\"[%5s][%-5s][%05s]\"%(item,item,item))\n",
    "#%5d: 10진수 정수를 5칸 오른쪽으로 정렬\n",
    "#%-5d: 10진수 정수를 5칸 왼쪽으로 정렬\n",
    "#%05d: 10진수 정수를 5칸 오른쪽으로 정렬하고 빈 칸은 0으로 채움\n",
    "print(\"[%d]=[%x][%#x][%o]\"%(unit,unit,unit,unit))\n",
    "#%d: 10진수 정수\n",
    "#%x: 16진수 정수 (소문자)\n",
    "#%#x: 16진수 정수 (소문자) 앞에 '0x' 표기\n",
    "#%o: 8진수 정수\n",
    "print(\"[%5d%%]\"%unit)\n",
    "#한글은 1byte로 자르면 에러\n",
    "#print(\"[%c][%c][%c]\"%(unit[0],unit[1])) \n",
    "#%c: 문자\n",
    "a=\"abcd\"\n",
    "print(\"[%c][%c][%c]\"%(a[0],a[1],a[2]))\n",
    "#%c: 문자"
   ]
  },
  {
   "cell_type": "code",
   "execution_count": 48,
   "id": "ae2b9343",
   "metadata": {},
   "outputs": [
    {
     "name": "stdout",
     "output_type": "stream",
     "text": [
      "-1,234,567,890.123\n"
     ]
    }
   ],
   "source": [
    "import locale #locale라이브러리를 임포트 함, 설치는 필요없음 \n",
    "locale.setlocale(locale.LC_ALL, \"\") # 시스템 기본 로케일 사용 \n",
    "n = -1234567890.123 #변수 n 선언\n",
    "s = locale.format_string(\"%.3f\", n, 1) \n",
    "# 함수를 사용하여 실수형 변수 n을 천 단위마다 쉼표(,)를 추가한 문자열로 변환\n",
    "print(s)\n",
    "#변환된 문자열 s를 출력"
   ]
  },
  {
   "cell_type": "code",
   "execution_count": 50,
   "id": "0880dd10",
   "metadata": {},
   "outputs": [],
   "source": [
    "import locale #locale라이브러리를 임포트 함, 설치는 필요없음 \n",
    "locale.setlocale(locale.LC_ALL, \"\") # 시스템 기본 로케일 사용\n",
    "myWon=1000000  #100만원\n",
    "moneyEx=1010.12 # 달러환율 \n",
    "commission_rate=0.002 # 은행 수수료 율\n",
    "a = moneyEx + moneyEx*commission_rate  #1달러당 환율금액과 해당금액에 대한 수수료의 합 \n",
    "usd = int (myWon /a) # 나의 돈을 위의 금액으로 나오면 소수점이 나오기 때문에\n",
    "# 해당 소수점을 버린다 즉 100만원에 989.99달러 나오면 \n",
    "#989달러를 준다. 소수점 아래는 버린다\n",
    "remain = int(myWon - usd * a)  # 거스름돈 계산 =100만원 - 달러액*(환율+달러당 수수료)\n",
    "# 소수점 아래는 버린다.\n",
    "commission = usd * moneyEx * commission_rate # 환전 수수료총액 계산,\n",
    "#이 금액은 소수점이하 올림처리해  보자\n",
    "if(commission != float(int(commission))) : # 이 비교문은 소수점이 있는지 체크 \n",
    "    commission = int(commission) +1 #소수점이 있다면 올려서 은행이 처리\n",
    "else:\n",
    "    commission = int(commission) #소수점 아래 숫자가 없다면 단순 정수형 처리"
   ]
  },
  {
   "cell_type": "code",
   "execution_count": 52,
   "id": "b5473f95",
   "metadata": {},
   "outputs": [
    {
     "name": "stdout",
     "output_type": "stream",
     "text": [
      "***************************************************\n",
      "총금액:    1,000,000원    \t달러환율: $1,010       \n",
      "지급달러: $988         \n",
      "거스름돈:      5원    \t은행수수료:  1,996원\n",
      "***************************************************\n"
     ]
    }
   ],
   "source": [
    "print(\"***************************************************\") # 구분선 출력\n",
    "print(\"총금액: %s원    \\t달러환율: $%s\"%( \n",
    "locale.format_string(\"%12d\", myWon, 1),\n",
    "#myWon 변수에 저장된 원화 금액을 오른쪽 정렬하여 12자리로 출력하되, 천 단위마다 쉼표(,)를 추가한 뒤 \n",
    "#문자열로 변환\n",
    "locale.format_string(\"%-12d\", moneyEx, 1)) )\n",
    "#변수에 저장된 원화 금액과 moneyEx 변수에 저장된 환율을 이용하여 달러 금액을 계산하고, 이를 포맷팅하여 출력\n",
    "#1은 천단위를 구분할 때 쓴다.\n",
    "print(\"지급달러: $%s\"% locale.format_string(\"%-12d\", usd, 1)) \n",
    "#usd 변수에 저장된 달러 금액을 포맷팅하여 출력\n",
    "#usd 변수에 저장된 달러 금액을 왼쪽 정렬하여 12자리로 출력하되, 천 단위마다 쉼표(,)를 추가한 뒤 문자열로 변환\n",
    "#1은 천단위를 구분할 때 쓴다.\n",
    "print(\"거스름돈: %s원    \\t은행수수료: %s원\"%( \n",
    "#거스름돈과 은행 수수료를 포맷팅하여 출력\n",
    "locale.format_string(\"%6d\", remain, 1), \n",
    "#변수에 저장된 거스름돈을 오른쪽 정렬하여 6자리로 출력하되, 천 단위마다 쉼표(,)를 추가한 뒤 문자열로 변환\n",
    "locale.format_string(\"%6d\", commission, 1)) )\n",
    "# 변수에 저장된 은행 수수료를 오른쪽 정렬하여 6자리로 출력하되, 천 단위마다 쉼표(,)를 추가한 뒤 문자열로 변환\n",
    "print(\"***************************************************\")\n",
    "#구분선을 출력"
   ]
  },
  {
   "cell_type": "code",
   "execution_count": null,
   "id": "28095bd0",
   "metadata": {},
   "outputs": [],
   "source": []
  }
 ],
 "metadata": {
  "kernelspec": {
   "display_name": "Python 3 (ipykernel)",
   "language": "python",
   "name": "python3"
  },
  "language_info": {
   "codemirror_mode": {
    "name": "ipython",
    "version": 3
   },
   "file_extension": ".py",
   "mimetype": "text/x-python",
   "name": "python",
   "nbconvert_exporter": "python",
   "pygments_lexer": "ipython3",
   "version": "3.8.8rc1"
  }
 },
 "nbformat": 4,
 "nbformat_minor": 5
}
