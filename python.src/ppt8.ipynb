{
 "cells": [
  {
   "cell_type": "code",
   "execution_count": 1,
   "id": "a03746ba",
   "metadata": {},
   "outputs": [],
   "source": [
    "a=[1,2,3,4,5] # 리스트 a 정의"
   ]
  },
  {
   "cell_type": "code",
   "execution_count": 3,
   "id": "aae1a74d",
   "metadata": {},
   "outputs": [
    {
     "data": {
      "text/plain": [
       "(1, 2, 3, 4, 5)"
      ]
     },
     "execution_count": 3,
     "metadata": {},
     "output_type": "execute_result"
    }
   ],
   "source": [
    "a[0],a[1],a[2],a[3],a[4] #리스트를 지정하면 첨자 0부터 ~ (n-1)까지의 변수로 지정"
   ]
  },
  {
   "cell_type": "code",
   "execution_count": 4,
   "id": "a0e0996a",
   "metadata": {},
   "outputs": [],
   "source": [
    " a=[11,\"abc\",12.3333,\"안녕\",2+3j] #리스트 내부에서는 서로 다른 형태의 자료형도 저장이 \n",
    "                                  #가능함"
   ]
  },
  {
   "cell_type": "code",
   "execution_count": 5,
   "id": "cf36257c",
   "metadata": {},
   "outputs": [
    {
     "data": {
      "text/plain": [
       "(11, 'abc', 12.3333, '안녕', (2+3j))"
      ]
     },
     "execution_count": 5,
     "metadata": {},
     "output_type": "execute_result"
    }
   ],
   "source": [
    "a[0],a[1],a[2],a[3],a[4] #리스트를 지정하면 첨자 0부터 ~ (n-1)까지의 변수로 지정"
   ]
  },
  {
   "cell_type": "code",
   "execution_count": 6,
   "id": "de40f8cd",
   "metadata": {},
   "outputs": [],
   "source": [
    "a[1]=1234;a[4]=\"홍길동\" #값의 (형태)변경도 가능"
   ]
  },
  {
   "cell_type": "code",
   "execution_count": 7,
   "id": "46894aac",
   "metadata": {},
   "outputs": [
    {
     "data": {
      "text/plain": [
       "[11, 1234, 12.3333, '안녕', '홍길동']"
      ]
     },
     "execution_count": 7,
     "metadata": {},
     "output_type": "execute_result"
    }
   ],
   "source": [
    "a #a출력"
   ]
  },
  {
   "cell_type": "code",
   "execution_count": 9,
   "id": "b156cd2e",
   "metadata": {},
   "outputs": [
    {
     "name": "stdout",
     "output_type": "stream",
     "text": [
      "점수( 90 )\n",
      "점수( 80 )\n",
      "점수( 70 )\n",
      "점수( 60 )\n",
      "점수( 30 )\n",
      "총점: 330\n"
     ]
    }
   ],
   "source": [
    "score=[90,80,70,60,30] # 리스트 score 정의\n",
    "sum=0 #sum을 0으로 초기화\n",
    "for s in score: \n",
    "# for loop를 이용하여 리스트의 원소를 하나씩 출력\n",
    "    print(\"점수(\",s,\")\") \n",
    "    #원소 s를 출력하고, 괄호 안에 '점수' 라는 문자열을 함께 출력\n",
    "    sum+=s # sum 변수에 리스트의 원소 s를 더함\n",
    "print(\"총점:\",sum) # 리스트의 모든 원소를 더한 총합을 출력"
   ]
  },
  {
   "cell_type": "code",
   "execution_count": 10,
   "id": "d2934613",
   "metadata": {},
   "outputs": [],
   "source": [
    "a=[1,2,3,4,5] # 리스트 a 정의"
   ]
  },
  {
   "cell_type": "code",
   "execution_count": 11,
   "id": "11f9ffc0",
   "metadata": {},
   "outputs": [
    {
     "data": {
      "text/plain": [
       "(1, 1)"
      ]
     },
     "execution_count": 11,
     "metadata": {},
     "output_type": "execute_result"
    }
   ],
   "source": [
    "a[0],a[-5]\n",
    "#a[0]: a 리스트의 첫 번째 인덱스 값을 의미\n",
    "#a[-5]는 리스트 a에서 뒤에서부터 다섯 번째 원소"
   ]
  },
  {
   "cell_type": "code",
   "execution_count": 12,
   "id": "786296e5",
   "metadata": {},
   "outputs": [
    {
     "data": {
      "text/plain": [
       "(2, 2)"
      ]
     },
     "execution_count": 12,
     "metadata": {},
     "output_type": "execute_result"
    }
   ],
   "source": [
    "a[1],a[-4]\n",
    "#a[1]: a 리스트의 두 번째 인덱스 값을 의미\n",
    "#a[-4]는 리스트 a에서 뒤에서부터 네번째 원소"
   ]
  },
  {
   "cell_type": "code",
   "execution_count": 13,
   "id": "af6dc891",
   "metadata": {},
   "outputs": [
    {
     "data": {
      "text/plain": [
       "(3, 3)"
      ]
     },
     "execution_count": 13,
     "metadata": {},
     "output_type": "execute_result"
    }
   ],
   "source": [
    "a[2],a[-3]\n",
    "#a[2]: a 리스트의 세 번째 인덱스 값을 의미\n",
    "#a[-3]는 리스트 a에서 뒤에서부터 세번째 원소"
   ]
  },
  {
   "cell_type": "code",
   "execution_count": 14,
   "id": "ec0d881a",
   "metadata": {},
   "outputs": [
    {
     "data": {
      "text/plain": [
       "(4, 4)"
      ]
     },
     "execution_count": 14,
     "metadata": {},
     "output_type": "execute_result"
    }
   ],
   "source": [
    "a[3],a[-2]\n",
    "#a[3]: a 리스트의 네번째 인덱스 값을 의미\n",
    "#a[-2]는 리스트 a에서 뒤에서부터 두번째 원소"
   ]
  },
  {
   "cell_type": "code",
   "execution_count": 15,
   "id": "0ec4e3de",
   "metadata": {},
   "outputs": [
    {
     "data": {
      "text/plain": [
       "(5, 5)"
      ]
     },
     "execution_count": 15,
     "metadata": {},
     "output_type": "execute_result"
    }
   ],
   "source": [
    "a[4],a[-1]\n",
    "#a[4]: a 리스트의 다섯번째 인덱스 값을 의미\n",
    "#a[-1]는 리스트 a에서 뒤에서부터 첫 번째 원소"
   ]
  },
  {
   "cell_type": "code",
   "execution_count": 16,
   "id": "32a97185",
   "metadata": {},
   "outputs": [],
   "source": [
    "a=[1,2,3,4,5,6,7,8,9,10] #리스트 a정의"
   ]
  },
  {
   "cell_type": "code",
   "execution_count": 17,
   "id": "eb6c9296",
   "metadata": {},
   "outputs": [
    {
     "data": {
      "text/plain": [
       "[3, 4, 5, 6, 7, 8]"
      ]
     },
     "execution_count": 17,
     "metadata": {},
     "output_type": "execute_result"
    }
   ],
   "source": [
    "a[2:8] # 2부터 8보다 작을 때까지(2,3,4,5,6,7)"
   ]
  },
  {
   "cell_type": "code",
   "execution_count": 18,
   "id": "eaca3a46",
   "metadata": {},
   "outputs": [
    {
     "data": {
      "text/plain": [
       "[1, 2, 3, 4]"
      ]
     },
     "execution_count": 18,
     "metadata": {},
     "output_type": "execute_result"
    }
   ],
   "source": [
    "a[:4] #처음부터 4보다 작을 때까지(0,1,2,3 주의 a[4]제외)"
   ]
  },
  {
   "cell_type": "code",
   "execution_count": 19,
   "id": "38535ab2",
   "metadata": {},
   "outputs": [
    {
     "data": {
      "text/plain": [
       "[6, 7, 8, 9, 10]"
      ]
     },
     "execution_count": 19,
     "metadata": {},
     "output_type": "execute_result"
    }
   ],
   "source": [
    "a[5:] #5부터 끝까지"
   ]
  },
  {
   "cell_type": "code",
   "execution_count": 20,
   "id": "1d5dac4a",
   "metadata": {},
   "outputs": [
    {
     "data": {
      "text/plain": [
       "[1, 4]"
      ]
     },
     "execution_count": 20,
     "metadata": {},
     "output_type": "execute_result"
    }
   ],
   "source": [
    "a[0:6:3] #0부터 6보다 작을때 까지(6은 제외  0,3) 3씩 증가하여"
   ]
  },
  {
   "cell_type": "code",
   "execution_count": 21,
   "id": "4a30794a",
   "metadata": {},
   "outputs": [],
   "source": [
    "a=[[1,2,3],[4,5,6],[7,8,9]] #리스트로 구성된 리스트"
   ]
  },
  {
   "cell_type": "code",
   "execution_count": 22,
   "id": "8756162a",
   "metadata": {},
   "outputs": [
    {
     "data": {
      "text/plain": [
       "[7, 8, 9]"
      ]
     },
     "execution_count": 22,
     "metadata": {},
     "output_type": "execute_result"
    }
   ],
   "source": [
    "a[2] #a리스트의 세번째 인덱스 값"
   ]
  },
  {
   "cell_type": "code",
   "execution_count": 23,
   "id": "a6d84e00",
   "metadata": {},
   "outputs": [
    {
     "data": {
      "text/plain": [
       "9"
      ]
     },
     "execution_count": 23,
     "metadata": {},
     "output_type": "execute_result"
    }
   ],
   "source": [
    "a[2][2] #a리스트의 세번째 인덱스 리스트의 세번째 값"
   ]
  },
  {
   "cell_type": "code",
   "execution_count": 24,
   "id": "bab0091b",
   "metadata": {},
   "outputs": [
    {
     "ename": "IndexError",
     "evalue": "list index out of range",
     "output_type": "error",
     "traceback": [
      "\u001b[1;31m---------------------------------------------------------------------------\u001b[0m",
      "\u001b[1;31mIndexError\u001b[0m                                Traceback (most recent call last)",
      "Cell \u001b[1;32mIn[24], line 1\u001b[0m\n\u001b[1;32m----> 1\u001b[0m \u001b[43ma\u001b[49m\u001b[43m[\u001b[49m\u001b[38;5;241;43m1\u001b[39;49m\u001b[43m]\u001b[49m\u001b[43m[\u001b[49m\u001b[38;5;241;43m3\u001b[39;49m\u001b[43m]\u001b[49m\n",
      "\u001b[1;31mIndexError\u001b[0m: list index out of range"
     ]
    }
   ],
   "source": [
    "a[1][3] #첨자(index)의 범위를 벗어남"
   ]
  },
  {
   "cell_type": "code",
   "execution_count": 25,
   "id": "b0b3649f",
   "metadata": {},
   "outputs": [
    {
     "data": {
      "text/plain": [
       "6"
      ]
     },
     "execution_count": 25,
     "metadata": {},
     "output_type": "execute_result"
    }
   ],
   "source": [
    "a[1][2] #a리스트의 두번째 인덱스 리스트의 세번째 값"
   ]
  },
  {
   "cell_type": "code",
   "execution_count": 26,
   "id": "a8d4fb73",
   "metadata": {},
   "outputs": [],
   "source": [
    "a=[[1,2],[3,4,5],6] # 가변    형태의    리스트"
   ]
  },
  {
   "cell_type": "code",
   "execution_count": 27,
   "id": "1aedef93",
   "metadata": {},
   "outputs": [
    {
     "data": {
      "text/plain": [
       "[[1, 2], [3, 4, 5], 6]"
      ]
     },
     "execution_count": 27,
     "metadata": {},
     "output_type": "execute_result"
    }
   ],
   "source": [
    "a #리스트 a출력"
   ]
  },
  {
   "cell_type": "code",
   "execution_count": 28,
   "id": "54412f30",
   "metadata": {},
   "outputs": [
    {
     "data": {
      "text/plain": [
       "6"
      ]
     },
     "execution_count": 28,
     "metadata": {},
     "output_type": "execute_result"
    }
   ],
   "source": [
    "a[2] #a리스트의 세번째 인덱스 값"
   ]
  },
  {
   "cell_type": "code",
   "execution_count": 29,
   "id": "a87481d2",
   "metadata": {},
   "outputs": [
    {
     "data": {
      "text/plain": [
       "[3, 4, 5]"
      ]
     },
     "execution_count": 29,
     "metadata": {},
     "output_type": "execute_result"
    }
   ],
   "source": [
    "a[1] #a리스트의 두번째 인덱스 값"
   ]
  },
  {
   "cell_type": "code",
   "execution_count": 30,
   "id": "ecfa99f8",
   "metadata": {},
   "outputs": [],
   "source": [
    "a=[ n * 3 for n in range (1,10)]\n",
    "#1부터 10으로 리스트를 구성하여 그 요소 하나하나에 3을 곱한 것을 구함"
   ]
  },
  {
   "cell_type": "code",
   "execution_count": 31,
   "id": "cc9a47b5",
   "metadata": {},
   "outputs": [
    {
     "data": {
      "text/plain": [
       "[3, 6, 9, 12, 15, 18, 21, 24, 27]"
      ]
     },
     "execution_count": 31,
     "metadata": {},
     "output_type": "execute_result"
    }
   ],
   "source": [
    "a #리스트 a 출력"
   ]
  },
  {
   "cell_type": "code",
   "execution_count": 32,
   "id": "cd2c91fd",
   "metadata": {},
   "outputs": [],
   "source": [
    "a=[ n * 3 for n in range (1,10) if n % 2 ==0 ]\n",
    "#1부터 10중 2로 나누어 나머지가 0인(짝수인) 숫자로 리스트를 구성하여 \n",
    "#그 요소 하나하나에 3을 곱한 것을 구함"
   ]
  },
  {
   "cell_type": "code",
   "execution_count": 33,
   "id": "82ec71a5",
   "metadata": {},
   "outputs": [
    {
     "data": {
      "text/plain": [
       "[6, 12, 18, 24]"
      ]
     },
     "execution_count": 33,
     "metadata": {},
     "output_type": "execute_result"
    }
   ],
   "source": [
    "a #리스트 a 출력"
   ]
  },
  {
   "cell_type": "code",
   "execution_count": 157,
   "id": "2cb94544",
   "metadata": {},
   "outputs": [],
   "source": [
    "def titleprint():\n",
    "    pass\n",
    "#titleprint() 함수는 아무런 일도 하지 않고 pass만 있음을 나타낸다.\n",
    "def itemprint(name,kortotal,engtotal,mathtotal):\n",
    "    pass\n",
    "#인자는 국어, 세 번째 인자는 영어, 네 번째 인자는 수학 점수를 받는다. \n",
    "#이 함수는 아무런 일도 하지 않고 pass만 있음을 나타낸다.\n",
    "def tailprint():\n",
    "    pass\n",
    "#tailprint() 함수는 아무런 일도 하지 않고 pass만 있음을 나타낸다.\n",
    "\n",
    "#score는 2차원 리스트로 9명의 학생 정보를 포함\n",
    "score=[[\"나연\",100,90,100],\n",
    "        [\"정연\",90,90,100],\n",
    "        [\"모모\",80,70,90],\n",
    "        [\"사나\",90,90,80],\n",
    "        [\"지효\",100,80,80],\n",
    "        [\"미나\",50,90,90],\n",
    "        [\"다현\",80,60,100],\n",
    "        [\"채영\",70,80,90],\n",
    "        [\"쯔위\",100,90,90]]\n",
    "\n",
    "#프로그램을 보기 좋게 하려고 상수를 정의 \n",
    "name=0;kor=1;eng=2;mat=3\n",
    "#name, kor, eng, mat는 각각 0, 1, 2, 3의 값을 가진다.\n",
    "#여기부터    프로그램 \n",
    "titleprint()\n",
    "#프로그램의 제목을 출력하는 함수\n",
    "for one_student in score:\n",
    "#score 리스트 안에 있는 학생들의 정보를 반복적으로 실행\n",
    "    itemprint(one_student[name],one_student[kor],one_student[eng],one_student[mat]) \n",
    "    #함수를 호출하며, 현재 학생의 정보를 인자로 전달한다. \n",
    "tailprint()\n",
    "#이 함수는 학생의 정보와 함께 표를 출력"
   ]
  },
  {
   "cell_type": "code",
   "execution_count": 186,
   "id": "60cb4e47",
   "metadata": {},
   "outputs": [
    {
     "name": "stdout",
     "output_type": "stream",
     "text": [
      "==================================================\n",
      "이름\t국어\t영어\t수학\t총점\t평균\n",
      "==================================================\n",
      "나연 \t 100 \t 90 \t 100 \t 290 \t 96\n",
      "정연 \t 90 \t 90 \t 100 \t 280 \t 93\n",
      "모모 \t 80 \t 70 \t 90 \t 240 \t 80\n",
      "사나 \t 90 \t 90 \t 80 \t 260 \t 86\n",
      "지효 \t 100 \t 80 \t 80 \t 260 \t 86\n",
      "미나 \t 50 \t 90 \t 90 \t 230 \t 76\n",
      "다현 \t 80 \t 60 \t 100 \t 240 \t 80\n",
      "채영 \t 70 \t 80 \t 90 \t 240 \t 80\n",
      "쯔위 \t 100 \t 90 \t 90 \t 280 \t 93\n",
      "==================================================\n",
      "반총점\t 760 \t 740 \t 820 \t 257 \t 85.0\n",
      "==================================================\n"
     ]
    }
   ],
   "source": [
    "#함수를 자세히 작성해 봄\n",
    "def titleprint():\n",
    "    print(\"=\"*50)\n",
    "    #등호(=)를 이용해 구분선을 출력\n",
    "    print(\"이름\\t국어\\t영어\\t수학\\t총점\\t평균\")\n",
    "    # 이름, 국어, 영어, 수학, 총점, 평균 등의 제목을 출력\n",
    "    print(\"=\"*50)\n",
    "    #등호(=)를 이용해 구분선을 출력\n",
    "    #인자는 국어, 세 번째 인자는 영어, 네 번째 인자는 수학 점수를 받는다. \n",
    "#titleprint() 함수는 아무런 일도 하지 않고 pass만 있음을 나타낸다.\n",
    "    \n",
    "def itemprint(name,kor,eng,mat):\n",
    "    #한 명의 학생의 정보를 출력하는 함수\n",
    "    print(name,\"\\t\",kor,\"\\t\",eng,\"\\t\",mat,\"\\t\",kor+eng+mat,\"\\t\",(kor+eng+mat)//3)\n",
    "    # 함수 내부에는 해당 학생의 이름과 국어, 영어, 수학, 총점, 평균 등의 정보를 출력\n",
    "def tailprint():\n",
    "    # 표의 하단에 총점과 평균을 출력하는 함수\n",
    "    totkor=0 #totkor을 0으로 초기화\n",
    "    toteng=0 #toteng을 0으로 초기화\n",
    "    totmat=0 #totmat을 0으로 초기화\n",
    "    for one_student in score:\n",
    "    #함수 내부에는 for 루프를 통해 score 리스트의 모든 요소를 순회\n",
    "        totkor+=one_student[kor]\n",
    "        toteng+=one_student[eng]\n",
    "        totmat+=one_student[mat] \n",
    "        # 국어, 영어, 수학 점수의 총합을 구합\n",
    "    print(\"=\"*50)\n",
    "    #등호(=)를 이용해 구분선을 출력\n",
    "    print(\"반총점\\t\",totkor,\"\\t\",toteng,\"\\t\",totmat,\"\\t\"\\\n",
    "            ,(totkor+toteng+totmat)//9,\"\\t\",(totkor+toteng+totmat)/3//9) \n",
    "    #총점과 평균을 출력\n",
    "    print(\"=\"*50)\n",
    "    #등호(=)를 이용해 구분선을 출력\n",
    "#score는 2차원 리스트로 9명의 학생 정보를 포함\n",
    "score=[[\"나연\",100,90,100],\n",
    "        [\"정연\",90,90,100],\n",
    "        [\"모모\",80,70,90],\n",
    "        [\"사나\",90,90,80],\n",
    "        [\"지효\",100,80,80],\n",
    "        [\"미나\",50,90,90],\n",
    "        [\"다현\",80,60,100],\n",
    "        [\"채영\",70,80,90],\n",
    "        [\"쯔위\",100,90,90]]\n",
    "    \n",
    "name=0;kor=1;eng=2;mat=3\n",
    "#name, kor, eng, mat는 각각 0, 1, 2, 3의 값을 가진다.\n",
    "#여기부터 프로그램 \n",
    "titleprint()\n",
    "for one_student in score:\n",
    "#score 리스트 안에 있는 학생들의 정보를 반복적으로 실행\n",
    "    itemprint(one_student[name],one_student[kor],one_student[eng],one_student[mat])\n",
    "    #함수를 호출하며, 현재 학생의 정보를 인자로 전달한다. \n",
    "tailprint()\n",
    "#이 함수는 학생의 정보와 함께 표를 출력"
   ]
  },
  {
   "cell_type": "code",
   "execution_count": 64,
   "id": "6e79a7ac",
   "metadata": {},
   "outputs": [],
   "source": [
    "a=[1,2,3,4,5] #리스트 a정의"
   ]
  },
  {
   "cell_type": "code",
   "execution_count": 65,
   "id": "43eaf1d9",
   "metadata": {},
   "outputs": [
    {
     "data": {
      "text/plain": [
       "[1, 2, 3, 4, 5]"
      ]
     },
     "execution_count": 65,
     "metadata": {},
     "output_type": "execute_result"
    }
   ],
   "source": [
    "a #a출력"
   ]
  },
  {
   "cell_type": "code",
   "execution_count": 66,
   "id": "d8824ec9",
   "metadata": {},
   "outputs": [],
   "source": [
    "del a[2] #리스트 a의 두번째 값 삭제"
   ]
  },
  {
   "cell_type": "code",
   "execution_count": 67,
   "id": "9f7d6363",
   "metadata": {},
   "outputs": [
    {
     "data": {
      "text/plain": [
       "[1, 2, 4, 5]"
      ]
     },
     "execution_count": 67,
     "metadata": {},
     "output_type": "execute_result"
    }
   ],
   "source": [
    "a #a 출력"
   ]
  },
  {
   "cell_type": "code",
   "execution_count": 68,
   "id": "776331c4",
   "metadata": {},
   "outputs": [],
   "source": [
    "del a[2] #리스트 a의 두번째 값 삭제"
   ]
  },
  {
   "cell_type": "code",
   "execution_count": 69,
   "id": "861daed4",
   "metadata": {},
   "outputs": [
    {
     "data": {
      "text/plain": [
       "[1, 2, 5]"
      ]
     },
     "execution_count": 69,
     "metadata": {},
     "output_type": "execute_result"
    }
   ],
   "source": [
    "a #a 출력"
   ]
  },
  {
   "cell_type": "code",
   "execution_count": 70,
   "id": "dd6bfe34",
   "metadata": {},
   "outputs": [],
   "source": [
    "a.clear() #리스트 전부 지움"
   ]
  },
  {
   "cell_type": "code",
   "execution_count": 71,
   "id": "162b0644",
   "metadata": {},
   "outputs": [
    {
     "data": {
      "text/plain": [
       "[]"
      ]
     },
     "execution_count": 71,
     "metadata": {},
     "output_type": "execute_result"
    }
   ],
   "source": [
    "a #빈 리스트는 남아있음"
   ]
  },
  {
   "cell_type": "code",
   "execution_count": 72,
   "id": "a4a1a6ef",
   "metadata": {},
   "outputs": [],
   "source": [
    "del a #a공간도 지움"
   ]
  },
  {
   "cell_type": "code",
   "execution_count": 73,
   "id": "adb36d46",
   "metadata": {},
   "outputs": [
    {
     "ename": "NameError",
     "evalue": "name 'a' is not defined",
     "output_type": "error",
     "traceback": [
      "\u001b[1;31m---------------------------------------------------------------------------\u001b[0m",
      "\u001b[1;31mNameError\u001b[0m                                 Traceback (most recent call last)",
      "Cell \u001b[1;32mIn[73], line 1\u001b[0m\n\u001b[1;32m----> 1\u001b[0m \u001b[43ma\u001b[49m\n",
      "\u001b[1;31mNameError\u001b[0m: name 'a' is not defined"
     ]
    }
   ],
   "source": [
    "a #a라는 공간이 없기 때문에 오류가 뜸"
   ]
  },
  {
   "cell_type": "code",
   "execution_count": 75,
   "id": "8d6e3d86",
   "metadata": {},
   "outputs": [
    {
     "ename": "NameError",
     "evalue": "name 'a' is not defined",
     "output_type": "error",
     "traceback": [
      "\u001b[1;31m---------------------------------------------------------------------------\u001b[0m",
      "\u001b[1;31mNameError\u001b[0m                                 Traceback (most recent call last)",
      "Cell \u001b[1;32mIn[75], line 1\u001b[0m\n\u001b[1;32m----> 1\u001b[0m \u001b[43ma\u001b[49m\u001b[38;5;241m.\u001b[39mappend(\u001b[38;5;241m1\u001b[39m)\n",
      "\u001b[1;31mNameError\u001b[0m: name 'a' is not defined"
     ]
    }
   ],
   "source": [
    "a.append(1) #리스트가 정의되어 있지 않은 경우 추가는 불가"
   ]
  },
  {
   "cell_type": "code",
   "execution_count": 76,
   "id": "780edfd6",
   "metadata": {},
   "outputs": [],
   "source": [
    "a=[] #빈 리스트를 정의"
   ]
  },
  {
   "cell_type": "code",
   "execution_count": 77,
   "id": "bf6204f7",
   "metadata": {},
   "outputs": [],
   "source": [
    "a.append(1) #1값의 리스트요소를 추가"
   ]
  },
  {
   "cell_type": "code",
   "execution_count": 78,
   "id": "975f0c78",
   "metadata": {},
   "outputs": [],
   "source": [
    "a.append(3) #3값의 리스트요소를 추가"
   ]
  },
  {
   "cell_type": "code",
   "execution_count": 79,
   "id": "b8f6d868",
   "metadata": {},
   "outputs": [],
   "source": [
    "a.append(5) #5값의 리스트요소를 추가"
   ]
  },
  {
   "cell_type": "code",
   "execution_count": 80,
   "id": "debbc7df",
   "metadata": {},
   "outputs": [
    {
     "data": {
      "text/plain": [
       "[1, 3, 5]"
      ]
     },
     "execution_count": 80,
     "metadata": {},
     "output_type": "execute_result"
    }
   ],
   "source": [
    "a # a출력"
   ]
  },
  {
   "cell_type": "code",
   "execution_count": 81,
   "id": "a933674a",
   "metadata": {},
   "outputs": [],
   "source": [
    "a=[4,5,6] #기존 a를 무시하고 다시 정의"
   ]
  },
  {
   "cell_type": "code",
   "execution_count": 82,
   "id": "cdd55a4a",
   "metadata": {},
   "outputs": [],
   "source": [
    "a.append(10) #5값의 리스트요소를 추가"
   ]
  },
  {
   "cell_type": "code",
   "execution_count": 83,
   "id": "0df2b06d",
   "metadata": {},
   "outputs": [
    {
     "data": {
      "text/plain": [
       "[4, 5, 6, 10]"
      ]
     },
     "execution_count": 83,
     "metadata": {},
     "output_type": "execute_result"
    }
   ],
   "source": [
    "a # a출력"
   ]
  },
  {
   "cell_type": "code",
   "execution_count": 84,
   "id": "359aab38",
   "metadata": {},
   "outputs": [],
   "source": [
    "a=[1,2,3,4,5] #빈 리스트를 정의"
   ]
  },
  {
   "cell_type": "code",
   "execution_count": 85,
   "id": "0ceabb29",
   "metadata": {},
   "outputs": [],
   "source": [
    "a.append(6) #append는 맨 뒤에 하나의 요소를 삽입"
   ]
  },
  {
   "cell_type": "code",
   "execution_count": 86,
   "id": "2a5bf108",
   "metadata": {},
   "outputs": [
    {
     "data": {
      "text/plain": [
       "[1, 2, 3, 4, 5, 6]"
      ]
     },
     "execution_count": 86,
     "metadata": {},
     "output_type": "execute_result"
    }
   ],
   "source": [
    "a # a출력"
   ]
  },
  {
   "cell_type": "code",
   "execution_count": 87,
   "id": "d0a9c796",
   "metadata": {},
   "outputs": [],
   "source": [
    "a.insert(3,12) #a의 인덱스 3번 위치에 12를 삽입"
   ]
  },
  {
   "cell_type": "code",
   "execution_count": 88,
   "id": "a96bf873",
   "metadata": {},
   "outputs": [
    {
     "data": {
      "text/plain": [
       "[1, 2, 3, 12, 4, 5, 6]"
      ]
     },
     "execution_count": 88,
     "metadata": {},
     "output_type": "execute_result"
    }
   ],
   "source": [
    "a # a출력"
   ]
  },
  {
   "cell_type": "code",
   "execution_count": 89,
   "id": "1cfb0412",
   "metadata": {},
   "outputs": [],
   "source": [
    "a.insert(4,15) #a의 인덱스 4번 위치에 15를 삽입"
   ]
  },
  {
   "cell_type": "code",
   "execution_count": 90,
   "id": "7601d36c",
   "metadata": {},
   "outputs": [
    {
     "data": {
      "text/plain": [
       "[1, 2, 3, 12, 15, 4, 5, 6]"
      ]
     },
     "execution_count": 90,
     "metadata": {},
     "output_type": "execute_result"
    }
   ],
   "source": [
    "a # a출력"
   ]
  },
  {
   "cell_type": "code",
   "execution_count": 91,
   "id": "99be8843",
   "metadata": {},
   "outputs": [],
   "source": [
    "a.insert(3,1) #a의 인덱스 4번 위치에 1를 삽입"
   ]
  },
  {
   "cell_type": "code",
   "execution_count": 92,
   "id": "17546b13",
   "metadata": {},
   "outputs": [
    {
     "data": {
      "text/plain": [
       "[1, 2, 3, 1, 12, 15, 4, 5, 6]"
      ]
     },
     "execution_count": 92,
     "metadata": {},
     "output_type": "execute_result"
    }
   ],
   "source": [
    "a # a출력"
   ]
  },
  {
   "cell_type": "code",
   "execution_count": 93,
   "id": "5b33e6dc",
   "metadata": {},
   "outputs": [],
   "source": [
    "a=[1, 2, 3, 1, 12, 15, 4, 5, 6] #기존 a를 무시하고 다시 정의"
   ]
  },
  {
   "cell_type": "code",
   "execution_count": 94,
   "id": "89c6bcd8",
   "metadata": {},
   "outputs": [],
   "source": [
    "a[5:5]=[1,2,3,4,5,6] #5에서 5까지 영역에 해당 리스트 값을 대입"
   ]
  },
  {
   "cell_type": "code",
   "execution_count": 95,
   "id": "3ba983a5",
   "metadata": {},
   "outputs": [
    {
     "data": {
      "text/plain": [
       "[1, 2, 3, 1, 12, 1, 2, 3, 4, 5, 6, 15, 4, 5, 6]"
      ]
     },
     "execution_count": 95,
     "metadata": {},
     "output_type": "execute_result"
    }
   ],
   "source": [
    "a # a출력"
   ]
  },
  {
   "cell_type": "code",
   "execution_count": 96,
   "id": "f4f625f6",
   "metadata": {},
   "outputs": [],
   "source": [
    "a=[1, 2, 3, 1, 12, 15, 4, 5, 6] #기존 a를 무시하고 다시 정의"
   ]
  },
  {
   "cell_type": "code",
   "execution_count": 97,
   "id": "cae44525",
   "metadata": {},
   "outputs": [],
   "source": [
    " a[5]=[1,2,3,4,5,6] #5요소에 이 리스트를 대입(큰 차이)"
   ]
  },
  {
   "cell_type": "code",
   "execution_count": 98,
   "id": "dc2af8e6",
   "metadata": {},
   "outputs": [
    {
     "data": {
      "text/plain": [
       "[1, 2, 3, 1, 12, [1, 2, 3, 4, 5, 6], 4, 5, 6]"
      ]
     },
     "execution_count": 98,
     "metadata": {},
     "output_type": "execute_result"
    }
   ],
   "source": [
    "a # a출력"
   ]
  },
  {
   "cell_type": "code",
   "execution_count": 99,
   "id": "fe415fbd",
   "metadata": {},
   "outputs": [],
   "source": [
    "a=[1,2,3] #리스트 a정의"
   ]
  },
  {
   "cell_type": "code",
   "execution_count": 100,
   "id": "f2961050",
   "metadata": {},
   "outputs": [],
   "source": [
    "b=[4,5,6] #리스트 b정의"
   ]
  },
  {
   "cell_type": "code",
   "execution_count": 101,
   "id": "1020642b",
   "metadata": {},
   "outputs": [],
   "source": [
    "a=a+b a리스트에 a와 b의 값 할당"
   ]
  },
  {
   "cell_type": "code",
   "execution_count": 102,
   "id": "06d050c2",
   "metadata": {},
   "outputs": [
    {
     "data": {
      "text/plain": [
       "[1, 2, 3, 4, 5, 6]"
      ]
     },
     "execution_count": 102,
     "metadata": {},
     "output_type": "execute_result"
    }
   ],
   "source": [
    "a # a출력"
   ]
  },
  {
   "cell_type": "code",
   "execution_count": 103,
   "id": "21f918a5",
   "metadata": {},
   "outputs": [],
   "source": [
    "a=[1,2,3] #리스트 a정의"
   ]
  },
  {
   "cell_type": "code",
   "execution_count": 104,
   "id": "386efeb7",
   "metadata": {},
   "outputs": [],
   "source": [
    "b=[4,5,6] #리스트 b정의"
   ]
  },
  {
   "cell_type": "code",
   "execution_count": 105,
   "id": "a37673ba",
   "metadata": {},
   "outputs": [],
   "source": [
    "a.extend(b) #리스트 a의 끝에 리스트 b를 추가"
   ]
  },
  {
   "cell_type": "code",
   "execution_count": 106,
   "id": "f127d49b",
   "metadata": {},
   "outputs": [
    {
     "data": {
      "text/plain": [
       "[1, 2, 3, 4, 5, 6]"
      ]
     },
     "execution_count": 106,
     "metadata": {},
     "output_type": "execute_result"
    }
   ],
   "source": [
    "a # a출력"
   ]
  },
  {
   "cell_type": "code",
   "execution_count": 108,
   "id": "e8dc50f1",
   "metadata": {},
   "outputs": [],
   "source": [
    "a=[1,2,3,3,4,4,5,6,7,7,7,7,8] #리스트 a정의"
   ]
  },
  {
   "cell_type": "code",
   "execution_count": 109,
   "id": "1d8e8e9d",
   "metadata": {},
   "outputs": [
    {
     "data": {
      "text/plain": [
       "[1, 2, 3, 3, 4, 4, 5, 6, 7, 7, 7, 7, 8]"
      ]
     },
     "execution_count": 109,
     "metadata": {},
     "output_type": "execute_result"
    }
   ],
   "source": [
    "a # a출력"
   ]
  },
  {
   "cell_type": "code",
   "execution_count": 110,
   "id": "d6261fd2",
   "metadata": {},
   "outputs": [],
   "source": [
    "a.remove(7) #첫 번째 만나는 7값을 가진 리스트 삭제"
   ]
  },
  {
   "cell_type": "code",
   "execution_count": 111,
   "id": "3d6e889d",
   "metadata": {},
   "outputs": [
    {
     "data": {
      "text/plain": [
       "[1, 2, 3, 3, 4, 4, 5, 6, 7, 7, 7, 8]"
      ]
     },
     "execution_count": 111,
     "metadata": {},
     "output_type": "execute_result"
    }
   ],
   "source": [
    "a # a출력"
   ]
  },
  {
   "cell_type": "code",
   "execution_count": 112,
   "id": "593224e2",
   "metadata": {},
   "outputs": [],
   "source": [
    "a.remove(7) #첫 번째 만나는 7값을 가진 리스트 삭제"
   ]
  },
  {
   "cell_type": "code",
   "execution_count": 113,
   "id": "ea952df7",
   "metadata": {},
   "outputs": [
    {
     "data": {
      "text/plain": [
       "[1, 2, 3, 3, 4, 4, 5, 6, 7, 7, 8]"
      ]
     },
     "execution_count": 113,
     "metadata": {},
     "output_type": "execute_result"
    }
   ],
   "source": [
    "a # a출력"
   ]
  },
  {
   "cell_type": "code",
   "execution_count": 114,
   "id": "7e9ba1fe",
   "metadata": {},
   "outputs": [],
   "source": [
    " a[5:5]=[] \n",
    "#다섯 번째에 빈 값[]이 들어 있는 리스트를 만듬(주의: a[5:5]=[]라고 해야 함)"
   ]
  },
  {
   "cell_type": "code",
   "execution_count": 115,
   "id": "0446bab3",
   "metadata": {},
   "outputs": [
    {
     "data": {
      "text/plain": [
       "[1, 2, 3, 3, 4, [], 5, 6, 7, 7, 8]"
      ]
     },
     "execution_count": 115,
     "metadata": {},
     "output_type": "execute_result"
    }
   ],
   "source": [
    "a # a출력"
   ]
  },
  {
   "cell_type": "code",
   "execution_count": 116,
   "id": "5ab4ecb3",
   "metadata": {},
   "outputs": [],
   "source": [
    "a[2:4]=[] #a 리스트의 인덱스 2부터 4미만까지의 요소를 [] 로"
   ]
  },
  {
   "cell_type": "code",
   "execution_count": 117,
   "id": "c4d6ac35",
   "metadata": {},
   "outputs": [
    {
     "data": {
      "text/plain": [
       "[1, 2, 4, [], 5, 6, 7, 7, 8]"
      ]
     },
     "execution_count": 117,
     "metadata": {},
     "output_type": "execute_result"
    }
   ],
   "source": [
    "a # a출력"
   ]
  },
  {
   "cell_type": "code",
   "execution_count": 118,
   "id": "b17c1181",
   "metadata": {},
   "outputs": [],
   "source": [
    "del(a[4]) #인덱스 4의 값 삭제"
   ]
  },
  {
   "cell_type": "code",
   "execution_count": 119,
   "id": "b5e0581b",
   "metadata": {},
   "outputs": [
    {
     "data": {
      "text/plain": [
       "[1, 2, 4, [], 6, 7, 7, 8]"
      ]
     },
     "execution_count": 119,
     "metadata": {},
     "output_type": "execute_result"
    }
   ],
   "source": [
    "a # a출력"
   ]
  },
  {
   "cell_type": "code",
   "execution_count": 120,
   "id": "c161f138",
   "metadata": {},
   "outputs": [],
   "source": [
    "del(a[3]) #인덱스 3의 값 삭제"
   ]
  },
  {
   "cell_type": "code",
   "execution_count": 121,
   "id": "264d3d31",
   "metadata": {},
   "outputs": [
    {
     "data": {
      "text/plain": [
       "[1, 2, 4, 6, 7, 7, 8]"
      ]
     },
     "execution_count": 121,
     "metadata": {},
     "output_type": "execute_result"
    }
   ],
   "source": [
    "a # a출력"
   ]
  },
  {
   "cell_type": "code",
   "execution_count": 122,
   "id": "e92f3701",
   "metadata": {},
   "outputs": [],
   "source": [
    "a.clear() #다 지우나 빈 값에 리스트가 남음"
   ]
  },
  {
   "cell_type": "code",
   "execution_count": 123,
   "id": "bf474739",
   "metadata": {},
   "outputs": [
    {
     "data": {
      "text/plain": [
       "[]"
      ]
     },
     "execution_count": 123,
     "metadata": {},
     "output_type": "execute_result"
    }
   ],
   "source": [
    "a # a출력"
   ]
  },
  {
   "cell_type": "code",
   "execution_count": 124,
   "id": "3557581d",
   "metadata": {},
   "outputs": [],
   "source": [
    "del(a) #리스트 정의까지 삭제"
   ]
  },
  {
   "cell_type": "code",
   "execution_count": 125,
   "id": "6f53ab21",
   "metadata": {},
   "outputs": [
    {
     "ename": "NameError",
     "evalue": "name 'a' is not defined",
     "output_type": "error",
     "traceback": [
      "\u001b[1;31m---------------------------------------------------------------------------\u001b[0m",
      "\u001b[1;31mNameError\u001b[0m                                 Traceback (most recent call last)",
      "Cell \u001b[1;32mIn[125], line 1\u001b[0m\n\u001b[1;32m----> 1\u001b[0m \u001b[43ma\u001b[49m\n",
      "\u001b[1;31mNameError\u001b[0m: name 'a' is not defined"
     ]
    }
   ],
   "source": [
    "a # a라는 리스트를 삭제했으므로 a를 출력할 수 없다"
   ]
  },
  {
   "cell_type": "code",
   "execution_count": 126,
   "id": "a4306189",
   "metadata": {},
   "outputs": [],
   "source": [
    "a=[1,2,3,3,4,4,5,6,7,7,7,7,8] #리스트 a정의"
   ]
  },
  {
   "cell_type": "code",
   "execution_count": 127,
   "id": "c354c341",
   "metadata": {},
   "outputs": [
    {
     "data": {
      "text/plain": [
       "8"
      ]
     },
     "execution_count": 127,
     "metadata": {},
     "output_type": "execute_result"
    }
   ],
   "source": [
    "a.pop() #a에서 마지막 요소를 제거하고 반환"
   ]
  },
  {
   "cell_type": "code",
   "execution_count": 128,
   "id": "e0928ebf",
   "metadata": {},
   "outputs": [
    {
     "data": {
      "text/plain": [
       "[1, 2, 3, 3, 4, 4, 5, 6, 7, 7, 7, 7]"
      ]
     },
     "execution_count": 128,
     "metadata": {},
     "output_type": "execute_result"
    }
   ],
   "source": [
    "a # a출력"
   ]
  },
  {
   "cell_type": "code",
   "execution_count": 129,
   "id": "717ef779",
   "metadata": {},
   "outputs": [
    {
     "data": {
      "text/plain": [
       "7"
      ]
     },
     "execution_count": 129,
     "metadata": {},
     "output_type": "execute_result"
    }
   ],
   "source": [
    "a.pop() #a에서 마지막 요소를 제거하고 반환"
   ]
  },
  {
   "cell_type": "code",
   "execution_count": 130,
   "id": "24505653",
   "metadata": {},
   "outputs": [
    {
     "data": {
      "text/plain": [
       "3"
      ]
     },
     "execution_count": 130,
     "metadata": {},
     "output_type": "execute_result"
    }
   ],
   "source": [
    "a.pop(3) #a에서 인덱스 3요소를 제거하고 반환"
   ]
  },
  {
   "cell_type": "code",
   "execution_count": 131,
   "id": "8c3a3f91",
   "metadata": {},
   "outputs": [
    {
     "data": {
      "text/plain": [
       "[1, 2, 3, 4, 4, 5, 6, 7, 7, 7]"
      ]
     },
     "execution_count": 131,
     "metadata": {},
     "output_type": "execute_result"
    }
   ],
   "source": [
    "a #a출력"
   ]
  },
  {
   "cell_type": "code",
   "execution_count": 132,
   "id": "3460d54a",
   "metadata": {},
   "outputs": [
    {
     "data": {
      "text/plain": [
       "6"
      ]
     },
     "execution_count": 132,
     "metadata": {},
     "output_type": "execute_result"
    }
   ],
   "source": [
    "a.pop(6) #a에서 인덱스 6요소를 제거하고 반환"
   ]
  },
  {
   "cell_type": "code",
   "execution_count": 133,
   "id": "35ab2619",
   "metadata": {},
   "outputs": [
    {
     "data": {
      "text/plain": [
       "[1, 2, 3, 4, 4, 5, 7, 7, 7]"
      ]
     },
     "execution_count": 133,
     "metadata": {},
     "output_type": "execute_result"
    }
   ],
   "source": [
    "a # a출력"
   ]
  },
  {
   "cell_type": "code",
   "execution_count": 134,
   "id": "20fb1f8d",
   "metadata": {},
   "outputs": [
    {
     "data": {
      "text/plain": [
       "7"
      ]
     },
     "execution_count": 134,
     "metadata": {},
     "output_type": "execute_result"
    }
   ],
   "source": [
    "a.pop(6) #a에서 인덱스 6요소를 제거하고 반환"
   ]
  },
  {
   "cell_type": "code",
   "execution_count": 135,
   "id": "152d1b05",
   "metadata": {},
   "outputs": [
    {
     "data": {
      "text/plain": [
       "1"
      ]
     },
     "execution_count": 135,
     "metadata": {},
     "output_type": "execute_result"
    }
   ],
   "source": [
    "a.pop(0)#a에서 인덱스 0요소를 제거하고 반환"
   ]
  },
  {
   "cell_type": "code",
   "execution_count": 136,
   "id": "83517349",
   "metadata": {},
   "outputs": [
    {
     "data": {
      "text/plain": [
       "[2, 3, 4, 4, 5, 7, 7]"
      ]
     },
     "execution_count": 136,
     "metadata": {},
     "output_type": "execute_result"
    }
   ],
   "source": [
    "a # a출력"
   ]
  },
  {
   "cell_type": "code",
   "execution_count": 137,
   "id": "cd76e169",
   "metadata": {},
   "outputs": [],
   "source": [
    "a=[1,2,3,3,4,4,5,6,7,7,7,7,8] #리스트 a 정의"
   ]
  },
  {
   "cell_type": "code",
   "execution_count": 138,
   "id": "bc1cc29b",
   "metadata": {},
   "outputs": [
    {
     "data": {
      "text/plain": [
       "8"
      ]
     },
     "execution_count": 138,
     "metadata": {},
     "output_type": "execute_result"
    }
   ],
   "source": [
    "a.index(7) #a에서 인덱스 7번째 값"
   ]
  },
  {
   "cell_type": "code",
   "execution_count": 139,
   "id": "52f91313",
   "metadata": {},
   "outputs": [
    {
     "data": {
      "text/plain": [
       "12"
      ]
     },
     "execution_count": 139,
     "metadata": {},
     "output_type": "execute_result"
    }
   ],
   "source": [
    "a.index(8) #값 8의 위치는 12(0부터 시작)"
   ]
  },
  {
   "cell_type": "code",
   "execution_count": 140,
   "id": "618251fc",
   "metadata": {},
   "outputs": [
    {
     "data": {
      "text/plain": [
       "4"
      ]
     },
     "execution_count": 140,
     "metadata": {},
     "output_type": "execute_result"
    }
   ],
   "source": [
    "a.index(4) #값 4의 위치는 4(0부터 시작)"
   ]
  },
  {
   "cell_type": "code",
   "execution_count": 141,
   "id": "12fc57ff",
   "metadata": {},
   "outputs": [
    {
     "data": {
      "text/plain": [
       "4"
      ]
     },
     "execution_count": 141,
     "metadata": {},
     "output_type": "execute_result"
    }
   ],
   "source": [
    "a.count(7) #7은 4번 나옴"
   ]
  },
  {
   "cell_type": "code",
   "execution_count": 142,
   "id": "ddbd344e",
   "metadata": {},
   "outputs": [],
   "source": [
    "a=[1,2,3,3,4,4,5,6,7,7,7,7,8] #리스트 a 정의"
   ]
  },
  {
   "cell_type": "code",
   "execution_count": 143,
   "id": "2fc705d0",
   "metadata": {},
   "outputs": [
    {
     "data": {
      "text/plain": [
       "13"
      ]
     },
     "execution_count": 143,
     "metadata": {},
     "output_type": "execute_result"
    }
   ],
   "source": [
    "min(a);max(a);len(a) #a의 최소값, 최대값, 길이 출력"
   ]
  },
  {
   "cell_type": "code",
   "execution_count": 144,
   "id": "7c16d481",
   "metadata": {},
   "outputs": [],
   "source": [
    "a=[1,8,5,6,2,4,5,2,6,9,4] #리스트 a 정의"
   ]
  },
  {
   "cell_type": "code",
   "execution_count": 145,
   "id": "c1fb932e",
   "metadata": {},
   "outputs": [],
   "source": [
    "a.reverse() #a의 순서를 역순으로 바꾸는 함수"
   ]
  },
  {
   "cell_type": "code",
   "execution_count": 146,
   "id": "c33a2875",
   "metadata": {},
   "outputs": [
    {
     "data": {
      "text/plain": [
       "[4, 9, 6, 2, 5, 4, 2, 6, 5, 8, 1]"
      ]
     },
     "execution_count": 146,
     "metadata": {},
     "output_type": "execute_result"
    }
   ],
   "source": [
    "a # a출력"
   ]
  },
  {
   "cell_type": "code",
   "execution_count": 147,
   "id": "fa3e092e",
   "metadata": {},
   "outputs": [],
   "source": [
    "a.sort() #a의 순서를 오름차순으로 바꾸는 함수"
   ]
  },
  {
   "cell_type": "code",
   "execution_count": 148,
   "id": "aca5538b",
   "metadata": {},
   "outputs": [
    {
     "data": {
      "text/plain": [
       "[1, 2, 2, 4, 4, 5, 5, 6, 6, 8, 9]"
      ]
     },
     "execution_count": 148,
     "metadata": {},
     "output_type": "execute_result"
    }
   ],
   "source": [
    "a # a출력"
   ]
  },
  {
   "cell_type": "code",
   "execution_count": 180,
   "id": "076202a0",
   "metadata": {},
   "outputs": [],
   "source": [
    "import random as r\n",
    "#파이썬의 랜덤 모듈을 가져와서 r이라는 이름으로 사용\n",
    "def titleprint():\n",
    "    pass\n",
    "#함수를 정의. 함수 내용은 pass(아무것도 하지 않음).\n",
    "def itemprint(name,kortotal,engtotal,mathtotal):\n",
    "    pass\n",
    "#함수를 정의. 매개변수로 학생 이름과 국어, 영어, 수학 점수를 받음. \n",
    "#함수 내용은 pass(아무것도 하지 않음).\n",
    "def tailprint():\n",
    "    pass\n",
    "# 함수를 정의. 함수 내용은 pass(아무것도 하지 않음).\n",
    "#데이터 2차원 리스트\n",
    "one_person=[] \n",
    "# 빈 리스트 one_person을 생성.\n",
    "score=[]\n",
    "#빈 리스트 score을 생성\n",
    "for i in range(100):\n",
    "#100번 반복.\n",
    "    one_person.append(\"name\"+str(i)) #이름\n",
    "    one_person.append(r.randrange(10,100)) #국어 10부터 100까지 임의에 값을 추출\n",
    "    one_person.append(r.randrange(10,100)) #영어\n",
    "    one_person.append(r.randrange(10,100)) #수학\n",
    "    score.append(one_person[:]) #값을 복사해서 추가함에 주의할 것 \n",
    "    one_person.clear() #리스트를 비움.\n",
    "#프로그램을 보기 좋게 하려고 상수를 정의 \n",
    "name=0;kor=1;eng=2;mat=3\n",
    "#여기부터 프로그램 \n",
    "titleprint()\n",
    "#titleprint()함수 호출\n",
    "for one_student in score:\n",
    "#score 리스트 안에 있는 학생들의 정보를 반복적으로 실행\n",
    "    itemprint(one_student[name],one_student[kor],one_student[eng],one_student[mat])\n",
    "    #함수를 호출하며, 현재 학생의 정보를 인자로 전달한다. \n",
    "tailprint()\n",
    "#이 함수는 학생의 정보와 함께 표를 출력"
   ]
  },
  {
   "cell_type": "code",
   "execution_count": 165,
   "id": "4782964f",
   "metadata": {},
   "outputs": [],
   "source": [
    "a=(1,8,5,6,2,4,5,2,6,9,4) #튜플 a 정의"
   ]
  },
  {
   "cell_type": "code",
   "execution_count": 175,
   "id": "e2d77fcc",
   "metadata": {},
   "outputs": [
    {
     "data": {
      "text/plain": [
       "(1, 8, 5, 6, 2, 4, 5, 2, 6, 9, 4)"
      ]
     },
     "execution_count": 175,
     "metadata": {},
     "output_type": "execute_result"
    }
   ],
   "source": [
    "a # a출력"
   ]
  },
  {
   "cell_type": "code",
   "execution_count": 167,
   "id": "b58915db",
   "metadata": {},
   "outputs": [
    {
     "data": {
      "text/plain": [
       "4"
      ]
     },
     "execution_count": 167,
     "metadata": {},
     "output_type": "execute_result"
    }
   ],
   "source": [
    "a[5] #a의 다섯번째 인덱스 값"
   ]
  },
  {
   "cell_type": "code",
   "execution_count": 168,
   "id": "6455920c",
   "metadata": {},
   "outputs": [
    {
     "data": {
      "text/plain": [
       "(6, 2)"
      ]
     },
     "execution_count": 168,
     "metadata": {},
     "output_type": "execute_result"
    }
   ],
   "source": [
    "a[3:5] \n",
    "#a의 3번째 원소부터 5번째 원소 바로 앞까지 슬라이싱한 새로운 튜플를 생성하는 코드"
   ]
  },
  {
   "cell_type": "code",
   "execution_count": 169,
   "id": "e457c844",
   "metadata": {},
   "outputs": [
    {
     "data": {
      "text/plain": [
       "(6, 2, 4, 5, 2)"
      ]
     },
     "execution_count": 169,
     "metadata": {},
     "output_type": "execute_result"
    }
   ],
   "source": [
    "a[3:8]\n",
    "##a의 3번째 원소부터 8번째 원소 바로 앞까지 슬라이싱한 새로운 튜플를 생성하는 코드"
   ]
  },
  {
   "cell_type": "code",
   "execution_count": 170,
   "id": "d8d8eb71",
   "metadata": {},
   "outputs": [
    {
     "data": {
      "text/plain": [
       "(1, 8, 5, 6, 2, 4, 5, 2, 6, 9, 4, 1, 8, 5, 6, 2, 4, 5, 2, 6, 9, 4)"
      ]
     },
     "execution_count": 170,
     "metadata": {},
     "output_type": "execute_result"
    }
   ],
   "source": [
    "a*2 #리스트 a를 두 번 반복한 새로운 튜플를 만드는 연산"
   ]
  },
  {
   "cell_type": "code",
   "execution_count": 171,
   "id": "647ffab9",
   "metadata": {},
   "outputs": [
    {
     "data": {
      "text/plain": [
       "(1, 8, 5, 6, 2, 4, 5, 2, 6, 9, 4)"
      ]
     },
     "execution_count": 171,
     "metadata": {},
     "output_type": "execute_result"
    }
   ],
   "source": [
    "a # a출력"
   ]
  },
  {
   "cell_type": "code",
   "execution_count": 172,
   "id": "f7de4b2a",
   "metadata": {},
   "outputs": [
    {
     "ename": "TypeError",
     "evalue": "'tuple' object does not support item assignment",
     "output_type": "error",
     "traceback": [
      "\u001b[1;31m---------------------------------------------------------------------------\u001b[0m",
      "\u001b[1;31mTypeError\u001b[0m                                 Traceback (most recent call last)",
      "Cell \u001b[1;32mIn[172], line 1\u001b[0m\n\u001b[1;32m----> 1\u001b[0m \u001b[43ma\u001b[49m\u001b[43m[\u001b[49m\u001b[38;5;241;43m1\u001b[39;49m\u001b[43m]\u001b[49m\u001b[38;5;241m=\u001b[39m\u001b[38;5;241m5\u001b[39m  \u001b[38;5;66;03m#값    변경불가\u001b[39;00m\n",
      "\u001b[1;31mTypeError\u001b[0m: 'tuple' object does not support item assignment"
     ]
    }
   ],
   "source": [
    "a[1]=5  #값 변경불가"
   ]
  },
  {
   "cell_type": "code",
   "execution_count": 173,
   "id": "37c48057",
   "metadata": {},
   "outputs": [
    {
     "ename": "TypeError",
     "evalue": "'tuple' object doesn't support item deletion",
     "output_type": "error",
     "traceback": [
      "\u001b[1;31m---------------------------------------------------------------------------\u001b[0m",
      "\u001b[1;31mTypeError\u001b[0m                                 Traceback (most recent call last)",
      "Cell \u001b[1;32mIn[173], line 1\u001b[0m\n\u001b[1;32m----> 1\u001b[0m \u001b[38;5;28;01mdel\u001b[39;00m a[\u001b[38;5;241m4\u001b[39m] \u001b[38;5;66;03m#변수 지우기 불가\u001b[39;00m\n",
      "\u001b[1;31mTypeError\u001b[0m: 'tuple' object doesn't support item deletion"
     ]
    }
   ],
   "source": [
    "del a[4] #변수 지우기 불가"
   ]
  },
  {
   "cell_type": "code",
   "execution_count": 174,
   "id": "7d1c943f",
   "metadata": {},
   "outputs": [
    {
     "ename": "AttributeError",
     "evalue": "'tuple' object has no attribute 'append'",
     "output_type": "error",
     "traceback": [
      "\u001b[1;31m---------------------------------------------------------------------------\u001b[0m",
      "\u001b[1;31mAttributeError\u001b[0m                            Traceback (most recent call last)",
      "Cell \u001b[1;32mIn[174], line 1\u001b[0m\n\u001b[1;32m----> 1\u001b[0m \u001b[43ma\u001b[49m\u001b[38;5;241;43m.\u001b[39;49m\u001b[43mappend\u001b[49m(\u001b[38;5;241m10\u001b[39m)\n",
      "\u001b[1;31mAttributeError\u001b[0m: 'tuple' object has no attribute 'append'"
     ]
    }
   ],
   "source": [
    "a.append(10) #값 추가 불가"
   ]
  },
  {
   "cell_type": "code",
   "execution_count": 176,
   "id": "35a797d9",
   "metadata": {},
   "outputs": [
    {
     "name": "stdout",
     "output_type": "stream",
     "text": [
      "((2, 17403), (41, 40338))\n"
     ]
    }
   ],
   "source": [
    "def location():\n",
    "#location() 함수를 정의\n",
    "    latitude = 2, 17403  # 위도 \n",
    "    longitude=41,40338  #경도\n",
    "    return latitude,longitude  #이런방식의 리턴은 튜플로 반환 \n",
    "a=location()\n",
    "#a에는 location() 함수의 반환값이 저장\n",
    "print(a) #a의 값을 출력"
   ]
  },
  {
   "cell_type": "code",
   "execution_count": null,
   "id": "b6c184c9",
   "metadata": {},
   "outputs": [],
   "source": []
  }
 ],
 "metadata": {
  "kernelspec": {
   "display_name": "Python 3 (ipykernel)",
   "language": "python",
   "name": "python3"
  },
  "language_info": {
   "codemirror_mode": {
    "name": "ipython",
    "version": 3
   },
   "file_extension": ".py",
   "mimetype": "text/x-python",
   "name": "python",
   "nbconvert_exporter": "python",
   "pygments_lexer": "ipython3",
   "version": "3.8.8rc1"
  }
 },
 "nbformat": 4,
 "nbformat_minor": 5
}
