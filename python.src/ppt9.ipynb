{
 "cells": [
  {
   "cell_type": "code",
   "execution_count": 1,
   "id": "fa1a7234",
   "metadata": {},
   "outputs": [],
   "source": [
    "a={\"이름\":\"홍길동\", \"국어\":100, \"영어\":88, \"수학\": 95}\n",
    "# 딕셔너리 자료형을 이용해 변수 a를 선언"
   ]
  },
  {
   "cell_type": "code",
   "execution_count": 2,
   "id": "7b1abb7f",
   "metadata": {},
   "outputs": [
    {
     "data": {
      "text/plain": [
       "95"
      ]
     },
     "execution_count": 2,
     "metadata": {},
     "output_type": "execute_result"
    }
   ],
   "source": [
    "a[\"수학\"] #a에서 \"수학\" 키에 해당하는 값을 불러온다."
   ]
  },
  {
   "cell_type": "code",
   "execution_count": 3,
   "id": "2e351769",
   "metadata": {},
   "outputs": [
    {
     "data": {
      "text/plain": [
       "'홍길동'"
      ]
     },
     "execution_count": 3,
     "metadata": {},
     "output_type": "execute_result"
    }
   ],
   "source": [
    "a[\"이름\"] #a에서 \"이름\" 키에 해당하는 값을 불러온다."
   ]
  },
  {
   "cell_type": "code",
   "execution_count": 4,
   "id": "d193989e",
   "metadata": {},
   "outputs": [
    {
     "data": {
      "text/plain": [
       "dict_keys(['이름', '국어', '영어', '수학'])"
      ]
     },
     "execution_count": 4,
     "metadata": {},
     "output_type": "execute_result"
    }
   ],
   "source": [
    "a.keys() #에서 \"이름\" 키에 해당하는 값을 불러온다."
   ]
  },
  {
   "cell_type": "code",
   "execution_count": 5,
   "id": "83cb26c7",
   "metadata": {},
   "outputs": [
    {
     "data": {
      "text/plain": [
       "dict_values(['홍길동', 100, 88, 95])"
      ]
     },
     "execution_count": 5,
     "metadata": {},
     "output_type": "execute_result"
    }
   ],
   "source": [
    "a.values() #a의 값(value)들을 반환"
   ]
  },
  {
   "cell_type": "code",
   "execution_count": 6,
   "id": "da3a8648",
   "metadata": {},
   "outputs": [
    {
     "data": {
      "text/plain": [
       "dict_items([('이름', '홍길동'), ('국어', 100), ('영어', 88), ('수학', 95)])"
      ]
     },
     "execution_count": 6,
     "metadata": {},
     "output_type": "execute_result"
    }
   ],
   "source": [
    "a.items()\n",
    "#딕셔너리 a의 키-값 쌍(key-value pairs)을 (key, value) 형태의 튜플로 묶은 값을 반환"
   ]
  },
  {
   "cell_type": "code",
   "execution_count": 7,
   "id": "787e18a9",
   "metadata": {},
   "outputs": [],
   "source": [
    "a={\"이름\":\"홍길동\", \"국어\":100, \"영어\":88, \"수학\": 95}\n",
    "# a의 items() 메서드를 이용하여 key와 value를 쌍으로 출력하는 코드"
   ]
  },
  {
   "cell_type": "code",
   "execution_count": 8,
   "id": "325dbe39",
   "metadata": {},
   "outputs": [
    {
     "name": "stdout",
     "output_type": "stream",
     "text": [
      "('이름', '홍길동'),('국어', 100),('영어', 88),('수학', 95),"
     ]
    }
   ],
   "source": [
    "for i in a.items():\n",
    "#for문을 사용하여 딕셔너리 a의 각 아이템에 대해 반복\n",
    "    print (i,end=\",\")\n",
    "    #a.items()는 딕셔너리 a의 키-값 쌍을 포함하는 dict_items 객체를 반환"
   ]
  },
  {
   "cell_type": "code",
   "execution_count": 9,
   "id": "e723f605",
   "metadata": {},
   "outputs": [
    {
     "name": "stdout",
     "output_type": "stream",
     "text": [
      "이름,국어,영어,수학,"
     ]
    }
   ],
   "source": [
    "for i in a.keys():\n",
    "#for문을 사용하여 딕셔너리 a의 각 키에 대해 반복\n",
    "    print (i,end=\",\")\n",
    "    #a.keys()는 딕셔너리 a의 키들을 포함하는 dict_keys 객체를 반환"
   ]
  },
  {
   "cell_type": "code",
   "execution_count": 10,
   "id": "4a4ae3b3",
   "metadata": {},
   "outputs": [
    {
     "name": "stdout",
     "output_type": "stream",
     "text": [
      "홍길동,100,88,95,"
     ]
    }
   ],
   "source": [
    "for i in a.values():\n",
    "    #for문을 사용하여 딕셔너리 a의 각 값에 대해 반복\n",
    "    print (i,end=\",\")\n",
    "    #. a.values()는 딕셔너리 a의 값들을 포함하는 dict_values 객체를 반환"
   ]
  },
  {
   "cell_type": "code",
   "execution_count": 11,
   "id": "9f899f7d",
   "metadata": {},
   "outputs": [],
   "source": [
    "a={\"이름\":\"홍길동\", \"국어\":100, \"영어\":88, \"수학\": 95}\n",
    "# a의 items() 메서드를 이용하여 key와 value를 쌍으로 출력하는 코드"
   ]
  },
  {
   "cell_type": "code",
   "execution_count": 12,
   "id": "fa83bfe3",
   "metadata": {},
   "outputs": [
    {
     "name": "stdout",
     "output_type": "stream",
     "text": [
      "None\n"
     ]
    }
   ],
   "source": [
    "print(a.get(\"과학\"))\n",
    "#딕셔너리 a에서 \"과학\" 키에 대응하는 값을 찾아서 반환\n",
    "#근데 과학에 대해 대응하는 키가 없으므로 None출력"
   ]
  },
  {
   "cell_type": "code",
   "execution_count": 13,
   "id": "3a0cd089",
   "metadata": {},
   "outputs": [
    {
     "name": "stdout",
     "output_type": "stream",
     "text": [
      "없는과목입니다\n"
     ]
    }
   ],
   "source": [
    "print(a.get(\"과학\",\"없는과목입니다\"))\n",
    "#딕셔너리 a에서 \"과학\" 키에 대응하는 값을 찾아서 반환\n",
    "#get()은 해당 키의 값을 검색하며 없는 경우의 출력내용을 지정 가능"
   ]
  },
  {
   "cell_type": "code",
   "execution_count": 14,
   "id": "03c7e921",
   "metadata": {},
   "outputs": [
    {
     "name": "stdout",
     "output_type": "stream",
     "text": [
      "95\n"
     ]
    }
   ],
   "source": [
    "print(a.get(\"수학\",\"없는과목입니다\"))\n",
    "#딕셔너리 a에서 \"수학\" 키에 대응하는 값을 찾아서 반환"
   ]
  },
  {
   "cell_type": "code",
   "execution_count": 15,
   "id": "7686bc89",
   "metadata": {},
   "outputs": [
    {
     "name": "stdout",
     "output_type": "stream",
     "text": [
      "{'안': 1, '녕': 1, '하': 1, '셔': 1, '요': 3, '.': 2, ' ': 42, '오': 1, '늘': 1, '은': 2, '날': 1, '씨': 1, '가': 2, '매': 2, '우': 2, '화': 1, '창': 1, '합': 1, '니': 1, '다': 1, '\\n': 2, '그': 1, '래': 1, '서': 1, '기': 2, '분': 2, '이': 2, '좋': 2, '네': 1, '너': 1, '도': 1, '랄': 3, '라': 7, 'a': 1, 'b': 1, 'c': 1, '임': 1, '마': 1}\n"
     ]
    }
   ],
   "source": [
    "text=\"\"\"안녕하셔요. 오늘은 날씨가 매우 화창합니다. \n",
    "그래서 기분이 매우 좋네요\n",
    "너도 기분이 좋은가요 랄라랄랄라라라라라라 abc임마\"\"\" \n",
    "a=dict()   #하나의 딕셔너리 자료형을 정의\n",
    "for c in text:   #위에 정의한 텍스트를 하나씩 추출하여 처리\n",
    "    if c not in a:  #해당 추출글자가 지금까지의 딕셔너리에 없다면 \n",
    "        a[c]=1      #그때는 최초 1값으로 시작\n",
    "    else:           #이 경우는 해당 추출글자의 딕셔너리가 있다 \n",
    "        a[c] +=1    #그럼  해당 딕셔너리 키에 해당되는 값을 하나더함\n",
    "print(a)"
   ]
  },
  {
   "cell_type": "code",
   "execution_count": 16,
   "id": "6bf63373",
   "metadata": {},
   "outputs": [
    {
     "name": "stdout",
     "output_type": "stream",
     "text": [
      "{'\\n': 2, ' ': 42, '.': 2, 'a': 1, 'b': 1, 'c': 1, '가': 2, '그': 1, '기': 2, '날': 1, '너': 1, '네': 1, '녕': 1, '늘': 1, '니': 1, '다': 1, '도': 1, '라': 7, '랄': 3, '래': 1, '마': 1, '매': 2, '분': 2, '서': 1, '셔': 1, '씨': 1, '안': 1, '오': 1, '요': 3, '우': 2, '은': 2, '이': 2, '임': 1, '좋': 2, '창': 1, '하': 1, '합': 1, '화': 1}\n"
     ]
    }
   ],
   "source": [
    "#아래서 부터는 보기 힘드니 각 글자(키)를 소트해 본다 \n",
    "b=dict()          #딕셔너리 하나 더 정의\n",
    "l=list(a.keys())  #앞에 딕서너리에 키만 뽑아 리스트를 만듦 \n",
    "l.sort()          #해당 리스트 소트\n",
    "for c in l:       #각 리스트에 대하여 (결국 키값) 하나씩 뽑음 \n",
    "    b[c]=a[c]     # 새로운 딕셔너리는 키값 순서데로 다시 만듦\n",
    "print(b)"
   ]
  },
  {
   "cell_type": "code",
   "execution_count": 17,
   "id": "8f7b878e",
   "metadata": {},
   "outputs": [],
   "source": [
    "a={1,2,2,2,2,3,3,3,4,5} # 중복을 허용하지 않는 set a를생성"
   ]
  },
  {
   "cell_type": "code",
   "execution_count": 18,
   "id": "4462af56",
   "metadata": {},
   "outputs": [
    {
     "data": {
      "text/plain": [
       "{1, 2, 3, 4, 5}"
      ]
     },
     "execution_count": 18,
     "metadata": {},
     "output_type": "execute_result"
    }
   ],
   "source": [
    "a #a 출력"
   ]
  },
  {
   "cell_type": "code",
   "execution_count": 19,
   "id": "19a58a74",
   "metadata": {},
   "outputs": [
    {
     "data": {
      "text/plain": [
       "{1, 2, 'a'}"
      ]
     },
     "execution_count": 19,
     "metadata": {},
     "output_type": "execute_result"
    }
   ],
   "source": [
    "set((\"a\",1,2))\n",
    "#(\"a\",1,2)를 tuple로 가지는 set을 생성."
   ]
  },
  {
   "cell_type": "code",
   "execution_count": 20,
   "id": "d87cb7c1",
   "metadata": {},
   "outputs": [
    {
     "data": {
      "text/plain": [
       "{'a'}"
      ]
     },
     "execution_count": 20,
     "metadata": {},
     "output_type": "execute_result"
    }
   ],
   "source": [
    "set(\"a\") #a라는 문자열을 구성하는 각 문자를 원소로 가지는 set을 생성"
   ]
  },
  {
   "cell_type": "code",
   "execution_count": 21,
   "id": "1de3e581",
   "metadata": {},
   "outputs": [
    {
     "data": {
      "text/plain": [
       "{'국어', '수학', '영어', '이름'}"
      ]
     },
     "execution_count": 21,
     "metadata": {},
     "output_type": "execute_result"
    }
   ],
   "source": [
    "set({\"이름\":\"홍길동\", \"국어\":100, \"영어\":88, \"수학\": 95})\n",
    "#dictionary를 set으로 변환할 경우, key값만 set에 담긴다."
   ]
  },
  {
   "cell_type": "code",
   "execution_count": 22,
   "id": "7270d64f",
   "metadata": {},
   "outputs": [],
   "source": [
    "a={1,2,3,4,5} # set 객체를 생성"
   ]
  },
  {
   "cell_type": "code",
   "execution_count": 23,
   "id": "da0919b9",
   "metadata": {},
   "outputs": [
    {
     "data": {
      "text/plain": [
       "{1, 2, 3, 4, 5}"
      ]
     },
     "execution_count": 23,
     "metadata": {},
     "output_type": "execute_result"
    }
   ],
   "source": [
    "a #a출력"
   ]
  },
  {
   "cell_type": "code",
   "execution_count": 24,
   "id": "043f02ad",
   "metadata": {},
   "outputs": [],
   "source": [
    "a.add(0) #set에 새로운 원소 0을 추가"
   ]
  },
  {
   "cell_type": "code",
   "execution_count": 25,
   "id": "9e721238",
   "metadata": {},
   "outputs": [
    {
     "data": {
      "text/plain": [
       "{0, 1, 2, 3, 4, 5}"
      ]
     },
     "execution_count": 25,
     "metadata": {},
     "output_type": "execute_result"
    }
   ],
   "source": [
    "a #a출력"
   ]
  },
  {
   "cell_type": "code",
   "execution_count": 26,
   "id": "8d672f80",
   "metadata": {},
   "outputs": [],
   "source": [
    "a.add(2.4) #set에 새로운 원소 2.4를 추가"
   ]
  },
  {
   "cell_type": "code",
   "execution_count": 27,
   "id": "c7dc3a3b",
   "metadata": {},
   "outputs": [
    {
     "data": {
      "text/plain": [
       "{0, 1, 2, 2.4, 3, 4, 5}"
      ]
     },
     "execution_count": 27,
     "metadata": {},
     "output_type": "execute_result"
    }
   ],
   "source": [
    "a#a출력"
   ]
  },
  {
   "cell_type": "code",
   "execution_count": 28,
   "id": "f12f2b39",
   "metadata": {},
   "outputs": [],
   "source": [
    "a.remove(3) #set에서 원소 3을 삭제"
   ]
  },
  {
   "cell_type": "code",
   "execution_count": 29,
   "id": "49c8be2a",
   "metadata": {},
   "outputs": [
    {
     "data": {
      "text/plain": [
       "{0, 1, 2, 2.4, 4, 5}"
      ]
     },
     "execution_count": 29,
     "metadata": {},
     "output_type": "execute_result"
    }
   ],
   "source": [
    "a #a출력"
   ]
  },
  {
   "cell_type": "code",
   "execution_count": 30,
   "id": "cae9905a",
   "metadata": {},
   "outputs": [],
   "source": [
    "A={1,2,3,4,5,6,7} #A라는 이름으로 {1,2,3,4,5,6,7} 집합을 생성"
   ]
  },
  {
   "cell_type": "code",
   "execution_count": 31,
   "id": "3a12374b",
   "metadata": {},
   "outputs": [],
   "source": [
    "B={7,8,9,10} #B라는 이름으로 {7,8,9,10} 집합을 생성"
   ]
  },
  {
   "cell_type": "code",
   "execution_count": 32,
   "id": "229e3fb5",
   "metadata": {},
   "outputs": [
    {
     "data": {
      "text/plain": [
       "{1, 2, 3, 4, 5, 6, 7, 8, 9, 10}"
      ]
     },
     "execution_count": 32,
     "metadata": {},
     "output_type": "execute_result"
    }
   ],
   "source": [
    "A|B \n",
    "# A와 B의 합집합을 구한다. \n",
    "#따라서 {1,2,3,4,5,6,7} ∪ {7,8,9,10} = {1,2,3,4,5,6,7,8,9,10}"
   ]
  },
  {
   "cell_type": "code",
   "execution_count": 33,
   "id": "faa3e004",
   "metadata": {},
   "outputs": [
    {
     "data": {
      "text/plain": [
       "{7}"
      ]
     },
     "execution_count": 33,
     "metadata": {},
     "output_type": "execute_result"
    }
   ],
   "source": [
    "A&B\n",
    "#A와 B의 교집합을 구한다. 따라서 {1,2,3,4,5,6,7} ∩ {7,8,9,10} = {7} "
   ]
  },
  {
   "cell_type": "code",
   "execution_count": 34,
   "id": "f45c35a5",
   "metadata": {},
   "outputs": [
    {
     "data": {
      "text/plain": [
       "{1, 2, 3, 4, 5, 6}"
      ]
     },
     "execution_count": 34,
     "metadata": {},
     "output_type": "execute_result"
    }
   ],
   "source": [
    "A-B\n",
    "# A와 B의 차집합을 구한다. \n",
    "#따라서 {1,2,3,4,5,6,7} - {7,8,9,10} = {1,2,3,4,5,6} 이 됩니다."
   ]
  },
  {
   "cell_type": "code",
   "execution_count": 35,
   "id": "726f2c34",
   "metadata": {},
   "outputs": [
    {
     "data": {
      "text/plain": [
       "False"
      ]
     },
     "execution_count": 35,
     "metadata": {},
     "output_type": "execute_result"
    }
   ],
   "source": [
    "{1,2,3} < {1,2}\n",
    "#첫번째 집합은 두번째 집합보다 작으므로 False"
   ]
  },
  {
   "cell_type": "code",
   "execution_count": 36,
   "id": "63a07afa",
   "metadata": {},
   "outputs": [
    {
     "data": {
      "text/plain": [
       "True"
      ]
     },
     "execution_count": 36,
     "metadata": {},
     "output_type": "execute_result"
    }
   ],
   "source": [
    "{1,2,3} > {1,2}\n",
    "#첫번째 집합은 두번째 집합보다 크므로 True"
   ]
  },
  {
   "cell_type": "code",
   "execution_count": 37,
   "id": "5dea8aa2",
   "metadata": {},
   "outputs": [
    {
     "data": {
      "text/plain": [
       "True"
      ]
     },
     "execution_count": 37,
     "metadata": {},
     "output_type": "execute_result"
    }
   ],
   "source": [
    "{1,2,3} >= {1,2}\n",
    "#첫번째 집합은 두번째 집합보다 크거나 같으므로 True"
   ]
  },
  {
   "cell_type": "code",
   "execution_count": 38,
   "id": "c6034af8",
   "metadata": {},
   "outputs": [
    {
     "data": {
      "text/plain": [
       "False"
      ]
     },
     "execution_count": 38,
     "metadata": {},
     "output_type": "execute_result"
    }
   ],
   "source": [
    "{1,2,3} == {1,2}\n",
    "#첫번째 집합은 두번째 집합이 같지 않으므로 False"
   ]
  },
  {
   "cell_type": "code",
   "execution_count": 39,
   "id": "0629b755",
   "metadata": {},
   "outputs": [
    {
     "data": {
      "text/plain": [
       "True"
      ]
     },
     "execution_count": 39,
     "metadata": {},
     "output_type": "execute_result"
    }
   ],
   "source": [
    "{1,2,3} >= {3,1,2}\n",
    "#첫번째 집합은 두번째 집합이 같으므로 True"
   ]
  },
  {
   "cell_type": "code",
   "execution_count": 40,
   "id": "47a18adc",
   "metadata": {},
   "outputs": [
    {
     "data": {
      "text/plain": [
       "True"
      ]
     },
     "execution_count": 40,
     "metadata": {},
     "output_type": "execute_result"
    }
   ],
   "source": [
    "{1,2,3} == {3,1,2}\n",
    "#첫번째 집합은 두번째 집합이 같으므로 True"
   ]
  },
  {
   "cell_type": "code",
   "execution_count": 41,
   "id": "c62ed6f1",
   "metadata": {},
   "outputs": [],
   "source": [
    "a=[\"a\",\"b\",\"c\",\"d\",\"e\"]\n",
    "#a는 문자열로 이루어진 리스트"
   ]
  },
  {
   "cell_type": "code",
   "execution_count": 42,
   "id": "f84b32fd",
   "metadata": {},
   "outputs": [],
   "source": [
    "b={}\n",
    "#b는 빈 딕셔너리"
   ]
  },
  {
   "cell_type": "code",
   "execution_count": 44,
   "id": "27d07326",
   "metadata": {},
   "outputs": [],
   "source": [
    "for i in range (len(a)):\n",
    "#for 루프를 이용하여 리스트 a의 인덱스 범위인 range(len(a))를 순회하며 반복\n",
    "    b[i]=a[i]   #a는 리스트 b는 딕셔너리\n",
    "    #딕셔너리 b에 i를 키(key)로 갖고, \n",
    "    #리스트 a에서 인덱스 i에 해당하는 값을 값(value)으로 갖는 항목을 추가"
   ]
  },
  {
   "cell_type": "code",
   "execution_count": 45,
   "id": "fe13f696",
   "metadata": {},
   "outputs": [
    {
     "data": {
      "text/plain": [
       "{0: 'a', 1: 'b', 2: 'c', 3: 'd', 4: 'e'}"
      ]
     },
     "execution_count": 45,
     "metadata": {},
     "output_type": "execute_result"
    }
   ],
   "source": [
    "b #b출력"
   ]
  },
  {
   "cell_type": "code",
   "execution_count": 46,
   "id": "e002f3dc",
   "metadata": {},
   "outputs": [],
   "source": [
    "a=[\"a\",\"b\",\"c\",\"d\",\"e\"]\n",
    "#a라는 변수에 리스트 [\"a\",\"b\",\"c\",\"d\",\"e\"]를 할당"
   ]
  },
  {
   "cell_type": "code",
   "execution_count": 47,
   "id": "af683a22",
   "metadata": {},
   "outputs": [],
   "source": [
    "b=enumerate(a)  #여기까지는 중간단계\n",
    "#함수를 이용하여 리스트 a를 enumerate 객체로 만들고 변수 b에 할당"
   ]
  },
  {
   "cell_type": "code",
   "execution_count": 48,
   "id": "596104f1",
   "metadata": {},
   "outputs": [
    {
     "data": {
      "text/plain": [
       "<enumerate at 0x1c9f2acd740>"
      ]
     },
     "execution_count": 48,
     "metadata": {},
     "output_type": "execute_result"
    }
   ],
   "source": [
    "b\n",
    "#enumerate() 함수로 만들어진 enumerate 객체를 출력"
   ]
  },
  {
   "cell_type": "code",
   "execution_count": 49,
   "id": "07cf9429",
   "metadata": {},
   "outputs": [],
   "source": [
    "b=dict(enumerate(a)); c=list(enumerate(a)) #딕셔너리와 리스트를 만든다"
   ]
  },
  {
   "cell_type": "code",
   "execution_count": 50,
   "id": "77b003dd",
   "metadata": {},
   "outputs": [
    {
     "data": {
      "text/plain": [
       "{0: 'a', 1: 'b', 2: 'c', 3: 'd', 4: 'e'}"
      ]
     },
     "execution_count": 50,
     "metadata": {},
     "output_type": "execute_result"
    }
   ],
   "source": [
    "b #enumerate() 함수로 만들어진 enumerate 객체를 딕셔너리로 변환한 결과를 출력"
   ]
  },
  {
   "cell_type": "code",
   "execution_count": 51,
   "id": "ee5f2809",
   "metadata": {},
   "outputs": [
    {
     "data": {
      "text/plain": [
       "[(0, 'a'), (1, 'b'), (2, 'c'), (3, 'd'), (4, 'e')]"
      ]
     },
     "execution_count": 51,
     "metadata": {},
     "output_type": "execute_result"
    }
   ],
   "source": [
    "c #enumerate() 함수로 만들어진 enumerate 객체를 리스트로 변환한 결과를 출력"
   ]
  },
  {
   "cell_type": "code",
   "execution_count": 52,
   "id": "cbd951f1",
   "metadata": {},
   "outputs": [],
   "source": [
    "a={1,2,3,4,5,6,7,8}  #집합a"
   ]
  },
  {
   "cell_type": "code",
   "execution_count": 53,
   "id": "5c9858f4",
   "metadata": {},
   "outputs": [],
   "source": [
    "b={\"a\",\"b\",\"c\",\"d\",\"e\"} #집합b"
   ]
  },
  {
   "cell_type": "code",
   "execution_count": 54,
   "id": "6f98a494",
   "metadata": {},
   "outputs": [
    {
     "data": {
      "text/plain": [
       "<zip at 0x1c9f2ad4d00>"
      ]
     },
     "execution_count": 54,
     "metadata": {},
     "output_type": "execute_result"
    }
   ],
   "source": [
    "zip(a,b) #zip만으로는 단순히 object임\n",
    "#함수는 a와 b의 요소를 하나씩 묶어서 tuple 형태로 반환하는 iterator object를 반환"
   ]
  },
  {
   "cell_type": "code",
   "execution_count": 55,
   "id": "f199ab3b",
   "metadata": {},
   "outputs": [],
   "source": [
    "c=dict(zip(a,b));d=list(zip(a,b))\n",
    "#dict(zip(a,b)) 함수와 list(zip(a,b)) 함수를 사용하여 \n",
    "#a와 b의 요소를 하나씩 묶어서 tuple 형태로 반환하고, 이를 딕셔너리와 리스트로 변환"
   ]
  },
  {
   "cell_type": "code",
   "execution_count": 56,
   "id": "758619f6",
   "metadata": {},
   "outputs": [
    {
     "data": {
      "text/plain": [
       "{1: 'd', 2: 'a', 3: 'c', 4: 'e', 5: 'b'}"
      ]
     },
     "execution_count": 56,
     "metadata": {},
     "output_type": "execute_result"
    }
   ],
   "source": [
    "c #딕셔너리 c출력"
   ]
  },
  {
   "cell_type": "code",
   "execution_count": 57,
   "id": "5eb2073a",
   "metadata": {},
   "outputs": [
    {
     "data": {
      "text/plain": [
       "[(1, 'd'), (2, 'a'), (3, 'c'), (4, 'e'), (5, 'b')]"
      ]
     },
     "execution_count": 57,
     "metadata": {},
     "output_type": "execute_result"
    }
   ],
   "source": [
    "d #리스트 d출력"
   ]
  },
  {
   "cell_type": "code",
   "execution_count": 58,
   "id": "557531cb",
   "metadata": {},
   "outputs": [],
   "source": [
    "a=(1,2,3,4,5,6,7,8) #튜플a"
   ]
  },
  {
   "cell_type": "code",
   "execution_count": 59,
   "id": "dbe62138",
   "metadata": {},
   "outputs": [],
   "source": [
    "b=[\"a\",\"b\",\"c\",\"d\",\"e\"] #리스트 b"
   ]
  },
  {
   "cell_type": "code",
   "execution_count": 60,
   "id": "482e72a5",
   "metadata": {},
   "outputs": [],
   "source": [
    "c=dict(zip(a,b));d=list(zip(a,b))\n",
    "#dict(zip(a,b)) 함수와 list(zip(a,b)) 함수를 사용하여 \n",
    "#a와 b의 요소를 하나씩 묶어서 tuple 형태로 반환하고, 이를 딕셔너리와 리스트로 변환"
   ]
  },
  {
   "cell_type": "code",
   "execution_count": 61,
   "id": "1cc4d65d",
   "metadata": {},
   "outputs": [
    {
     "data": {
      "text/plain": [
       "{1: 'a', 2: 'b', 3: 'c', 4: 'd', 5: 'e'}"
      ]
     },
     "execution_count": 61,
     "metadata": {},
     "output_type": "execute_result"
    }
   ],
   "source": [
    "c #딕셔너리 c출력"
   ]
  },
  {
   "cell_type": "code",
   "execution_count": 62,
   "id": "8c82dc23",
   "metadata": {},
   "outputs": [
    {
     "data": {
      "text/plain": [
       "[(1, 'a'), (2, 'b'), (3, 'c'), (4, 'd'), (5, 'e')]"
      ]
     },
     "execution_count": 62,
     "metadata": {},
     "output_type": "execute_result"
    }
   ],
   "source": [
    "d #리스트 d출력"
   ]
  },
  {
   "cell_type": "code",
   "execution_count": 63,
   "id": "9de5e872",
   "metadata": {},
   "outputs": [
    {
     "name": "stdout",
     "output_type": "stream",
     "text": [
      "1\n",
      "2\n",
      "3\n",
      "4\n",
      "5\n",
      "6\n"
     ]
    }
   ],
   "source": [
    "def func(x): \n",
    "#함수 func(x)는 매개변수 x를 받는다.\n",
    "    return x/2\n",
    "    #x/2 값을 반환\n",
    "x=(1,2,3,4,5,6)   \n",
    "#x에는 (1, 2, 3, 4, 5, 6) 튜플이 저장\n",
    "for i in filter(func,x):  \n",
    "#for 반복문에서 filter(func, x)의 각 원소 i를 출력\n",
    "    print(i)\n",
    "    #filter함수는 인자가 하나여야함으로 반환 값이 아닌 x값이 출력"
   ]
  },
  {
   "cell_type": "code",
   "execution_count": 68,
   "id": "7a725ecc",
   "metadata": {},
   "outputs": [
    {
     "name": "stdout",
     "output_type": "stream",
     "text": [
      "8\n",
      "10\n",
      "12\n",
      "14\n",
      "16\n",
      "18\n"
     ]
    }
   ],
   "source": [
    "def func(x,y):\n",
    "    return x+y \n",
    "#함수 func는 인자 두 개를 받아서 더한 값을 반환\n",
    "x=(1,2,3,4,5,6) #튜플 x \n",
    "y=(7,8,9,10,11,12) #튜플 y \n",
    "#for i in filter(func,x,y): filter를 사용하면 에러 \n",
    "for i in map(func,x,y):\n",
    "#filter()와 달리 map()은 인자로 여러 개의 iterator를 받을 수 있으므로,\n",
    "#x와 y를 인자로 넘길 수 있다.\n",
    "    print(i)\n",
    "    #i출력\n",
    "    #x와 y의 각 원소들을 더한 값으로 이루어진 튜플 (8, 10, 12, 14, 16, 18)이 출력"
   ]
  },
  {
   "cell_type": "code",
   "execution_count": 69,
   "id": "50a0eb47",
   "metadata": {},
   "outputs": [
    {
     "name": "stdout",
     "output_type": "stream",
     "text": [
      "8\n",
      "10\n",
      "12\n",
      "14\n",
      "16\n",
      "18\n"
     ]
    }
   ],
   "source": [
    "x=(1,2,3,4,5,6) #x튜플 \n",
    "y=(7,8,9,10,11,12) #y튜플\n",
    "for i in map(lambda x,y:x+y, x,y):\n",
    "#for 반복문에서 map 함수의 결과를 반복하여 각각의 값을 출력\n",
    "# 리스트 x와 y의 같은 인덱스의 원소들을 더하는 lambda 함수를 이용하여 새로운 리스트를 생성하는 코드\n",
    "    print(i)\n",
    "    #i출력"
   ]
  },
  {
   "cell_type": "code",
   "execution_count": 104,
   "id": "c2a6220d",
   "metadata": {},
   "outputs": [],
   "source": [
    "a=[1,2,3] #리스트 [1, 2, 3]을 변수 a에 할당"
   ]
  },
  {
   "cell_type": "code",
   "execution_count": 105,
   "id": "c16badb2",
   "metadata": {},
   "outputs": [],
   "source": [
    "b=a #b도 a와 같은 리스트 객체를 참조"
   ]
  },
  {
   "cell_type": "code",
   "execution_count": 106,
   "id": "111e4340",
   "metadata": {},
   "outputs": [],
   "source": [
    "b[2]=5 #b리스트의 2번 인덱스 요소가 5로 변경"
   ]
  },
  {
   "cell_type": "code",
   "execution_count": 107,
   "id": "9fc2b3c9",
   "metadata": {},
   "outputs": [
    {
     "data": {
      "text/plain": [
       "[1, 2, 5]"
      ]
     },
     "execution_count": 107,
     "metadata": {},
     "output_type": "execute_result"
    }
   ],
   "source": [
    "a\n",
    "#a와 b가 동일한 리스트 객체를 참조하므로, a 리스트도 변경"
   ]
  },
  {
   "cell_type": "code",
   "execution_count": 108,
   "id": "c19c10ca",
   "metadata": {},
   "outputs": [
    {
     "data": {
      "text/plain": [
       "[1, 2, 5]"
      ]
     },
     "execution_count": 108,
     "metadata": {},
     "output_type": "execute_result"
    }
   ],
   "source": [
    "b\n",
    "#b 리스트 변경"
   ]
  },
  {
   "cell_type": "code",
   "execution_count": 109,
   "id": "5ef4a199",
   "metadata": {},
   "outputs": [],
   "source": [
    "b[1]=3 #b리스트의 1번 인덱스 요소가 3로 변경"
   ]
  },
  {
   "cell_type": "code",
   "execution_count": 110,
   "id": "e2af286c",
   "metadata": {},
   "outputs": [
    {
     "data": {
      "text/plain": [
       "[1, 3, 5]"
      ]
     },
     "execution_count": 110,
     "metadata": {},
     "output_type": "execute_result"
    }
   ],
   "source": [
    "a\n",
    "#a와 b가 동일한 리스트 객체를 참조하므로, a리스트도 변경"
   ]
  },
  {
   "cell_type": "code",
   "execution_count": 76,
   "id": "4114f1bf",
   "metadata": {},
   "outputs": [],
   "source": [
    "a=[1,2,3] #a라는 리스트를 생성하고, 그 안에 원소 [1, 2, 3]를 저장"
   ]
  },
  {
   "cell_type": "code",
   "execution_count": 77,
   "id": "f24994a1",
   "metadata": {},
   "outputs": [],
   "source": [
    "b=a[:] #b라는 리스트를 생성하고, a 리스트의 모든 요소들을 복사하여 저장"
   ]
  },
  {
   "cell_type": "code",
   "execution_count": 78,
   "id": "7ca0b977",
   "metadata": {},
   "outputs": [],
   "source": [
    "b[2]=5 #b 리스트의 인덱스 2에 해당하는 위치에 5를 할당"
   ]
  },
  {
   "cell_type": "code",
   "execution_count": 82,
   "id": "17462c12",
   "metadata": {},
   "outputs": [
    {
     "data": {
      "text/plain": [
       "[1, 2, 3]"
      ]
     },
     "execution_count": 82,
     "metadata": {},
     "output_type": "execute_result"
    }
   ],
   "source": [
    "a #a 리스트는 그대로 [1, 2, 3]이 출력"
   ]
  },
  {
   "cell_type": "code",
   "execution_count": 83,
   "id": "4d5d600d",
   "metadata": {},
   "outputs": [
    {
     "data": {
      "text/plain": [
       "[1, 2, 5]"
      ]
     },
     "execution_count": 83,
     "metadata": {},
     "output_type": "execute_result"
    }
   ],
   "source": [
    "b #b 리스트는 인덱스 2에 5를 할당하여 [1, 2, 5]가 출력"
   ]
  },
  {
   "cell_type": "code",
   "execution_count": 84,
   "id": "66d1f72c",
   "metadata": {},
   "outputs": [],
   "source": [
    "a=[1,2,3] #a라는 리스트를 생성하고, 그 안에 원소 [1, 2, 3]를 저장"
   ]
  },
  {
   "cell_type": "code",
   "execution_count": 85,
   "id": "4c168cc2",
   "metadata": {},
   "outputs": [],
   "source": [
    "b=a.copy() #b라는 리스트를 생성하고, a 리스트의 모든 요소들을 복사하여 저장"
   ]
  },
  {
   "cell_type": "code",
   "execution_count": 86,
   "id": "191e0178",
   "metadata": {},
   "outputs": [],
   "source": [
    "b[2]=5 #b 리스트의 인덱스 2에 해당하는 위치에 5를 할당"
   ]
  },
  {
   "cell_type": "code",
   "execution_count": 87,
   "id": "a6ae6a71",
   "metadata": {},
   "outputs": [
    {
     "data": {
      "text/plain": [
       "[1, 2, 3]"
      ]
     },
     "execution_count": 87,
     "metadata": {},
     "output_type": "execute_result"
    }
   ],
   "source": [
    "a #a 리스트는 그대로 [1, 2, 3]이 출력"
   ]
  },
  {
   "cell_type": "code",
   "execution_count": 88,
   "id": "6d495798",
   "metadata": {},
   "outputs": [
    {
     "data": {
      "text/plain": [
       "[1, 2, 5]"
      ]
     },
     "execution_count": 88,
     "metadata": {},
     "output_type": "execute_result"
    }
   ],
   "source": [
    "b #b 리스트는 인덱스 2에 5를 할당하여 [1, 2, 5]가 출력"
   ]
  },
  {
   "cell_type": "code",
   "execution_count": 90,
   "id": "eba0210a",
   "metadata": {},
   "outputs": [],
   "source": [
    "a=[[1,2],3,4] #a 리스트에 [1,2],3,4가 저장"
   ]
  },
  {
   "cell_type": "code",
   "execution_count": 91,
   "id": "75be771e",
   "metadata": {},
   "outputs": [],
   "source": [
    "b=a.copy() #a의 내용을 복사하여 b에 저장"
   ]
  },
  {
   "cell_type": "code",
   "execution_count": 92,
   "id": "0c638a14",
   "metadata": {},
   "outputs": [
    {
     "data": {
      "text/plain": [
       "[[1, 2], 3, 4]"
      ]
     },
     "execution_count": 92,
     "metadata": {},
     "output_type": "execute_result"
    }
   ],
   "source": [
    "b #b 리스트를 출력"
   ]
  },
  {
   "cell_type": "code",
   "execution_count": 93,
   "id": "126b4c71",
   "metadata": {},
   "outputs": [],
   "source": [
    "b[0][1]=3 #b 리스트의 0번째 리스트의 1번째 원소를 3으로 변경"
   ]
  },
  {
   "cell_type": "code",
   "execution_count": 94,
   "id": "e5f9bec7",
   "metadata": {},
   "outputs": [
    {
     "data": {
      "text/plain": [
       "[[1, 3], 3, 4]"
      ]
     },
     "execution_count": 94,
     "metadata": {},
     "output_type": "execute_result"
    }
   ],
   "source": [
    "b #b 리스트를 출력"
   ]
  },
  {
   "cell_type": "code",
   "execution_count": 95,
   "id": "22d559a2",
   "metadata": {},
   "outputs": [
    {
     "data": {
      "text/plain": [
       "[[1, 3], 3, 4]"
      ]
     },
     "execution_count": 95,
     "metadata": {},
     "output_type": "execute_result"
    }
   ],
   "source": [
    "a #a 리스트를 출력\n",
    "#컬렉션안에 컬렉션이 있는경우 copy만으로 2레벨이상의\n",
    "#리스트까지 복사되지 않는다"
   ]
  },
  {
   "cell_type": "code",
   "execution_count": 96,
   "id": "886814a4",
   "metadata": {},
   "outputs": [],
   "source": [
    "a=[[1,2],3,4] #a 리스트에 [1,2],3,4가 저장"
   ]
  },
  {
   "cell_type": "code",
   "execution_count": 97,
   "id": "24290f8f",
   "metadata": {},
   "outputs": [],
   "source": [
    "b=a[:] #a의 내용을 복사하여 b에 저장"
   ]
  },
  {
   "cell_type": "code",
   "execution_count": 98,
   "id": "11064005",
   "metadata": {},
   "outputs": [
    {
     "data": {
      "text/plain": [
       "[[1, 2], 3, 4]"
      ]
     },
     "execution_count": 98,
     "metadata": {},
     "output_type": "execute_result"
    }
   ],
   "source": [
    "b #b 리스트를 출력"
   ]
  },
  {
   "cell_type": "code",
   "execution_count": 99,
   "id": "2d8107ba",
   "metadata": {},
   "outputs": [],
   "source": [
    "b[0][1]=3 #b 리스트의 0번째 리스트의 1번째 원소를 3으로 변경"
   ]
  },
  {
   "cell_type": "code",
   "execution_count": 100,
   "id": "0cebf103",
   "metadata": {},
   "outputs": [
    {
     "data": {
      "text/plain": [
       "[[1, 3], 3, 4]"
      ]
     },
     "execution_count": 100,
     "metadata": {},
     "output_type": "execute_result"
    }
   ],
   "source": [
    "a #a 리스트를 출력\n",
    "#컬렉션안에 컬렉션이 있는경우 copy만으로 2레벨이상의\n",
    "#리스트까지 복사되지 않는다"
   ]
  },
  {
   "cell_type": "code",
   "execution_count": 101,
   "id": "8a8ba215",
   "metadata": {},
   "outputs": [
    {
     "name": "stdout",
     "output_type": "stream",
     "text": [
      "[[1, 2], 3, 4] [[1, 3], 3, 4]\n"
     ]
    }
   ],
   "source": [
    "import copy as c \n",
    "#copy 모듈을 c라는 이름으로 import\n",
    "a=[[1,2],3,4]\n",
    "#a 변수에 3개의 요소를 갖는 리스트를 할당\n",
    "b=c.deepcopy(a) \n",
    "#copy 모듈의 deepcopy() 함수를 사용하여 a를 복사하여 b에 할당\n",
    "b[0][1]=3 #b의 첫 번째 요소의 두 번째 값을 3으로 변경\n",
    "print(a,b)# a와 b를 출력"
   ]
  },
  {
   "cell_type": "code",
   "execution_count": null,
   "id": "5ee01621",
   "metadata": {},
   "outputs": [],
   "source": []
  }
 ],
 "metadata": {
  "kernelspec": {
   "display_name": "Python 3 (ipykernel)",
   "language": "python",
   "name": "python3"
  },
  "language_info": {
   "codemirror_mode": {
    "name": "ipython",
    "version": 3
   },
   "file_extension": ".py",
   "mimetype": "text/x-python",
   "name": "python",
   "nbconvert_exporter": "python",
   "pygments_lexer": "ipython3",
   "version": "3.8.8rc1"
  }
 },
 "nbformat": 4,
 "nbformat_minor": 5
}
