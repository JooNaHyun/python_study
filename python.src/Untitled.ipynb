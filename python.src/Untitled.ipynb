{
 "cells": [
  {
   "cell_type": "code",
   "execution_count": 8,
   "id": "be490642",
   "metadata": {},
   "outputs": [
    {
     "data": {
      "text/plain": [
       "3"
      ]
     },
     "execution_count": 8,
     "metadata": {},
     "output_type": "execute_result"
    }
   ],
   "source": [
    "1+2 #1+2연산을 한다"
   ]
  },
  {
   "cell_type": "code",
   "execution_count": 7,
   "id": "d06ea039",
   "metadata": {},
   "outputs": [
    {
     "data": {
      "text/plain": [
       "7"
      ]
     },
     "execution_count": 7,
     "metadata": {},
     "output_type": "execute_result"
    }
   ],
   "source": [
    "3+4 #3+4 연산을 한다."
   ]
  },
  {
   "cell_type": "code",
   "execution_count": 9,
   "id": "ccdb5d46",
   "metadata": {},
   "outputs": [
    {
     "data": {
      "text/plain": [
       "12"
      ]
     },
     "execution_count": 9,
     "metadata": {},
     "output_type": "execute_result"
    }
   ],
   "source": [
    "5+7 #5+7 연산을 한다."
   ]
  },
  {
   "cell_type": "code",
   "execution_count": 15,
   "id": "e4c7bb9e",
   "metadata": {},
   "outputs": [],
   "source": [
    "net = 100 #net에 100할당"
   ]
  },
  {
   "cell_type": "code",
   "execution_count": 16,
   "id": "831d3784",
   "metadata": {},
   "outputs": [],
   "source": [
    "qty = 1000 #qty에 1000할당"
   ]
  },
  {
   "cell_type": "code",
   "execution_count": 17,
   "id": "40a918c8",
   "metadata": {},
   "outputs": [],
   "source": [
    "total =net * qty # total에 net * qty연산한 값 할당"
   ]
  },
  {
   "cell_type": "code",
   "execution_count": 18,
   "id": "35dd41dd",
   "metadata": {},
   "outputs": [
    {
     "name": "stdout",
     "output_type": "stream",
     "text": [
      "100000\n"
     ]
    }
   ],
   "source": [
    "print (total) #total 출력"
   ]
  },
  {
   "cell_type": "code",
   "execution_count": 1,
   "id": "f61d1b4d",
   "metadata": {},
   "outputs": [],
   "source": [
    "a = [1,2,3,3,4,4,5,6,7,7,7,7,8] #리스트 a 정의"
   ]
  },
  {
   "cell_type": "code",
   "execution_count": 2,
   "id": "791bdf75",
   "metadata": {},
   "outputs": [
    {
     "data": {
      "text/plain": [
       "1"
      ]
     },
     "execution_count": 2,
     "metadata": {},
     "output_type": "execute_result"
    }
   ],
   "source": [
    "min(a)"
   ]
  },
  {
   "cell_type": "code",
   "execution_count": 3,
   "id": "26eb194b",
   "metadata": {},
   "outputs": [
    {
     "data": {
      "text/plain": [
       "8"
      ]
     },
     "execution_count": 3,
     "metadata": {},
     "output_type": "execute_result"
    }
   ],
   "source": [
    "max(a)"
   ]
  },
  {
   "cell_type": "code",
   "execution_count": 4,
   "id": "01f1d912",
   "metadata": {},
   "outputs": [
    {
     "data": {
      "text/plain": [
       "13"
      ]
     },
     "execution_count": 4,
     "metadata": {},
     "output_type": "execute_result"
    }
   ],
   "source": [
    "len(a)"
   ]
  },
  {
   "cell_type": "code",
   "execution_count": 5,
   "id": "6228f4ec",
   "metadata": {},
   "outputs": [
    {
     "data": {
      "text/plain": [
       "3"
      ]
     },
     "execution_count": 5,
     "metadata": {},
     "output_type": "execute_result"
    }
   ],
   "source": [
    " 1+2"
   ]
  },
  {
   "cell_type": "code",
   "execution_count": 1,
   "id": "f0ad1019",
   "metadata": {},
   "outputs": [
    {
     "data": {
      "text/plain": [
       "3"
      ]
     },
     "execution_count": 1,
     "metadata": {},
     "output_type": "execute_result"
    }
   ],
   "source": [
    "round(3.14)\n",
    "#3.14를 반올림하면 3"
   ]
  },
  {
   "cell_type": "code",
   "execution_count": 2,
   "id": "b38f9dc5",
   "metadata": {},
   "outputs": [
    {
     "data": {
      "text/plain": [
       "3.1"
      ]
     },
     "execution_count": 2,
     "metadata": {},
     "output_type": "execute_result"
    }
   ],
   "source": [
    "round(3.14,1)\n",
    "#3,14를 소수 첫째짜리까지 반올림하면 3.1"
   ]
  },
  {
   "cell_type": "code",
   "execution_count": 3,
   "id": "a2902bfd",
   "metadata": {},
   "outputs": [
    {
     "data": {
      "text/plain": [
       "120000"
      ]
     },
     "execution_count": 3,
     "metadata": {},
     "output_type": "execute_result"
    }
   ],
   "source": [
    "round(123456,-4)\n",
    "#123456을 넷째자리까지 반올림하면 120000"
   ]
  },
  {
   "cell_type": "code",
   "execution_count": null,
   "id": "b6e20cbc",
   "metadata": {},
   "outputs": [],
   "source": []
  }
 ],
 "metadata": {
  "kernelspec": {
   "display_name": "Python 3 (ipykernel)",
   "language": "python",
   "name": "python3"
  },
  "language_info": {
   "codemirror_mode": {
    "name": "ipython",
    "version": 3
   },
   "file_extension": ".py",
   "mimetype": "text/x-python",
   "name": "python",
   "nbconvert_exporter": "python",
   "pygments_lexer": "ipython3",
   "version": "3.8.8rc1"
  }
 },
 "nbformat": 4,
 "nbformat_minor": 5
}
