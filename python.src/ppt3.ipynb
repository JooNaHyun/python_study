{
 "cells": [
  {
   "cell_type": "code",
   "execution_count": 1,
   "id": "82e52335",
   "metadata": {},
   "outputs": [],
   "source": [
    "a=10 #a에 10을 할당"
   ]
  },
  {
   "cell_type": "code",
   "execution_count": 2,
   "id": "ad95d99f",
   "metadata": {},
   "outputs": [],
   "source": [
    "b=1200 #b에 1200을 할당"
   ]
  },
  {
   "cell_type": "code",
   "execution_count": 3,
   "id": "f08fc6d3",
   "metadata": {},
   "outputs": [],
   "source": [
    "c=+1200 #c에 +1200을 할당"
   ]
  },
  {
   "cell_type": "code",
   "execution_count": 4,
   "id": "0cceba90",
   "metadata": {},
   "outputs": [],
   "source": [
    "d=-1234 #d에 -1234을 할당"
   ]
  },
  {
   "cell_type": "code",
   "execution_count": 5,
   "id": "d9b7f983",
   "metadata": {},
   "outputs": [
    {
     "name": "stdout",
     "output_type": "stream",
     "text": [
      "a= 10  b= 1200  c= 1200  d= -1234\n"
     ]
    }
   ],
   "source": [
    "print(\"a=\",a ,\" b=\",b ,\" c=\",c, \" d=\",d) #a,b,c,d값 출력"
   ]
  },
  {
   "cell_type": "code",
   "execution_count": 6,
   "id": "5a7076c9",
   "metadata": {},
   "outputs": [],
   "source": [
    "a=21098134232408921340891340984312089423089341208943120934120894312089\n",
    "#a에 값 할당"
   ]
  },
  {
   "cell_type": "code",
   "execution_count": 7,
   "id": "f52a4563",
   "metadata": {},
   "outputs": [],
   "source": [
    "b=234412307893421789078903455107893412093412089341208934120894320893421\n",
    "#b에 값 할당"
   ]
  },
  {
   "cell_type": "code",
   "execution_count": 8,
   "id": "89051ea3",
   "metadata": {},
   "outputs": [
    {
     "name": "stdout",
     "output_type": "stream",
     "text": [
      "a+b= 255510442125830710419794796092205501516501430550152055055015215205510\n"
     ]
    }
   ],
   "source": [
    "print(\"a+b=\", a+b) #a+b연산한 값 출력"
   ]
  },
  {
   "cell_type": "code",
   "execution_count": 9,
   "id": "8156f85a",
   "metadata": {},
   "outputs": [
    {
     "name": "stdout",
     "output_type": "stream",
     "text": [
      "a*b= 4945662337664182251045508647662854964228779292407290431545377548887919021506299614458775856747962183641984855519033366861090951680866469\n"
     ]
    }
   ],
   "source": [
    "print(\"a*b=\", a*b) #a*b연산한 값 출력"
   ]
  },
  {
   "cell_type": "code",
   "execution_count": 10,
   "id": "d38adfd0",
   "metadata": {},
   "outputs": [
    {
     "data": {
      "text/plain": [
       "2"
      ]
     },
     "execution_count": 10,
     "metadata": {},
     "output_type": "execute_result"
    }
   ],
   "source": [
    "0b010 #1010을 2진수하면 10"
   ]
  },
  {
   "cell_type": "code",
   "execution_count": 11,
   "id": "7ada9431",
   "metadata": {},
   "outputs": [
    {
     "data": {
      "text/plain": [
       "15"
      ]
     },
     "execution_count": 11,
     "metadata": {},
     "output_type": "execute_result"
    }
   ],
   "source": [
    "0b1111 #1111을 2진수하면 15"
   ]
  },
  {
   "cell_type": "code",
   "execution_count": 12,
   "id": "e93e4f3f",
   "metadata": {},
   "outputs": [
    {
     "data": {
      "text/plain": [
       "1"
      ]
     },
     "execution_count": 12,
     "metadata": {},
     "output_type": "execute_result"
    }
   ],
   "source": [
    "0b0001 #0001 2진수하면 1"
   ]
  },
  {
   "cell_type": "code",
   "execution_count": 13,
   "id": "a2d77b62",
   "metadata": {},
   "outputs": [
    {
     "ename": "SyntaxError",
     "evalue": "invalid digit '2' in binary literal (Temp/ipykernel_17420/3157589824.py, line 1)",
     "output_type": "error",
     "traceback": [
      "\u001b[1;36m  File \u001b[1;32m\"C:\\Users\\ASUS\\AppData\\Local\\Temp/ipykernel_17420/3157589824.py\"\u001b[1;36m, line \u001b[1;32m1\u001b[0m\n\u001b[1;33m    0b0201 #2진수는 1과0으로 이루어져있기 때문에 오류가 난다.\u001b[0m\n\u001b[1;37m       ^\u001b[0m\n\u001b[1;31mSyntaxError\u001b[0m\u001b[1;31m:\u001b[0m invalid digit '2' in binary literal\n"
     ]
    }
   ],
   "source": [
    "0b0201 #2진수는 1과0으로 이루어져있기 때문에 오류가 난다."
   ]
  },
  {
   "cell_type": "code",
   "execution_count": 14,
   "id": "2d3bf44c",
   "metadata": {},
   "outputs": [
    {
     "data": {
      "text/plain": [
       "16"
      ]
     },
     "execution_count": 14,
     "metadata": {},
     "output_type": "execute_result"
    }
   ],
   "source": [
    "0x10 #10을 10진수로하면 16 "
   ]
  },
  {
   "cell_type": "code",
   "execution_count": 15,
   "id": "1776a764",
   "metadata": {},
   "outputs": [
    {
     "data": {
      "text/plain": [
       "26"
      ]
     },
     "execution_count": 15,
     "metadata": {},
     "output_type": "execute_result"
    }
   ],
   "source": [
    "0x1a #1a을 10진수로하면 26 "
   ]
  },
  {
   "cell_type": "code",
   "execution_count": 16,
   "id": "7e7b517c",
   "metadata": {},
   "outputs": [
    {
     "data": {
      "text/plain": [
       "47"
      ]
     },
     "execution_count": 16,
     "metadata": {},
     "output_type": "execute_result"
    }
   ],
   "source": [
    "0x2f #2f을 10진수로하면 47 "
   ]
  },
  {
   "cell_type": "code",
   "execution_count": 17,
   "id": "f8761ed0",
   "metadata": {},
   "outputs": [
    {
     "ename": "SyntaxError",
     "evalue": "invalid syntax (Temp/ipykernel_17420/709393718.py, line 1)",
     "output_type": "error",
     "traceback": [
      "\u001b[1;36m  File \u001b[1;32m\"C:\\Users\\ASUS\\AppData\\Local\\Temp/ipykernel_17420/709393718.py\"\u001b[1;36m, line \u001b[1;32m1\u001b[0m\n\u001b[1;33m    0x3z #z는 유효한 수가 아니므로 오류가 난다.\u001b[0m\n\u001b[1;37m       ^\u001b[0m\n\u001b[1;31mSyntaxError\u001b[0m\u001b[1;31m:\u001b[0m invalid syntax\n"
     ]
    }
   ],
   "source": [
    "0x3z #z는 유효한 수가 아니므로 오류가 난다."
   ]
  },
  {
   "cell_type": "code",
   "execution_count": 18,
   "id": "b5caad01",
   "metadata": {},
   "outputs": [
    {
     "name": "stdout",
     "output_type": "stream",
     "text": [
      "0xc\n",
      "0o26\n",
      "0b100001\n"
     ]
    }
   ],
   "source": [
    "print(hex(12));print(oct(22));print(bin(33))\n",
    "#12를 16진수로 변환한 값 출력; 22를 8진수로 변환한 값 출력;\n",
    "#33을 2진수로 변환한 값 출력"
   ]
  },
  {
   "cell_type": "code",
   "execution_count": 19,
   "id": "fbb5181c",
   "metadata": {},
   "outputs": [
    {
     "data": {
      "text/plain": [
       "1.2131232417683412e+32"
      ]
     },
     "execution_count": 19,
     "metadata": {},
     "output_type": "execute_result"
    }
   ],
   "source": [
    "9.46e12 + 121312324176834127678963412341298"
   ]
  },
  {
   "cell_type": "code",
   "execution_count": 28,
   "id": "0f3d1b67",
   "metadata": {},
   "outputs": [
    {
     "ename": "SyntaxError",
     "evalue": "invalid syntax (Temp/ipykernel_17420/3504523559.py, line 1)",
     "output_type": "error",
     "traceback": [
      "\u001b[1;36m  File \u001b[1;32m\"C:\\Users\\ASUS\\AppData\\Local\\Temp/ipykernel_17420/3504523559.py\"\u001b[1;36m, line \u001b[1;32m1\u001b[0m\n\u001b[1;33m    a=1+2i\u001b[0m\n\u001b[1;37m         ^\u001b[0m\n\u001b[1;31mSyntaxError\u001b[0m\u001b[1;31m:\u001b[0m invalid syntax\n"
     ]
    }
   ],
   "source": [
    "a=1+2i\n",
    "#실제 복소수는 1+2i 와 같이 허수부분이 i로 표현하나\n",
    "#파이썬에서는 j를 사용하는 것에 유의해야 한다"
   ]
  },
  {
   "cell_type": "code",
   "execution_count": 23,
   "id": "39a5567d",
   "metadata": {},
   "outputs": [],
   "source": [
    "a=1+2j #a에 1+2j값 할당"
   ]
  },
  {
   "cell_type": "code",
   "execution_count": 22,
   "id": "5af534f8",
   "metadata": {},
   "outputs": [],
   "source": [
    "b=1-2j #b에 1-2j값 할당"
   ]
  },
  {
   "cell_type": "code",
   "execution_count": 24,
   "id": "869b1699",
   "metadata": {},
   "outputs": [
    {
     "name": "stdout",
     "output_type": "stream",
     "text": [
      "(2+0j) (5+0j)\n"
     ]
    }
   ],
   "source": [
    "print(a+b, a*b)\n",
    "#a+b한 값과 a*b한 값을 출력(복소수 연산)"
   ]
  },
  {
   "cell_type": "code",
   "execution_count": 25,
   "id": "77224cc3",
   "metadata": {},
   "outputs": [],
   "source": [
    "a=\"aaa\" #a 변수에 문자열 \"aaa\"를 할당"
   ]
  },
  {
   "cell_type": "code",
   "execution_count": 26,
   "id": "980dcc1c",
   "metadata": {},
   "outputs": [],
   "source": [
    "b=\"bbb\" #b 변수에 문자열 \"bbb\"를 할당"
   ]
  },
  {
   "cell_type": "code",
   "execution_count": 27,
   "id": "e461a3a7",
   "metadata": {},
   "outputs": [
    {
     "data": {
      "text/plain": [
       "'aaabbb'"
      ]
     },
     "execution_count": 27,
     "metadata": {},
     "output_type": "execute_result"
    }
   ],
   "source": [
    "a+b #a+b는 두 문자열을 이어붙인 결과를 반환"
   ]
  },
  {
   "cell_type": "code",
   "execution_count": 29,
   "id": "4f113b28",
   "metadata": {},
   "outputs": [
    {
     "ename": "TypeError",
     "evalue": "can't multiply sequence by non-int of type 'str'",
     "output_type": "error",
     "traceback": [
      "\u001b[1;31m---------------------------------------------------------------------------\u001b[0m",
      "\u001b[1;31mTypeError\u001b[0m                                 Traceback (most recent call last)",
      "\u001b[1;32m~\\AppData\\Local\\Temp/ipykernel_17420/3507077656.py\u001b[0m in \u001b[0;36m<module>\u001b[1;34m\u001b[0m\n\u001b[1;32m----> 1\u001b[1;33m \u001b[0ma\u001b[0m\u001b[1;33m*\u001b[0m\u001b[0mb\u001b[0m\u001b[1;33m\u001b[0m\u001b[1;33m\u001b[0m\u001b[0m\n\u001b[0m",
      "\u001b[1;31mTypeError\u001b[0m: can't multiply sequence by non-int of type 'str'"
     ]
    }
   ],
   "source": [
    "a*b #문자열과 숫자 사이의 곱셈 연산은 정의되어 있지 않으므로 오류가 난다."
   ]
  },
  {
   "cell_type": "code",
   "execution_count": 30,
   "id": "8f7cc4e5",
   "metadata": {},
   "outputs": [
    {
     "data": {
      "text/plain": [
       "'aaaaaaaaa'"
      ]
     },
     "execution_count": 30,
     "metadata": {},
     "output_type": "execute_result"
    }
   ],
   "source": [
    "a*3 #a를 3번 반복한 결과를 반환"
   ]
  },
  {
   "cell_type": "code",
   "execution_count": 31,
   "id": "4551fe5c",
   "metadata": {},
   "outputs": [
    {
     "data": {
      "text/plain": [
       "'bbbbbbbbbbbbbbb'"
      ]
     },
     "execution_count": 31,
     "metadata": {},
     "output_type": "execute_result"
    }
   ],
   "source": [
    "b*5 #b를 5번 반복한 결과를 반환"
   ]
  },
  {
   "cell_type": "code",
   "execution_count": 32,
   "id": "660a7116",
   "metadata": {},
   "outputs": [
    {
     "name": "stdout",
     "output_type": "stream",
     "text": [
      "호랑이가    \"떡하나    주면    안잡아    먹지\" 라고    말했습니다.\n"
     ]
    }
   ],
   "source": [
    "print ('호랑이가    \"떡하나    주면    안잡아    먹지\" 라고    말했습니다.')"
   ]
  },
  {
   "cell_type": "code",
   "execution_count": 33,
   "id": "15a61fda",
   "metadata": {},
   "outputs": [
    {
     "name": "stdout",
     "output_type": "stream",
     "text": [
      " 호랑이가    \"떡하나    주면    안잡아    먹지\" 라고    말했습니다.\n"
     ]
    }
   ],
   "source": [
    "print (\" 호랑이가    \\\"떡하나    주면    안잡아    먹지\\\" 라고    말했습니다.\")"
   ]
  },
  {
   "cell_type": "code",
   "execution_count": 34,
   "id": "ac358a38",
   "metadata": {},
   "outputs": [
    {
     "name": "stdout",
     "output_type": "stream",
     "text": [
      "호랑이가 \"떡하나 주면 안잡아 먹지\" 라고 말했습니다.\n"
     ]
    }
   ],
   "source": [
    "print ('호랑이가 \"떡하나 주면 안잡아 먹지\" 라고 말했습니다.')\n",
    "#작은 따옴표로 묶인 문자열 내부에서 큰 따옴표를 사용할 수 있다."
   ]
  },
  {
   "cell_type": "code",
   "execution_count": 35,
   "id": "a0d6d23d",
   "metadata": {},
   "outputs": [
    {
     "name": "stdout",
     "output_type": "stream",
     "text": [
      " 호랑이가 \"떡하나 주면 안잡아 먹지\" 라고 말했습니다.\n"
     ]
    }
   ],
   "source": [
    "print (\" 호랑이가 \\\"떡하나 주면 안잡아 먹지\\\" 라고 말했습니다.\")\n",
    "#큰 따옴표로 묶인 문자열 내부에서 큰 따옴표를 사용할 수 있다. \n",
    "#그런데 큰 따옴표 앞에 \\를 사용하여 이스케이프(escape) 처리해야 한다."
   ]
  },
  {
   "cell_type": "code",
   "execution_count": 36,
   "id": "39d07d92",
   "metadata": {},
   "outputs": [
    {
     "name": "stdout",
     "output_type": "stream",
     "text": [
      "I say \"I Love You\"\n"
     ]
    }
   ],
   "source": [
    "print (\"I say \\\"I Love You\\\"\")\n",
    "#큰 따옴표로 묶인 문자열 내부에서 큰 따옴표를 사용할 수 있다. \n",
    "#그런데 큰 따옴표 앞에 \\를 사용하여 이스케이프(escape) 처리해야 한다."
   ]
  },
  {
   "cell_type": "code",
   "execution_count": 37,
   "id": "96e26eb8",
   "metadata": {},
   "outputs": [
    {
     "ename": "SyntaxError",
     "evalue": "invalid syntax (Temp/ipykernel_17420/3569410550.py, line 1)",
     "output_type": "error",
     "traceback": [
      "\u001b[1;36m  File \u001b[1;32m\"C:\\Users\\ASUS\\AppData\\Local\\Temp/ipykernel_17420/3569410550.py\"\u001b[1;36m, line \u001b[1;32m1\u001b[0m\n\u001b[1;33m    (\"I say \"I Love You\"\")\u001b[0m\n\u001b[1;37m             ^\u001b[0m\n\u001b[1;31mSyntaxError\u001b[0m\u001b[1;31m:\u001b[0m invalid syntax\n"
     ]
    }
   ],
   "source": [
    "(\"I say \"I Love You\"\")\n",
    "#큰 따옴표로 묶인 문자열 내부에서 큰 따옴표를 사용할 때는 \n",
    "#큰 따옴표 앞에 \\를 사용하여 이스케이프(escape) 처리해야 하는데\n",
    "#안 했으므로 오류가 난다."
   ]
  },
  {
   "cell_type": "code",
   "execution_count": 38,
   "id": "98e26ac6",
   "metadata": {},
   "outputs": [
    {
     "name": "stdout",
     "output_type": "stream",
     "text": [
      "오늘    열심히    파이썬을    공부했습니다. \n",
      "내일도    열심히    파이썬을    공부할    것입니다.\n",
      "그래서    일등할    것입니다\n"
     ]
    }
   ],
   "source": [
    "print(\"\"\"오늘    열심히    파이썬을    공부했습니다. \n",
    "내일도    열심히    파이썬을    공부할    것입니다.\n",
    "그래서    일등할    것입니다\"\"\")"
   ]
  },
  {
   "cell_type": "code",
   "execution_count": 39,
   "id": "ee650c11",
   "metadata": {},
   "outputs": [
    {
     "ename": "SyntaxError",
     "evalue": "EOL while scanning string literal (Temp/ipykernel_17420/1461238480.py, line 1)",
     "output_type": "error",
     "traceback": [
      "\u001b[1;36m  File \u001b[1;32m\"C:\\Users\\ASUS\\AppData\\Local\\Temp/ipykernel_17420/1461238480.py\"\u001b[1;36m, line \u001b[1;32m1\u001b[0m\n\u001b[1;33m    print(\"오늘    열심히    파이썬을    공부했습니다. \\\u001b[0m\n\u001b[1;37m                                          ^\u001b[0m\n\u001b[1;31mSyntaxError\u001b[0m\u001b[1;31m:\u001b[0m EOL while scanning string literal\n"
     ]
    }
   ],
   "source": [
    "print(\"오늘    열심히    파이썬을    공부했습니다. \\ \n",
    "내일도    열심히    파이썬을    공부할    것입니다. \\ \n",
    "그래서    일등할    것입니다\")"
   ]
  },
  {
   "cell_type": "code",
   "execution_count": 40,
   "id": "f8adb936",
   "metadata": {},
   "outputs": [
    {
     "name": "stdout",
     "output_type": "stream",
     "text": [
      "오늘 열심히 파이썬을 공부했습니다. \n",
      "내일도 열심히 파이썬을 공부할 것입니다.\n",
      "그래서 일등할 것입니다\n"
     ]
    }
   ],
   "source": [
    "print(\"\"\"오늘 열심히 파이썬을 공부했습니다. \n",
    "내일도 열심히 파이썬을 공부할 것입니다.\n",
    "그래서 일등할 것입니다\"\"\")\n",
    "#세 개의 따옴표를 연속해서 입력하고,\n",
    "#그 안에 문자열을 입력한 뒤 다시 세 개의 따옴표를 입력한다. \n",
    "#이렇게 하면 줄바꿈을 포함한 여러 줄의 문자열을 한 번에 출력할 수 있다."
   ]
  },
  {
   "cell_type": "code",
   "execution_count": 43,
   "id": "21be007e",
   "metadata": {},
   "outputs": [
    {
     "name": "stdout",
     "output_type": "stream",
     "text": [
      "오늘 열심히 파이썬을 공부했습니다. 내일도 열심히 파이썬을 공부할 것입니다. 그래서 일등할 것입니다\n"
     ]
    }
   ],
   "source": [
    "print(\"오늘 열심히 파이썬을 공부했습니다. \\\n",
    "내일도 열심히 파이썬을 공부할 것입니다. \\\n",
    "그래서 일등할 것입니다\")\n",
    "#\\ 기호를 사용하여 문자열을 여러 줄로 나눠서 입력할 수 있다. \n",
    "#이 경우에는 \\ 다음에 공백이 있으면 안된다."
   ]
  },
  {
   "cell_type": "code",
   "execution_count": 44,
   "id": "da666a2d",
   "metadata": {},
   "outputs": [],
   "source": [
    "a = \"오늘은\" \"즐거운\" \"일요일\"#작은 문자열을 나열하여 사용할 수 있다."
   ]
  },
  {
   "cell_type": "code",
   "execution_count": 45,
   "id": "6b4785fc",
   "metadata": {},
   "outputs": [
    {
     "name": "stdout",
     "output_type": "stream",
     "text": [
      "오늘은즐거운일요일\n"
     ]
    }
   ],
   "source": [
    "print (a) #a를 출력"
   ]
  },
  {
   "cell_type": "code",
   "execution_count": 46,
   "id": "5d6f6dd0",
   "metadata": {},
   "outputs": [
    {
     "name": "stdout",
     "output_type": "stream",
     "text": [
      "오늘 열심히 파이썬을 공부했습니다. \n",
      "내일도 열심히 파이썬을 공부할 것입니다. \n",
      "그래서 일등할 것입니다\n"
     ]
    }
   ],
   "source": [
    "print(\"오늘 열심히 파이썬을 공부했습니다. \\n\" \n",
    "\"내일도 열심히 파이썬을 공부할 것입니다. \\n\"\n",
    "\"그래서 일등할 것입니다\")# \\n 줄바꿈 처리해서 출력\n"
   ]
  },
  {
   "cell_type": "code",
   "execution_count": 47,
   "id": "226750db",
   "metadata": {},
   "outputs": [],
   "source": [
    "a = True #a에 true(1)을 할당"
   ]
  },
  {
   "cell_type": "code",
   "execution_count": 48,
   "id": "3ffa3b47",
   "metadata": {},
   "outputs": [],
   "source": [
    "b = False #bdp false(0)을 할당"
   ]
  },
  {
   "cell_type": "code",
   "execution_count": 49,
   "id": "703e0bfe",
   "metadata": {},
   "outputs": [
    {
     "data": {
      "text/plain": [
       "False"
      ]
     },
     "execution_count": 49,
     "metadata": {},
     "output_type": "execute_result"
    }
   ],
   "source": [
    "a and b # and는 둘다 true일 때만 ture이므로 false"
   ]
  },
  {
   "cell_type": "code",
   "execution_count": 50,
   "id": "625548b3",
   "metadata": {},
   "outputs": [
    {
     "data": {
      "text/plain": [
       "True"
      ]
     },
     "execution_count": 50,
     "metadata": {},
     "output_type": "execute_result"
    }
   ],
   "source": [
    "a or b # or은 둘 중 하나만 true여도 ture이므로 true"
   ]
  },
  {
   "cell_type": "code",
   "execution_count": 51,
   "id": "857f9f8e",
   "metadata": {},
   "outputs": [
    {
     "data": {
      "text/plain": [
       "True"
      ]
     },
     "execution_count": 51,
     "metadata": {},
     "output_type": "execute_result"
    }
   ],
   "source": [
    "a and not b #b가 not이면 true이고 true and true는 true이므로 true"
   ]
  },
  {
   "cell_type": "code",
   "execution_count": 52,
   "id": "9d07dcaa",
   "metadata": {},
   "outputs": [],
   "source": [
    "a= 0 #a에 0(false할당)"
   ]
  },
  {
   "cell_type": "code",
   "execution_count": 53,
   "id": "bfee5ddb",
   "metadata": {},
   "outputs": [],
   "source": [
    " b = a==0 #a가 0과 같으면 true이므로 true"
   ]
  },
  {
   "cell_type": "code",
   "execution_count": 54,
   "id": "9f45f8d9",
   "metadata": {},
   "outputs": [
    {
     "data": {
      "text/plain": [
       "True"
      ]
     },
     "execution_count": 54,
     "metadata": {},
     "output_type": "execute_result"
    }
   ],
   "source": [
    "b #b는 true"
   ]
  },
  {
   "cell_type": "code",
   "execution_count": 55,
   "id": "bd5f0855",
   "metadata": {},
   "outputs": [],
   "source": [
    "a = True #a에 true(1)을 할당"
   ]
  },
  {
   "cell_type": "code",
   "execution_count": 56,
   "id": "9a423df8",
   "metadata": {},
   "outputs": [],
   "source": [
    "b = False #bdp false(0)을 할당"
   ]
  },
  {
   "cell_type": "code",
   "execution_count": 57,
   "id": "ea195fb6",
   "metadata": {},
   "outputs": [
    {
     "name": "stdout",
     "output_type": "stream",
     "text": [
      "참\n"
     ]
    }
   ],
   "source": [
    "if 1 > 2 and a and b or b or a:\n",
    "#1이 2보다 크지 않으므로 false\n",
    "#false and true는 false\n",
    "#false and fasle는 false\n",
    "#false or false는 false\n",
    "#false or true는 true\n",
    "    print (\"참\") #true면 참\n",
    "else:#flase면\n",
    "    print (\"거짓\")#거짓"
   ]
  },
  {
   "cell_type": "code",
   "execution_count": 58,
   "id": "5d0b1f79",
   "metadata": {},
   "outputs": [],
   "source": [
    "rainbow = [\"빨\",\"주\",\"노\",\"초\",\"파\",\"남\",\"보\"] \n",
    "#rainbow라는 리스트를 생성해서 [\"빨\",\"주\",\"노\",\"초\",\"파\",\"남\",\"보\"] 할당"
   ]
  },
  {
   "cell_type": "code",
   "execution_count": 59,
   "id": "9205363e",
   "metadata": {},
   "outputs": [
    {
     "name": "stdout",
     "output_type": "stream",
     "text": [
      "['빨', '주', '노', '초', '파', '남', '보']\n"
     ]
    }
   ],
   "source": [
    " print(rainbow)#rainbow 출력"
   ]
  },
  {
   "cell_type": "code",
   "execution_count": 63,
   "id": "1504efaf",
   "metadata": {},
   "outputs": [],
   "source": [
    "rainbow = [\"빨강\",\"주황\",\"노랑\",\"초록\",\"파랑\",\"남\",\"보라\"] \n",
    "#rainbow라는 리스트에[\"빨강\",\"주황\",\"노랑\",\"초록\",\"파랑\",\"남\",\"보라\"]\n",
    "#할당"
   ]
  },
  {
   "cell_type": "code",
   "execution_count": 64,
   "id": "6427a977",
   "metadata": {},
   "outputs": [
    {
     "name": "stdout",
     "output_type": "stream",
     "text": [
      "빨강 색\n",
      "주황 색\n",
      "노랑 색\n",
      "초록 색\n",
      "파랑 색\n",
      "남 색\n",
      "보라 색\n"
     ]
    }
   ],
   "source": [
    "for color in rainbow :\n",
    "#\"for\" 루프를 사용하여 리스트의 각 요소를 순회하면서 \n",
    "    print ( color, \"색\")\n",
    "    #색 이름 뒤에 \"색\"을 붙여 출력"
   ]
  },
  {
   "cell_type": "code",
   "execution_count": 65,
   "id": "ff4ac966",
   "metadata": {},
   "outputs": [],
   "source": [
    "rainbow = (\"빨강\",\"주황\",\"노랑\",\"초록\",\"파랑\",\"남\",\"보라\")\n",
    "#rainbow라는 튜플에(\"빨강\",\"주황\",\"노랑\",\"초록\",\"파랑\",\"남\",\"보라\")할당\n",
    "#튜플은 내용을 바꿀 수 없으며, [ ]대신 ( )로표시함"
   ]
  },
  {
   "cell_type": "code",
   "execution_count": 66,
   "id": "8231a136",
   "metadata": {},
   "outputs": [
    {
     "name": "stdout",
     "output_type": "stream",
     "text": [
      "빨강 색\n",
      "주황 색\n",
      "노랑 색\n",
      "초록 색\n",
      "파랑 색\n",
      "남 색\n",
      "보라 색\n"
     ]
    }
   ],
   "source": [
    "for color in rainbow :\n",
    "#\"for\" 루프를 사용하여 튜플의 각 요소를 순회하면서 \n",
    "    print ( color, \"색\")\n",
    "    #색 이름 뒤에 \"색\"을 붙여 출력"
   ]
  },
  {
   "cell_type": "code",
   "execution_count": null,
   "id": "9f21e8b7",
   "metadata": {},
   "outputs": [],
   "source": []
  }
 ],
 "metadata": {
  "kernelspec": {
   "display_name": "Python 3 (ipykernel)",
   "language": "python",
   "name": "python3"
  },
  "language_info": {
   "codemirror_mode": {
    "name": "ipython",
    "version": 3
   },
   "file_extension": ".py",
   "mimetype": "text/x-python",
   "name": "python",
   "nbconvert_exporter": "python",
   "pygments_lexer": "ipython3",
   "version": "3.9.7"
  }
 },
 "nbformat": 4,
 "nbformat_minor": 5
}
